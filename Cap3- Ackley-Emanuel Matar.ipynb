{
 "cells": [
  {
   "cell_type": "markdown",
   "metadata": {},
   "source": [
    "<center>\n",
    "    \n",
    "# Test de Algoritmos vía Función de Ackley\n",
    "## Optimización 2020 - FaMAFyC\n",
    "### Emanuel Matar    "
   ]
  },
  {
   "cell_type": "markdown",
   "metadata": {},
   "source": [
    "En la presente notebook procederemos a implementar los algoritmos del *Capítulo 3* del libro *Algorithms for Optimization* de *Kochenderfer* y *Wheeler* aplicados a la función de *Ackley* (propuesta por *David Ackley* en su tesis doctoral en el año 1987, utilizada frecuentemente como un problema de prueba de rendimiento para algoritmos de optimización) en la curva identidad del espacio $\\mathbb{R}^2$. Para ello primero introduciremos la función y los algoritmos para una posterior implementación de los mismos. "
   ]
  },
  {
   "cell_type": "markdown",
   "metadata": {},
   "source": [
    "<center>\n",
    "    \n",
    "## Los algoritmos: Bracketing\n",
    "Implementaremos algoritmos de *bracketing* presentados en el *Capítulo 3* del libro *Algorithms for Optimization* de *Kochenderfer* y *Wheeler*, los mismos son métodos que se aplican a funciones de una sola variable identificando\n",
    "un intervalo en el que se encuentra un mínimo local y luego reduciendo sucesivamente el\n",
    "intervalo. Varios de los algotimos que presentaremos a continuación requieren que la función objetivo $f$ sea *unimodal*, esto es, existe un único $x^∗$ talque $f$ es monótonamente decreciente para $x ≤ x^*$ y monótonamente creciente para\n",
    "$x ≥ x^*$ (de donde se deduce que el único mínimo global está en $x^∗$,y no hay otros mínimos locales)"
   ]
  },
  {
   "cell_type": "markdown",
   "metadata": {},
   "source": [
    "### Bracket Minimum \n",
    "Comenzando en un punto dado $x$, damos un paso en la dirección positiva. La distancia que tomamos es un hiperparámetro $s$. Luego buscamos en dirección cuesta abajo para encontrar un nuevo punto que exceda el punto más bajo. Con cada\n",
    "paso, expandimos el tamaño del paso por algún factor $k$, que es otro hiperparámetro.\n",
    "En este caso, tomamos nuestro punto inicial $x=0$, el tamaño de paso inicial $s=10^{-2}$ y el factor de expansión $k=2$ (se pueden especificar otros valores). Devuelve una tupla que contiene el nuevo intervalo $[a, b]$ en el cual está contenido el mínimo.\\\n",
    "A continuación está el programa de la función : "
   ]
  },
  {
   "cell_type": "code",
   "execution_count": 1,
   "metadata": {},
   "outputs": [
    {
     "data": {
      "text/plain": [
       "bracket_minimum (generic function with 2 methods)"
      ]
     },
     "execution_count": 1,
     "metadata": {},
     "output_type": "execute_result"
    }
   ],
   "source": [
    "\n",
    "function bracket_minimum(f, x=0; s=1e-2, k=2.0)\n",
    "a, ya = x, f(x)\n",
    "b, yb = a + s, f(a + s)\n",
    "if yb > ya\n",
    "a, b = b, a\n",
    "ya, yb = yb, ya\n",
    "s = -s\n",
    "end\n",
    "while true\n",
    "c, yc = b + s, f(b + s)\n",
    "if yc > yb\n",
    "return a < c ? (a, c) : (c, a)\n",
    "end\n",
    "a, ya, b, yb = b, yb, c, yc\n",
    "s *= k\n",
    "end\n",
    "end"
   ]
  },
  {
   "cell_type": "markdown",
   "metadata": {},
   "source": [
    "### Fibonacci Search\n",
    "Para este algoritmo necesitamos $f$ *unimodal* y definida en un intervalo cerrado $[a,b]$, y además suponemos que podemos consultar los valores de la función objetivo una canitdad limitada de veces, tomamos un valor de $\\varepsilon$ y nuestros sucesivos intervalos estarán dadas por $I_{i-k}=F_{k+1}I_i-F_{k-1}\\varepsilon$ donde los $F_k, k\\in\\mathbb{N}\\cup \\lbrace 0 \\rbrace$, son los términos de la sucesión de *Fibonacci*.\\\n",
    "El proframa de la función `fibonacci_search` se presenta a continuación"
   ]
  },
  {
   "cell_type": "code",
   "execution_count": 2,
   "metadata": {},
   "outputs": [
    {
     "data": {
      "text/plain": [
       "fibonacci_search (generic function with 1 method)"
      ]
     },
     "execution_count": 2,
     "metadata": {},
     "output_type": "execute_result"
    }
   ],
   "source": [
    "#Definimos el valor de φ pues lo vamos a utilizar \n",
    "φ=(1+√5)/2\n",
    "function fibonacci_search(f, a, b, n; ϵ=0.01)\n",
    "s = (1-√5)/(1+√5)\n",
    "ρ = 1 / (φ*(1-s^(n+1))/(1-s^n))\n",
    "d = ρ*b + (1-ρ)*a\n",
    "yd = f(d)\n",
    "for i in 1 : n-1\n",
    "if i == n-1\n",
    "c = ϵ*a + (1-ϵ)*d\n",
    "else\n",
    "c = ρ*a + (1-ρ)*b\n",
    "end\n",
    "yc = f(c)\n",
    "if yc < yd\n",
    "b, d, yd = d, c, yc\n",
    "else\n",
    "a, b = b, c\n",
    "end\n",
    "ρ = 1 / (φ*(1-s^(n-i+1))/(1-s^(n-i)))\n",
    "end\n",
    "return a < b ? (a, b) : (b, a)\n",
    "end"
   ]
  },
  {
   "cell_type": "markdown",
   "metadata": {},
   "source": [
    "### Golden Section Search\n",
    "En este algoritmo se utiliza la el *número (o radio) áureo* para aproximar a la búsqueda obtenida en `fibonacci_search` puesto que se tiene:\\\n",
    "$$\\lim_{n\\rightarrow\\infty}\\frac{F_n}{F_{n-1}}=\\varphi$$\\\n",
    "La siguiente celda contiene el programa de la función `golden_section_search`"
   ]
  },
  {
   "cell_type": "code",
   "execution_count": 3,
   "metadata": {},
   "outputs": [
    {
     "data": {
      "text/plain": [
       "golden_section_search (generic function with 1 method)"
      ]
     },
     "execution_count": 3,
     "metadata": {},
     "output_type": "execute_result"
    }
   ],
   "source": [
    "function golden_section_search(f, a, b, n)\n",
    "ρ = φ-1\n",
    "d = ρ * b + (1 - ρ)*a\n",
    "yd = f(d)\n",
    "for i = 1 : n-1\n",
    "c = ρ*a + (1 - ρ)*b\n",
    "yc = f(c)\n",
    "if yc < yd\n",
    "b, d, yd = d, c, yc\n",
    "else\n",
    "a, b = b, c\n",
    "end\n",
    "end\n",
    "return a < b ? (a, b) : (b, a)\n",
    "end"
   ]
  },
  {
   "cell_type": "markdown",
   "metadata": {},
   "source": [
    "### Quadratic Fit Search\n",
    "Este método se nutre de  nuestra capacidad para resolver analíticamente el mínimo de una función cuadrática. Muchos mínimos locales se asemejan a funciones cuadráticas cuando estamos lo sufucientemente *cerca*. La búsqueda de ajuste cuadrático ajusta iterativamente una función cuadrática a tres puntos , resuelve el mínimo, elige un nuevo conjunto de puntos, y repite"
   ]
  },
  {
   "cell_type": "code",
   "execution_count": 4,
   "metadata": {},
   "outputs": [
    {
     "data": {
      "text/plain": [
       "quadratic_fit_search (generic function with 1 method)"
      ]
     },
     "execution_count": 4,
     "metadata": {},
     "output_type": "execute_result"
    }
   ],
   "source": [
    "function quadratic_fit_search(f, a, b, c, n)\n",
    "ya, yb, yc = f(a), f(b), f(c)\n",
    "for i in 1:n-3\n",
    "x = 0.5*(ya*(b^2-c^2)+yb*(c^2-a^2)+yc*(a^2-b^2)) /\n",
    "(ya*(b-c) +yb*(c-a) +yc*(a-b))\n",
    "yx = f(x)\n",
    "if x > b\n",
    "if yx > yb\n",
    "c, yc = x, yx\n",
    "else\n",
    "a, ya, b, yb = b, yb, x, yx\n",
    "end\n",
    "elseif x < b\n",
    "if yx > yb\n",
    "a, ya = x, yx\n",
    "else\n",
    "c, yc, b, yb = b, yb, x, yx\n",
    "end\n",
    "end\n",
    "end\n",
    "return (a, b, c)\n",
    "end"
   ]
  },
  {
   "cell_type": "markdown",
   "metadata": {},
   "source": [
    "### Shubert-Piyavskii\n",
    "A diferencia de los métodos anteriores, el *método Shubert-Piyavskii* es un método de *optimización global* sobre un dominio $[a, b]$, lo que significa que está garantizada la convergencia en el mínimo global de una función independientemente de la existencia de cualquier mínimo local o si la función objetivo es unimodal.\n",
    "El método Shubert-Piyavskii requiere que la función sea de *Lipschitz*, es decir, que es continuo y \"hay un límite superior en la magnitud de su derivada\". Una función $f$ es Lipschitz sobre $[a, b]$ si existe un $K> 0$ tal que:\\\n",
    "$$| f (x) - f (y) | ≤ K | x - y |$ $\\forall  x, y \\in [a, b]$$\\\n",
    "Este algoritmo nos devuelte tanto una aproximación a al punto mínimo como un intervalo de incertidumbre.\n",
    "Una implementación básica,`shubert_piyavskii`, está provista por el siguiente algoritmo.  "
   ]
  },
  {
   "cell_type": "code",
   "execution_count": 5,
   "metadata": {},
   "outputs": [
    {
     "data": {
      "text/plain": [
       "shubert_piyavskii (generic function with 1 method)"
      ]
     },
     "execution_count": 5,
     "metadata": {},
     "output_type": "execute_result"
    }
   ],
   "source": [
    "struct Ppt\n",
    "x\n",
    "y\n",
    "end\n",
    "function _get_sp_intersection(A, B, l)\n",
    "t = ((A.y - B.y) - l*(A.x - B.x)) / 2l\n",
    "return Ppt(A.x + t, A.y - t*l)\n",
    "end\n",
    "function shubert_piyavskii(f, a, b, l, ϵ, d)\n",
    "m = (a+b)/2\n",
    "A, M, B = Ppt(a, f(a)), Ppt(m, f(m)), Ppt(b, f(b))\n",
    "pts = [A, _get_sp_intersection(A, M, l),\n",
    "M, _get_sp_intersection(M, B, l), B]\n",
    "Δ = Inf\n",
    "while Δ > ϵ\n",
    "i = argmin([P.y for P in pts])\n",
    "P = Ppt(pts[i].x, f(pts[i].x))\n",
    "Δ = P.y - pts[i].y\n",
    "P_prev = _get_sp_intersection(pts[i-1], P, l)\n",
    "P_next = _get_sp_intersection(P, pts[i+1], l)\n",
    "deleteat!(pts, i)\n",
    "insert!(pts, i, P_next)\n",
    "insert!(pts, i, P)\n",
    "insert!(pts, i, P_prev)\n",
    "end\n",
    "intervals = []\n",
    "i = 2*(argmin([P.y for P in pts[1:2:end]])) - 1\n",
    "for j in 2:2:length(pts)\n",
    "if pts[j].y < pts[i].y\n",
    "dy = pts[i].y - pts[j].y\n",
    "x_lo = max(a, pts[j].x - dy/l)\n",
    "x_hi = min(b, pts[j].x + dy/l)\n",
    "if !isempty(intervals) && intervals[end][2] + d ≥ x_lo\n",
    "intervals[end] = (intervals[end][1], x_hi)\n",
    "else\n",
    "push!(intervals, (x_lo, x_hi))\n",
    "end\n",
    "end\n",
    "end\n",
    "return (pts[i], intervals)\n",
    "end"
   ]
  },
  {
   "cell_type": "code",
   "execution_count": 6,
   "metadata": {},
   "outputs": [],
   "source": [
    "struct Pt\n",
    "    xy\n",
    "end"
   ]
  },
  {
   "cell_type": "markdown",
   "metadata": {},
   "source": [
    "### Bisección \n",
    "En este caso, lo aplicaremos a la *derivada* de la función objetivo $f'$ . El método de `bisección`requiere que la función $f'$ sea continua sobre todo el intervalo $[a,b]$ y busca raíces de la misma, pues en un mínimo local $x^*$ vale $f'(x^*)=0$. Luego, queda verificar que el punto en cuestión sea, en verdad, un mínimo. No obstante, este algoritmo nos devuelve un intervalo en el cual debiera estar contenido nuestro mínimo.\n"
   ]
  },
  {
   "cell_type": "code",
   "execution_count": 7,
   "metadata": {},
   "outputs": [
    {
     "data": {
      "text/plain": [
       "bisection (generic function with 1 method)"
      ]
     },
     "execution_count": 7,
     "metadata": {},
     "output_type": "execute_result"
    }
   ],
   "source": [
    "function bisection(f′, a, b, ϵ)\n",
    "if a > b; a,b = b,a; end # ensure a < b\n",
    "ya, yb = f′(a), f′(b)\n",
    "if ya == 0; b = a; end\n",
    "if yb == 0; a = b; end\n",
    "while b - a > ϵ\n",
    "x = (a+b)/2\n",
    "y = f′(x)\n",
    "if y == 0\n",
    "a, b = x, x\n",
    "elseif sign(y) == sign(ya)\n",
    "a = x\n",
    "else\n",
    "b = x\n",
    "end\n",
    "end\n",
    "return (a,b)\n",
    "end"
   ]
  },
  {
   "cell_type": "markdown",
   "metadata": {},
   "source": [
    "### Bracket Sign Change\n",
    "`bracket_sign_change` es un algoritmo diseñado  para encontrar un intervalo en el cual ocurre un cambio de signo. Los parámetros de entrada son la derivada de la función objetivo, $f'$ que debe estar definida en un intervalo cerrado $[a,b]$ y los valores $a$ y $b$  Devuelve el nuevo intervalo como una tupla expandiendo el ancho del intervalo hasta que haya una señal cambio entre la función evaluada en los límites del intervalo. El factor de expansión, $k$, es por defecto 2. Al igual que en el método de `bisección`, necesitamos que la función $f'$ sea continua sobre todo el intervalo $[a,b]$. "
   ]
  },
  {
   "cell_type": "code",
   "execution_count": 8,
   "metadata": {},
   "outputs": [
    {
     "data": {
      "text/plain": [
       "bracket_sign_change (generic function with 1 method)"
      ]
     },
     "execution_count": 8,
     "metadata": {},
     "output_type": "execute_result"
    }
   ],
   "source": [
    "function bracket_sign_change(f′, a, b; k=2)\n",
    "if a > b; a,b = b,a; end # ensure a < b\n",
    "center, half_width = (b+a)/2, (b-a)/2\n",
    "while f′(a)*f′(b) > 0\n",
    "half_width *= k\n",
    "a = center - half_width\n",
    "b = center + half_width\n",
    "end\n",
    "return (a,b)\n",
    "end"
   ]
  },
  {
   "cell_type": "markdown",
   "metadata": {},
   "source": [
    "<center>\n",
    "    \n",
    "## La Función y su derivada\n",
    "Definimos a la función de *Ackley*, $f:\\mathbb{R}^d\\rightarrow\\mathbb{R}$ por:\\\n",
    "$$f(x)=-a\\cdot exp\\left( -b\\sqrt{\\dfrac{1}{d}\\sum_{i=1}^{d}x_i^{2}}\\right) -exp\\left(\\dfrac{1}{d}\\sum_{i=1}^{d}cos(cx_i)\\right) +a + exp(1)$$\\\n",
    "Se sabe que tiene un mínimo global en $x=(0,...,0)\\in\\mathbb{R}^d$ e intenaremos arribar al mismo obteniendo distintos intervalos por medio de los algoritmos de *bracketing* a implementar.\n",
    "\n",
    "En nuestro caso paricular tomaremos $d=2$ y $a = 20$, $b = 0.2$ y $c = 2π$, como suele recomendarse para tales valores.\\\n",
    "Como dijimos anteriormente, nuestro dominio de análisis es $\\lbrace(x,x):x\\in\\mathbb{R}\\rbrace\\subset\\mathbb{R}^2$, por lo tanto debemos usar la curva $\\gamma(t)=(t,t)$ en el plano, y componerla con función $f$ de *Ackley* en $\\mathbb{R}^2$ , como $\\phi(t)=f\\circ\\gamma(t)$ la cual es univariada y viene dada por:\\\n",
    "$$\\phi(t)=-a\\cdot exp( -b|t|) - exp(cos(ct))+a + exp(1)$$\\\n",
    "Y su derivada, $\\phi '(t)$ está dada por la expresión:\\\n",
    "$$\\phi'(t)=a\\cdot b\\cdot exp( -b|t|)\\cdot\\frac{t}{|t|} +c\\cdot sen(ct)\\cdot exp(cos(ct))$$\\\n",
    "O sea, \n",
    "\\begin{align*} \\phi'(t) &=\\begin{cases}\n",
    "-a\\cdot b \\cdot exp(  -b|t|) +c\\cdot sen(ct)\\cdot exp(cos(ct)) & \\mbox{ si } t<0 \\\\\n",
    "a\\cdot b \\cdot exp( -b|t|) +c\\cdot sen(ct)\\cdot exp(cos(ct)) & \\mbox{ si } t>0.\n",
    "\\end{cases}\\\\\n",
    "\\end{align*}\\\n",
    "Tomando nuestras constantes $a,b,c$ como arriba quedan,  \n",
    "$$\\phi(t)=-20\\cdot exp( -\\frac{1}{5}|t|) - exp(cos(2\\pi t))+20 + exp(1)$$ y\n",
    "\n",
    "\\begin{align*} \\phi'(t) &=\\begin{cases}\n",
    "-4\\cdot exp( -\\frac{1}{5}|t|) +2\\pi\\cdot sen(2\\pi t)\\cdot exp(cos(2\\pi)) & \\mbox{ si } t<0 \\\\\n",
    "4\\cdot exp( -\\frac{1}{5}|t|) +2\\pi\\cdot sen(2\\pi t)\\cdot exp(cos(2\\pi)) & \\mbox{ si } t>0.\n",
    "\\end{cases}\\\\\n",
    "\\end{align*}\n"
   ]
  },
  {
   "cell_type": "code",
   "execution_count": 9,
   "metadata": {},
   "outputs": [
    {
     "data": {
      "text/plain": [
       "phi (generic function with 1 method)"
      ]
     },
     "execution_count": 9,
     "metadata": {},
     "output_type": "execute_result"
    }
   ],
   "source": [
    "function phi(t)\n",
    "#Direcamente programamos la phi que es la curva compuesta de gamma con f\n",
    "\n",
    "c = 2*pi;\n",
    "b = 0.2;\n",
    "a = 20;\n",
    "term1 = -a * exp(-b*abs(t));\n",
    "term2 = -exp(cos(c*t));\n",
    "\n",
    "y = term1 + term2 + a + exp(1);\n",
    "\n",
    "end"
   ]
  },
  {
   "cell_type": "markdown",
   "metadata": {},
   "source": [
    "Graficamos la función en un entorno simétrico alrededor de cero. En la gráfica se ven los puntos de la partición en el eje $x$ por eso $0$ está en el punto número $50$ de la misma. "
   ]
  },
  {
   "cell_type": "code",
   "execution_count": 10,
   "metadata": {
    "scrolled": true
   },
   "outputs": [
    {
     "data": {
      "image/svg+xml": [
       "<?xml version=\"1.0\" encoding=\"utf-8\"?>\n",
       "<svg xmlns=\"http://www.w3.org/2000/svg\" xmlns:xlink=\"http://www.w3.org/1999/xlink\" width=\"600\" height=\"400\" viewBox=\"0 0 2400 1600\">\n",
       "<defs>\n",
       "  <clipPath id=\"clip610\">\n",
       "    <rect x=\"0\" y=\"0\" width=\"2400\" height=\"1600\"/>\n",
       "  </clipPath>\n",
       "</defs>\n",
       "<path clip-path=\"url(#clip610)\" d=\"\n",
       "M0 1600 L2400 1600 L2400 0 L0 0  Z\n",
       "  \" fill=\"#ffffff\" fill-rule=\"evenodd\" fill-opacity=\"1\"/>\n",
       "<defs>\n",
       "  <clipPath id=\"clip611\">\n",
       "    <rect x=\"480\" y=\"0\" width=\"1681\" height=\"1600\"/>\n",
       "  </clipPath>\n",
       "</defs>\n",
       "<path clip-path=\"url(#clip610)\" d=\"\n",
       "M112.177 1423.18 L2352.76 1423.18 L2352.76 123.472 L112.177 123.472  Z\n",
       "  \" fill=\"#ffffff\" fill-rule=\"evenodd\" fill-opacity=\"1\"/>\n",
       "<defs>\n",
       "  <clipPath id=\"clip612\">\n",
       "    <rect x=\"112\" y=\"123\" width=\"2242\" height=\"1301\"/>\n",
       "  </clipPath>\n",
       "</defs>\n",
       "<polyline clip-path=\"url(#clip612)\" style=\"stroke:#000000; stroke-linecap:butt; stroke-linejoin:round; stroke-width:2; stroke-opacity:0.1; fill:none\" points=\"\n",
       "  154.239,1423.18 154.239,123.472 \n",
       "  \"/>\n",
       "<polyline clip-path=\"url(#clip612)\" style=\"stroke:#000000; stroke-linecap:butt; stroke-linejoin:round; stroke-width:2; stroke-opacity:0.1; fill:none\" points=\"\n",
       "  688.015,1423.18 688.015,123.472 \n",
       "  \"/>\n",
       "<polyline clip-path=\"url(#clip612)\" style=\"stroke:#000000; stroke-linecap:butt; stroke-linejoin:round; stroke-width:2; stroke-opacity:0.1; fill:none\" points=\"\n",
       "  1221.79,1423.18 1221.79,123.472 \n",
       "  \"/>\n",
       "<polyline clip-path=\"url(#clip612)\" style=\"stroke:#000000; stroke-linecap:butt; stroke-linejoin:round; stroke-width:2; stroke-opacity:0.1; fill:none\" points=\"\n",
       "  1755.57,1423.18 1755.57,123.472 \n",
       "  \"/>\n",
       "<polyline clip-path=\"url(#clip612)\" style=\"stroke:#000000; stroke-linecap:butt; stroke-linejoin:round; stroke-width:2; stroke-opacity:0.1; fill:none\" points=\"\n",
       "  2289.34,1423.18 2289.34,123.472 \n",
       "  \"/>\n",
       "<polyline clip-path=\"url(#clip610)\" style=\"stroke:#000000; stroke-linecap:butt; stroke-linejoin:round; stroke-width:4; stroke-opacity:1; fill:none\" points=\"\n",
       "  112.177,1423.18 2352.76,1423.18 \n",
       "  \"/>\n",
       "<polyline clip-path=\"url(#clip610)\" style=\"stroke:#000000; stroke-linecap:butt; stroke-linejoin:round; stroke-width:4; stroke-opacity:1; fill:none\" points=\"\n",
       "  154.239,1423.18 154.239,1404.28 \n",
       "  \"/>\n",
       "<polyline clip-path=\"url(#clip610)\" style=\"stroke:#000000; stroke-linecap:butt; stroke-linejoin:round; stroke-width:4; stroke-opacity:1; fill:none\" points=\"\n",
       "  688.015,1423.18 688.015,1404.28 \n",
       "  \"/>\n",
       "<polyline clip-path=\"url(#clip610)\" style=\"stroke:#000000; stroke-linecap:butt; stroke-linejoin:round; stroke-width:4; stroke-opacity:1; fill:none\" points=\"\n",
       "  1221.79,1423.18 1221.79,1404.28 \n",
       "  \"/>\n",
       "<polyline clip-path=\"url(#clip610)\" style=\"stroke:#000000; stroke-linecap:butt; stroke-linejoin:round; stroke-width:4; stroke-opacity:1; fill:none\" points=\"\n",
       "  1755.57,1423.18 1755.57,1404.28 \n",
       "  \"/>\n",
       "<polyline clip-path=\"url(#clip610)\" style=\"stroke:#000000; stroke-linecap:butt; stroke-linejoin:round; stroke-width:4; stroke-opacity:1; fill:none\" points=\"\n",
       "  2289.34,1423.18 2289.34,1404.28 \n",
       "  \"/>\n",
       "<path clip-path=\"url(#clip610)\" d=\"M154.239 1452.37 Q150.628 1452.37 148.799 1455.94 Q146.993 1459.48 146.993 1466.61 Q146.993 1473.71 148.799 1477.28 Q150.628 1480.82 154.239 1480.82 Q157.873 1480.82 159.679 1477.28 Q161.507 1473.71 161.507 1466.61 Q161.507 1459.48 159.679 1455.94 Q157.873 1452.37 154.239 1452.37 M154.239 1448.67 Q160.049 1448.67 163.104 1453.27 Q166.183 1457.86 166.183 1466.61 Q166.183 1475.33 163.104 1479.94 Q160.049 1484.52 154.239 1484.52 Q148.429 1484.52 145.35 1479.94 Q142.294 1475.33 142.294 1466.61 Q142.294 1457.86 145.35 1453.27 Q148.429 1448.67 154.239 1448.67 Z\" fill=\"#000000\" fill-rule=\"evenodd\" fill-opacity=\"1\" /><path clip-path=\"url(#clip610)\" d=\"M667.286 1479.92 L683.605 1479.92 L683.605 1483.85 L661.661 1483.85 L661.661 1479.92 Q664.323 1477.16 668.906 1472.53 Q673.513 1467.88 674.693 1466.54 Q676.939 1464.01 677.818 1462.28 Q678.721 1460.52 678.721 1458.83 Q678.721 1456.07 676.777 1454.34 Q674.855 1452.6 671.753 1452.6 Q669.554 1452.6 667.101 1453.37 Q664.67 1454.13 661.892 1455.68 L661.892 1450.96 Q664.716 1449.82 667.17 1449.25 Q669.624 1448.67 671.661 1448.67 Q677.031 1448.67 680.226 1451.35 Q683.42 1454.04 683.42 1458.53 Q683.42 1460.66 682.61 1462.58 Q681.823 1464.48 679.716 1467.07 Q679.138 1467.74 676.036 1470.96 Q672.934 1474.15 667.286 1479.92 Z\" fill=\"#000000\" fill-rule=\"evenodd\" fill-opacity=\"1\" /><path clip-path=\"url(#clip610)\" d=\"M693.466 1449.29 L711.823 1449.29 L711.823 1453.23 L697.749 1453.23 L697.749 1461.7 Q698.767 1461.35 699.786 1461.19 Q700.804 1461 701.823 1461 Q707.61 1461 710.989 1464.18 Q714.369 1467.35 714.369 1472.76 Q714.369 1478.34 710.897 1481.44 Q707.424 1484.52 701.105 1484.52 Q698.929 1484.52 696.661 1484.15 Q694.415 1483.78 692.008 1483.04 L692.008 1478.34 Q694.091 1479.48 696.313 1480.03 Q698.536 1480.59 701.012 1480.59 Q705.017 1480.59 707.355 1478.48 Q709.693 1476.38 709.693 1472.76 Q709.693 1469.15 707.355 1467.05 Q705.017 1464.94 701.012 1464.94 Q699.138 1464.94 697.263 1465.36 Q695.411 1465.77 693.466 1466.65 L693.466 1449.29 Z\" fill=\"#000000\" fill-rule=\"evenodd\" fill-opacity=\"1\" /><path clip-path=\"url(#clip610)\" d=\"M1196.49 1449.29 L1214.85 1449.29 L1214.85 1453.23 L1200.77 1453.23 L1200.77 1461.7 Q1201.79 1461.35 1202.81 1461.19 Q1203.83 1461 1204.85 1461 Q1210.63 1461 1214.01 1464.18 Q1217.39 1467.35 1217.39 1472.76 Q1217.39 1478.34 1213.92 1481.44 Q1210.45 1484.52 1204.13 1484.52 Q1201.95 1484.52 1199.68 1484.15 Q1197.44 1483.78 1195.03 1483.04 L1195.03 1478.34 Q1197.12 1479.48 1199.34 1480.03 Q1201.56 1480.59 1204.04 1480.59 Q1208.04 1480.59 1210.38 1478.48 Q1212.72 1476.38 1212.72 1472.76 Q1212.72 1469.15 1210.38 1467.05 Q1208.04 1464.94 1204.04 1464.94 Q1202.16 1464.94 1200.29 1465.36 Q1198.43 1465.77 1196.49 1466.65 L1196.49 1449.29 Z\" fill=\"#000000\" fill-rule=\"evenodd\" fill-opacity=\"1\" /><path clip-path=\"url(#clip610)\" d=\"M1236.61 1452.37 Q1232.99 1452.37 1231.17 1455.94 Q1229.36 1459.48 1229.36 1466.61 Q1229.36 1473.71 1231.17 1477.28 Q1232.99 1480.82 1236.61 1480.82 Q1240.24 1480.82 1242.05 1477.28 Q1243.87 1473.71 1243.87 1466.61 Q1243.87 1459.48 1242.05 1455.94 Q1240.24 1452.37 1236.61 1452.37 M1236.61 1448.67 Q1242.42 1448.67 1245.47 1453.27 Q1248.55 1457.86 1248.55 1466.61 Q1248.55 1475.33 1245.47 1479.94 Q1242.42 1484.52 1236.61 1484.52 Q1230.8 1484.52 1227.72 1479.94 Q1224.66 1475.33 1224.66 1466.61 Q1224.66 1457.86 1227.72 1453.27 Q1230.8 1448.67 1236.61 1448.67 Z\" fill=\"#000000\" fill-rule=\"evenodd\" fill-opacity=\"1\" /><path clip-path=\"url(#clip610)\" d=\"M1729.42 1449.29 L1751.64 1449.29 L1751.64 1451.28 L1739.1 1483.85 L1734.21 1483.85 L1746.02 1453.23 L1729.42 1453.23 L1729.42 1449.29 Z\" fill=\"#000000\" fill-rule=\"evenodd\" fill-opacity=\"1\" /><path clip-path=\"url(#clip610)\" d=\"M1760.81 1449.29 L1779.17 1449.29 L1779.17 1453.23 L1765.09 1453.23 L1765.09 1461.7 Q1766.11 1461.35 1767.13 1461.19 Q1768.15 1461 1769.17 1461 Q1774.95 1461 1778.33 1464.18 Q1781.71 1467.35 1781.71 1472.76 Q1781.71 1478.34 1778.24 1481.44 Q1774.77 1484.52 1768.45 1484.52 Q1766.27 1484.52 1764 1484.15 Q1761.76 1483.78 1759.35 1483.04 L1759.35 1478.34 Q1761.44 1479.48 1763.66 1480.03 Q1765.88 1480.59 1768.36 1480.59 Q1772.36 1480.59 1774.7 1478.48 Q1777.04 1476.38 1777.04 1472.76 Q1777.04 1469.15 1774.7 1467.05 Q1772.36 1464.94 1768.36 1464.94 Q1766.48 1464.94 1764.61 1465.36 Q1762.75 1465.77 1760.81 1466.65 L1760.81 1449.29 Z\" fill=\"#000000\" fill-rule=\"evenodd\" fill-opacity=\"1\" /><path clip-path=\"url(#clip610)\" d=\"M2248.95 1479.92 L2256.59 1479.92 L2256.59 1453.55 L2248.28 1455.22 L2248.28 1450.96 L2256.54 1449.29 L2261.22 1449.29 L2261.22 1479.92 L2268.86 1479.92 L2268.86 1483.85 L2248.95 1483.85 L2248.95 1479.92 Z\" fill=\"#000000\" fill-rule=\"evenodd\" fill-opacity=\"1\" /><path clip-path=\"url(#clip610)\" d=\"M2288.3 1452.37 Q2284.69 1452.37 2282.86 1455.94 Q2281.06 1459.48 2281.06 1466.61 Q2281.06 1473.71 2282.86 1477.28 Q2284.69 1480.82 2288.3 1480.82 Q2291.94 1480.82 2293.74 1477.28 Q2295.57 1473.71 2295.57 1466.61 Q2295.57 1459.48 2293.74 1455.94 Q2291.94 1452.37 2288.3 1452.37 M2288.3 1448.67 Q2294.11 1448.67 2297.17 1453.27 Q2300.25 1457.86 2300.25 1466.61 Q2300.25 1475.33 2297.17 1479.94 Q2294.11 1484.52 2288.3 1484.52 Q2282.49 1484.52 2279.41 1479.94 Q2276.36 1475.33 2276.36 1466.61 Q2276.36 1457.86 2279.41 1453.27 Q2282.49 1448.67 2288.3 1448.67 Z\" fill=\"#000000\" fill-rule=\"evenodd\" fill-opacity=\"1\" /><path clip-path=\"url(#clip610)\" d=\"M2318.46 1452.37 Q2314.85 1452.37 2313.02 1455.94 Q2311.22 1459.48 2311.22 1466.61 Q2311.22 1473.71 2313.02 1477.28 Q2314.85 1480.82 2318.46 1480.82 Q2322.1 1480.82 2323.9 1477.28 Q2325.73 1473.71 2325.73 1466.61 Q2325.73 1459.48 2323.9 1455.94 Q2322.1 1452.37 2318.46 1452.37 M2318.46 1448.67 Q2324.27 1448.67 2327.33 1453.27 Q2330.41 1457.86 2330.41 1466.61 Q2330.41 1475.33 2327.33 1479.94 Q2324.27 1484.52 2318.46 1484.52 Q2312.65 1484.52 2309.57 1479.94 Q2306.52 1475.33 2306.52 1466.61 Q2306.52 1457.86 2309.57 1453.27 Q2312.65 1448.67 2318.46 1448.67 Z\" fill=\"#000000\" fill-rule=\"evenodd\" fill-opacity=\"1\" /><path clip-path=\"url(#clip610)\" d=\"M890.453 1525.81 L890.453 1543.66 L898.537 1543.66 Q903.025 1543.66 905.476 1541.34 Q907.927 1539.02 907.927 1534.72 Q907.927 1530.45 905.476 1528.13 Q903.025 1525.81 898.537 1525.81 L890.453 1525.81 M884.024 1520.52 L898.537 1520.52 Q906.526 1520.52 910.6 1524.15 Q914.706 1527.75 914.706 1534.72 Q914.706 1541.75 910.6 1545.35 Q906.526 1548.95 898.537 1548.95 L890.453 1548.95 L890.453 1568.04 L884.024 1568.04 L884.024 1520.52 Z\" fill=\"#000000\" fill-rule=\"evenodd\" fill-opacity=\"1\" /><path clip-path=\"url(#clip610)\" d=\"M921.327 1553.98 L921.327 1532.4 L927.183 1532.4 L927.183 1553.75 Q927.183 1558.81 929.157 1561.36 Q931.13 1563.87 935.077 1563.87 Q939.819 1563.87 942.556 1560.85 Q945.325 1557.83 945.325 1552.61 L945.325 1532.4 L951.182 1532.4 L951.182 1568.04 L945.325 1568.04 L945.325 1562.57 Q943.193 1565.82 940.36 1567.41 Q937.559 1568.97 933.835 1568.97 Q927.692 1568.97 924.51 1565.15 Q921.327 1561.33 921.327 1553.98 M936.063 1531.54 L936.063 1531.54 Z\" fill=\"#000000\" fill-rule=\"evenodd\" fill-opacity=\"1\" /><path clip-path=\"url(#clip610)\" d=\"M992.877 1546.53 L992.877 1568.04 L987.021 1568.04 L987.021 1546.72 Q987.021 1541.66 985.047 1539.14 Q983.074 1536.63 979.127 1536.63 Q974.385 1536.63 971.648 1539.65 Q968.91 1542.68 968.91 1547.9 L968.91 1568.04 L963.022 1568.04 L963.022 1532.4 L968.91 1532.4 L968.91 1537.93 Q971.011 1534.72 973.844 1533.13 Q976.708 1531.54 980.432 1531.54 Q986.575 1531.54 989.726 1535.36 Q992.877 1539.14 992.877 1546.53 Z\" fill=\"#000000\" fill-rule=\"evenodd\" fill-opacity=\"1\" /><path clip-path=\"url(#clip610)\" d=\"M1010.35 1522.27 L1010.35 1532.4 L1022.41 1532.4 L1022.41 1536.95 L1010.35 1536.95 L1010.35 1556.3 Q1010.35 1560.66 1011.53 1561.9 Q1012.74 1563.14 1016.4 1563.14 L1022.41 1563.14 L1022.41 1568.04 L1016.4 1568.04 Q1009.62 1568.04 1007.04 1565.53 Q1004.46 1562.98 1004.46 1556.3 L1004.46 1536.95 L1000.17 1536.95 L1000.17 1532.4 L1004.46 1532.4 L1004.46 1522.27 L1010.35 1522.27 Z\" fill=\"#000000\" fill-rule=\"evenodd\" fill-opacity=\"1\" /><path clip-path=\"url(#clip610)\" d=\"M1043.93 1536.5 Q1039.22 1536.5 1036.48 1540.19 Q1033.75 1543.85 1033.75 1550.25 Q1033.75 1556.65 1036.45 1560.34 Q1039.19 1564 1043.93 1564 Q1048.61 1564 1051.35 1560.31 Q1054.08 1556.62 1054.08 1550.25 Q1054.08 1543.92 1051.35 1540.23 Q1048.61 1536.5 1043.93 1536.5 M1043.93 1531.54 Q1051.57 1531.54 1055.93 1536.5 Q1060.29 1541.47 1060.29 1550.25 Q1060.29 1559 1055.93 1564 Q1051.57 1568.97 1043.93 1568.97 Q1036.26 1568.97 1031.9 1564 Q1027.57 1559 1027.57 1550.25 Q1027.57 1541.47 1031.9 1536.5 Q1036.26 1531.54 1043.93 1531.54 Z\" fill=\"#000000\" fill-rule=\"evenodd\" fill-opacity=\"1\" /><path clip-path=\"url(#clip610)\" d=\"M1092.72 1533.45 L1092.72 1538.98 Q1090.24 1537.71 1087.57 1537.07 Q1084.89 1536.44 1082.03 1536.44 Q1077.67 1536.44 1075.47 1537.77 Q1073.31 1539.11 1073.31 1541.79 Q1073.31 1543.82 1074.87 1545 Q1076.43 1546.15 1081.14 1547.2 L1083.14 1547.64 Q1089.38 1548.98 1091.99 1551.43 Q1094.63 1553.85 1094.63 1558.21 Q1094.63 1563.17 1090.69 1566.07 Q1086.77 1568.97 1079.9 1568.97 Q1077.03 1568.97 1073.91 1568.39 Q1070.83 1567.85 1067.39 1566.74 L1067.39 1560.69 Q1070.63 1562.38 1073.79 1563.24 Q1076.94 1564.07 1080.02 1564.07 Q1084.16 1564.07 1086.39 1562.66 Q1088.62 1561.23 1088.62 1558.65 Q1088.62 1556.27 1086.99 1554.99 Q1085.4 1553.72 1079.96 1552.54 L1077.92 1552.07 Q1072.48 1550.92 1070.06 1548.56 Q1067.64 1546.18 1067.64 1542.04 Q1067.64 1537.01 1071.21 1534.27 Q1074.77 1531.54 1081.33 1531.54 Q1084.58 1531.54 1087.44 1532.01 Q1090.3 1532.49 1092.72 1533.45 Z\" fill=\"#000000\" fill-rule=\"evenodd\" fill-opacity=\"1\" /><path clip-path=\"url(#clip610)\" d=\"M1148.14 1537.81 L1148.14 1518.52 L1153.99 1518.52 L1153.99 1568.04 L1148.14 1568.04 L1148.14 1562.7 Q1146.29 1565.88 1143.46 1567.44 Q1140.66 1568.97 1136.71 1568.97 Q1130.25 1568.97 1126.18 1563.81 Q1122.13 1558.65 1122.13 1550.25 Q1122.13 1541.85 1126.18 1536.69 Q1130.25 1531.54 1136.71 1531.54 Q1140.66 1531.54 1143.46 1533.1 Q1146.29 1534.62 1148.14 1537.81 M1128.18 1550.25 Q1128.18 1556.71 1130.82 1560.4 Q1133.5 1564.07 1138.14 1564.07 Q1142.79 1564.07 1145.46 1560.4 Q1148.14 1556.71 1148.14 1550.25 Q1148.14 1543.79 1145.46 1540.13 Q1142.79 1536.44 1138.14 1536.44 Q1133.5 1536.44 1130.82 1540.13 Q1128.18 1543.79 1128.18 1550.25 Z\" fill=\"#000000\" fill-rule=\"evenodd\" fill-opacity=\"1\" /><path clip-path=\"url(#clip610)\" d=\"M1196.55 1548.76 L1196.55 1551.62 L1169.62 1551.62 Q1170 1557.67 1173.25 1560.85 Q1176.53 1564 1182.35 1564 Q1185.73 1564 1188.88 1563.17 Q1192.06 1562.35 1195.18 1560.69 L1195.18 1566.23 Q1192.03 1567.57 1188.72 1568.27 Q1185.41 1568.97 1182 1568.97 Q1173.47 1568.97 1168.48 1564 Q1163.51 1559.04 1163.51 1550.57 Q1163.51 1541.82 1168.22 1536.69 Q1172.96 1531.54 1180.98 1531.54 Q1188.18 1531.54 1192.35 1536.18 Q1196.55 1540.8 1196.55 1548.76 M1190.69 1547.04 Q1190.63 1542.23 1187.99 1539.37 Q1185.38 1536.5 1181.05 1536.5 Q1176.15 1536.5 1173.19 1539.27 Q1170.26 1542.04 1169.81 1547.07 L1190.69 1547.04 Z\" fill=\"#000000\" fill-rule=\"evenodd\" fill-opacity=\"1\" /><path clip-path=\"url(#clip610)\" d=\"M1226.88 1518.52 L1232.74 1518.52 L1232.74 1568.04 L1226.88 1568.04 L1226.88 1518.52 Z\" fill=\"#000000\" fill-rule=\"evenodd\" fill-opacity=\"1\" /><path clip-path=\"url(#clip610)\" d=\"M1261.19 1550.12 Q1254.09 1550.12 1251.36 1551.75 Q1248.62 1553.37 1248.62 1557.29 Q1248.62 1560.4 1250.66 1562.25 Q1252.73 1564.07 1256.26 1564.07 Q1261.13 1564.07 1264.06 1560.63 Q1267.02 1557.16 1267.02 1551.43 L1267.02 1550.12 L1261.19 1550.12 M1272.87 1547.71 L1272.87 1568.04 L1267.02 1568.04 L1267.02 1562.63 Q1265.01 1565.88 1262.02 1567.44 Q1259.03 1568.97 1254.7 1568.97 Q1249.22 1568.97 1245.98 1565.91 Q1242.76 1562.82 1242.76 1557.67 Q1242.76 1551.65 1246.77 1548.6 Q1250.82 1545.54 1258.8 1545.54 L1267.02 1545.54 L1267.02 1544.97 Q1267.02 1540.93 1264.34 1538.73 Q1261.7 1536.5 1256.89 1536.5 Q1253.84 1536.5 1250.94 1537.23 Q1248.05 1537.97 1245.37 1539.43 L1245.37 1534.02 Q1248.59 1532.78 1251.61 1532.17 Q1254.64 1531.54 1257.5 1531.54 Q1265.23 1531.54 1269.05 1535.55 Q1272.87 1539.56 1272.87 1547.71 Z\" fill=\"#000000\" fill-rule=\"evenodd\" fill-opacity=\"1\" /><path clip-path=\"url(#clip610)\" d=\"M1311.32 1562.7 L1311.32 1581.6 L1305.43 1581.6 L1305.43 1532.4 L1311.32 1532.4 L1311.32 1537.81 Q1313.17 1534.62 1315.97 1533.1 Q1318.8 1531.54 1322.72 1531.54 Q1329.21 1531.54 1333.25 1536.69 Q1337.33 1541.85 1337.33 1550.25 Q1337.33 1558.65 1333.25 1563.81 Q1329.21 1568.97 1322.72 1568.97 Q1318.8 1568.97 1315.97 1567.44 Q1313.17 1565.88 1311.32 1562.7 M1331.25 1550.25 Q1331.25 1543.79 1328.57 1540.13 Q1325.93 1536.44 1321.28 1536.44 Q1316.64 1536.44 1313.96 1540.13 Q1311.32 1543.79 1311.32 1550.25 Q1311.32 1556.71 1313.96 1560.4 Q1316.64 1564.07 1321.28 1564.07 Q1325.93 1564.07 1328.57 1560.4 Q1331.25 1556.71 1331.25 1550.25 Z\" fill=\"#000000\" fill-rule=\"evenodd\" fill-opacity=\"1\" /><path clip-path=\"url(#clip610)\" d=\"M1363.23 1550.12 Q1356.14 1550.12 1353.4 1551.75 Q1350.66 1553.37 1350.66 1557.29 Q1350.66 1560.4 1352.7 1562.25 Q1354.77 1564.07 1358.3 1564.07 Q1363.17 1564.07 1366.1 1560.63 Q1369.06 1557.16 1369.06 1551.43 L1369.06 1550.12 L1363.23 1550.12 M1374.92 1547.71 L1374.92 1568.04 L1369.06 1568.04 L1369.06 1562.63 Q1367.05 1565.88 1364.06 1567.44 Q1361.07 1568.97 1356.74 1568.97 Q1351.27 1568.97 1348.02 1565.91 Q1344.81 1562.82 1344.81 1557.67 Q1344.81 1551.65 1348.82 1548.6 Q1352.86 1545.54 1360.85 1545.54 L1369.06 1545.54 L1369.06 1544.97 Q1369.06 1540.93 1366.39 1538.73 Q1363.74 1536.5 1358.94 1536.5 Q1355.88 1536.5 1352.99 1537.23 Q1350.09 1537.97 1347.42 1539.43 L1347.42 1534.02 Q1350.63 1532.78 1353.65 1532.17 Q1356.68 1531.54 1359.54 1531.54 Q1367.28 1531.54 1371.1 1535.55 Q1374.92 1539.56 1374.92 1547.71 Z\" fill=\"#000000\" fill-rule=\"evenodd\" fill-opacity=\"1\" /><path clip-path=\"url(#clip610)\" d=\"M1407.63 1537.87 Q1406.65 1537.3 1405.47 1537.04 Q1404.32 1536.76 1402.92 1536.76 Q1397.96 1536.76 1395.29 1540 Q1392.64 1543.22 1392.64 1549.27 L1392.64 1568.04 L1386.76 1568.04 L1386.76 1532.4 L1392.64 1532.4 L1392.64 1537.93 Q1394.49 1534.69 1397.45 1533.13 Q1400.41 1531.54 1404.64 1531.54 Q1405.25 1531.54 1405.98 1531.63 Q1406.71 1531.7 1407.6 1531.85 L1407.63 1537.87 Z\" fill=\"#000000\" fill-rule=\"evenodd\" fill-opacity=\"1\" /><path clip-path=\"url(#clip610)\" d=\"M1419.57 1522.27 L1419.57 1532.4 L1431.63 1532.4 L1431.63 1536.95 L1419.57 1536.95 L1419.57 1556.3 Q1419.57 1560.66 1420.75 1561.9 Q1421.96 1563.14 1425.62 1563.14 L1431.63 1563.14 L1431.63 1568.04 L1425.62 1568.04 Q1418.84 1568.04 1416.26 1565.53 Q1413.68 1562.98 1413.68 1556.3 L1413.68 1536.95 L1409.39 1536.95 L1409.39 1532.4 L1413.68 1532.4 L1413.68 1522.27 L1419.57 1522.27 Z\" fill=\"#000000\" fill-rule=\"evenodd\" fill-opacity=\"1\" /><path clip-path=\"url(#clip610)\" d=\"M1439.34 1532.4 L1445.19 1532.4 L1445.19 1568.04 L1439.34 1568.04 L1439.34 1532.4 M1439.34 1518.52 L1445.19 1518.52 L1445.19 1525.93 L1439.34 1525.93 L1439.34 1518.52 Z\" fill=\"#000000\" fill-rule=\"evenodd\" fill-opacity=\"1\" /><path clip-path=\"url(#clip610)\" d=\"M1483.1 1533.76 L1483.1 1539.24 Q1480.62 1537.87 1478.1 1537.2 Q1475.62 1536.5 1473.07 1536.5 Q1467.38 1536.5 1464.23 1540.13 Q1461.07 1543.73 1461.07 1550.25 Q1461.07 1556.78 1464.23 1560.4 Q1467.38 1564 1473.07 1564 Q1475.62 1564 1478.1 1563.33 Q1480.62 1562.63 1483.1 1561.26 L1483.1 1566.68 Q1480.65 1567.82 1478.01 1568.39 Q1475.4 1568.97 1472.44 1568.97 Q1464.39 1568.97 1459.64 1563.91 Q1454.9 1558.85 1454.9 1550.25 Q1454.9 1541.53 1459.67 1536.53 Q1464.48 1531.54 1472.82 1531.54 Q1475.53 1531.54 1478.1 1532.11 Q1480.68 1532.65 1483.1 1533.76 Z\" fill=\"#000000\" fill-rule=\"evenodd\" fill-opacity=\"1\" /><path clip-path=\"url(#clip610)\" d=\"M1493.29 1532.4 L1499.14 1532.4 L1499.14 1568.04 L1493.29 1568.04 L1493.29 1532.4 M1493.29 1518.52 L1499.14 1518.52 L1499.14 1525.93 L1493.29 1525.93 L1493.29 1518.52 Z\" fill=\"#000000\" fill-rule=\"evenodd\" fill-opacity=\"1\" /><path clip-path=\"url(#clip610)\" d=\"M1525.21 1536.5 Q1520.5 1536.5 1517.76 1540.19 Q1515.02 1543.85 1515.02 1550.25 Q1515.02 1556.65 1517.73 1560.34 Q1520.47 1564 1525.21 1564 Q1529.89 1564 1532.63 1560.31 Q1535.36 1556.62 1535.36 1550.25 Q1535.36 1543.92 1532.63 1540.23 Q1529.89 1536.5 1525.21 1536.5 M1525.21 1531.54 Q1532.85 1531.54 1537.21 1536.5 Q1541.57 1541.47 1541.57 1550.25 Q1541.57 1559 1537.21 1564 Q1532.85 1568.97 1525.21 1568.97 Q1517.54 1568.97 1513.18 1564 Q1508.85 1559 1508.85 1550.25 Q1508.85 1541.47 1513.18 1536.5 Q1517.54 1531.54 1525.21 1531.54 M1529.63 1515.91 L1535.97 1515.91 L1525.59 1527.88 L1520.72 1527.88 L1529.63 1515.91 Z\" fill=\"#000000\" fill-rule=\"evenodd\" fill-opacity=\"1\" /><path clip-path=\"url(#clip610)\" d=\"M1580.91 1546.53 L1580.91 1568.04 L1575.05 1568.04 L1575.05 1546.72 Q1575.05 1541.66 1573.08 1539.14 Q1571.11 1536.63 1567.16 1536.63 Q1562.42 1536.63 1559.68 1539.65 Q1556.94 1542.68 1556.94 1547.9 L1556.94 1568.04 L1551.05 1568.04 L1551.05 1532.4 L1556.94 1532.4 L1556.94 1537.93 Q1559.04 1534.72 1561.88 1533.13 Q1564.74 1531.54 1568.46 1531.54 Q1574.61 1531.54 1577.76 1535.36 Q1580.91 1539.14 1580.91 1546.53 Z\" fill=\"#000000\" fill-rule=\"evenodd\" fill-opacity=\"1\" /><polyline clip-path=\"url(#clip612)\" style=\"stroke:#000000; stroke-linecap:butt; stroke-linejoin:round; stroke-width:2; stroke-opacity:0.1; fill:none\" points=\"\n",
       "  112.177,1402.75 2352.76,1402.75 \n",
       "  \"/>\n",
       "<polyline clip-path=\"url(#clip612)\" style=\"stroke:#000000; stroke-linecap:butt; stroke-linejoin:round; stroke-width:2; stroke-opacity:0.1; fill:none\" points=\"\n",
       "  112.177,1083.39 2352.76,1083.39 \n",
       "  \"/>\n",
       "<polyline clip-path=\"url(#clip612)\" style=\"stroke:#000000; stroke-linecap:butt; stroke-linejoin:round; stroke-width:2; stroke-opacity:0.1; fill:none\" points=\"\n",
       "  112.177,764.021 2352.76,764.021 \n",
       "  \"/>\n",
       "<polyline clip-path=\"url(#clip612)\" style=\"stroke:#000000; stroke-linecap:butt; stroke-linejoin:round; stroke-width:2; stroke-opacity:0.1; fill:none\" points=\"\n",
       "  112.177,444.655 2352.76,444.655 \n",
       "  \"/>\n",
       "<polyline clip-path=\"url(#clip612)\" style=\"stroke:#000000; stroke-linecap:butt; stroke-linejoin:round; stroke-width:2; stroke-opacity:0.1; fill:none\" points=\"\n",
       "  112.177,125.29 2352.76,125.29 \n",
       "  \"/>\n",
       "<polyline clip-path=\"url(#clip610)\" style=\"stroke:#000000; stroke-linecap:butt; stroke-linejoin:round; stroke-width:4; stroke-opacity:1; fill:none\" points=\"\n",
       "  112.177,1423.18 112.177,123.472 \n",
       "  \"/>\n",
       "<polyline clip-path=\"url(#clip610)\" style=\"stroke:#000000; stroke-linecap:butt; stroke-linejoin:round; stroke-width:4; stroke-opacity:1; fill:none\" points=\"\n",
       "  112.177,1402.75 131.075,1402.75 \n",
       "  \"/>\n",
       "<polyline clip-path=\"url(#clip610)\" style=\"stroke:#000000; stroke-linecap:butt; stroke-linejoin:round; stroke-width:4; stroke-opacity:1; fill:none\" points=\"\n",
       "  112.177,1083.39 131.075,1083.39 \n",
       "  \"/>\n",
       "<polyline clip-path=\"url(#clip610)\" style=\"stroke:#000000; stroke-linecap:butt; stroke-linejoin:round; stroke-width:4; stroke-opacity:1; fill:none\" points=\"\n",
       "  112.177,764.021 131.075,764.021 \n",
       "  \"/>\n",
       "<polyline clip-path=\"url(#clip610)\" style=\"stroke:#000000; stroke-linecap:butt; stroke-linejoin:round; stroke-width:4; stroke-opacity:1; fill:none\" points=\"\n",
       "  112.177,444.655 131.075,444.655 \n",
       "  \"/>\n",
       "<polyline clip-path=\"url(#clip610)\" style=\"stroke:#000000; stroke-linecap:butt; stroke-linejoin:round; stroke-width:4; stroke-opacity:1; fill:none\" points=\"\n",
       "  112.177,125.29 131.075,125.29 \n",
       "  \"/>\n",
       "<path clip-path=\"url(#clip610)\" d=\"M64.2328 1388.55 Q60.6217 1388.55 58.793 1392.11 Q56.9875 1395.66 56.9875 1402.79 Q56.9875 1409.89 58.793 1413.46 Q60.6217 1417 64.2328 1417 Q67.867 1417 69.6726 1413.46 Q71.5013 1409.89 71.5013 1402.79 Q71.5013 1395.66 69.6726 1392.11 Q67.867 1388.55 64.2328 1388.55 M64.2328 1384.85 Q70.0429 1384.85 73.0985 1389.45 Q76.1772 1394.04 76.1772 1402.79 Q76.1772 1411.51 73.0985 1416.12 Q70.0429 1420.7 64.2328 1420.7 Q58.4226 1420.7 55.344 1416.12 Q52.2884 1411.51 52.2884 1402.79 Q52.2884 1394.04 55.344 1389.45 Q58.4226 1384.85 64.2328 1384.85 Z\" fill=\"#000000\" fill-rule=\"evenodd\" fill-opacity=\"1\" /><path clip-path=\"url(#clip610)\" d=\"M59.8578 1096.73 L76.1772 1096.73 L76.1772 1100.67 L54.2328 1100.67 L54.2328 1096.73 Q56.8949 1093.98 61.4782 1089.35 Q66.0846 1084.69 67.2652 1083.35 Q69.5105 1080.83 70.3902 1079.09 Q71.2929 1077.33 71.2929 1075.64 Q71.2929 1072.89 69.3485 1071.15 Q67.4272 1069.42 64.3254 1069.42 Q62.1263 1069.42 59.6726 1070.18 Q57.2421 1070.94 54.4643 1072.49 L54.4643 1067.77 Q57.2884 1066.64 59.7421 1066.06 Q62.1958 1065.48 64.2328 1065.48 Q69.6031 1065.48 72.7976 1068.17 Q75.992 1070.85 75.992 1075.34 Q75.992 1077.47 75.1818 1079.39 Q74.3948 1081.29 72.2883 1083.88 Q71.7096 1084.55 68.6078 1087.77 Q65.5059 1090.97 59.8578 1096.73 Z\" fill=\"#000000\" fill-rule=\"evenodd\" fill-opacity=\"1\" /><path clip-path=\"url(#clip610)\" d=\"M66.5939 750.815 L54.7884 769.264 L66.5939 769.264 L66.5939 750.815 M65.367 746.741 L71.2466 746.741 L71.2466 769.264 L76.1772 769.264 L76.1772 773.152 L71.2466 773.152 L71.2466 781.301 L66.5939 781.301 L66.5939 773.152 L50.9921 773.152 L50.9921 768.639 L65.367 746.741 Z\" fill=\"#000000\" fill-rule=\"evenodd\" fill-opacity=\"1\" /><path clip-path=\"url(#clip610)\" d=\"M64.6495 442.792 Q61.5013 442.792 59.6495 444.945 Q57.8208 447.097 57.8208 450.847 Q57.8208 454.574 59.6495 456.75 Q61.5013 458.903 64.6495 458.903 Q67.7976 458.903 69.6263 456.75 Q71.4781 454.574 71.4781 450.847 Q71.4781 447.097 69.6263 444.945 Q67.7976 442.792 64.6495 442.792 M73.9318 428.139 L73.9318 432.398 Q72.1726 431.565 70.367 431.125 Q68.5846 430.685 66.8254 430.685 Q62.1958 430.685 59.7421 433.81 Q57.3115 436.935 56.9643 443.255 Q58.33 441.241 60.3902 440.176 Q62.4504 439.088 64.9272 439.088 Q70.1355 439.088 73.1448 442.259 Q76.1772 445.408 76.1772 450.847 Q76.1772 456.171 73.029 459.389 Q69.8809 462.607 64.6495 462.607 Q58.6541 462.607 55.4828 458.023 Q52.3116 453.417 52.3116 444.69 Q52.3116 436.496 56.2004 431.634 Q60.0893 426.75 66.6402 426.75 Q68.3994 426.75 70.1818 427.097 Q71.9874 427.445 73.9318 428.139 Z\" fill=\"#000000\" fill-rule=\"evenodd\" fill-opacity=\"1\" /><path clip-path=\"url(#clip610)\" d=\"M64.3254 126.158 Q60.9921 126.158 59.0708 127.94 Q57.1726 129.723 57.1726 132.848 Q57.1726 135.973 59.0708 137.755 Q60.9921 139.537 64.3254 139.537 Q67.6587 139.537 69.58 137.755 Q71.5013 135.949 71.5013 132.848 Q71.5013 129.723 69.58 127.94 Q67.6819 126.158 64.3254 126.158 M59.6495 124.167 Q56.6402 123.426 54.9504 121.366 Q53.2838 119.306 53.2838 116.343 Q53.2838 112.2 56.2236 109.792 Q59.1865 107.385 64.3254 107.385 Q69.4874 107.385 72.4272 109.792 Q75.367 112.2 75.367 116.343 Q75.367 119.306 73.6772 121.366 Q72.0105 123.426 69.0244 124.167 Q72.404 124.954 74.279 127.246 Q76.1772 129.537 76.1772 132.848 Q76.1772 137.871 73.0985 140.556 Q70.0429 143.241 64.3254 143.241 Q58.6078 143.241 55.5291 140.556 Q52.4736 137.871 52.4736 132.848 Q52.4736 129.537 54.3717 127.246 Q56.2699 124.954 59.6495 124.167 M57.9365 116.783 Q57.9365 119.468 59.6032 120.973 Q61.293 122.477 64.3254 122.477 Q67.3346 122.477 69.0244 120.973 Q70.7374 119.468 70.7374 116.783 Q70.7374 114.098 69.0244 112.593 Q67.3346 111.089 64.3254 111.089 Q61.293 111.089 59.6032 112.593 Q57.9365 114.098 57.9365 116.783 Z\" fill=\"#000000\" fill-rule=\"evenodd\" fill-opacity=\"1\" /><path clip-path=\"url(#clip610)\" d=\"M863.308 12.096 L898.064 12.096 L898.064 18.9825 L871.49 18.9825 L871.49 36.8065 L895.472 36.8065 L895.472 43.6931 L871.49 43.6931 L871.49 72.576 L863.308 72.576 L863.308 12.096 Z\" fill=\"#000000\" fill-rule=\"evenodd\" fill-opacity=\"1\" /><path clip-path=\"url(#clip610)\" d=\"M905.397 54.671 L905.397 27.2059 L912.85 27.2059 L912.85 54.3874 Q912.85 60.8284 915.362 64.0691 Q917.873 67.2693 922.896 67.2693 Q928.932 67.2693 932.416 63.421 Q935.94 59.5726 935.94 52.9291 L935.94 27.2059 L943.394 27.2059 L943.394 72.576 L935.94 72.576 L935.94 65.6084 Q933.226 69.7404 929.621 71.7658 Q926.056 73.7508 921.317 73.7508 Q913.498 73.7508 909.447 68.8897 Q905.397 64.0286 905.397 54.671 M924.152 26.1121 L924.152 26.1121 Z\" fill=\"#000000\" fill-rule=\"evenodd\" fill-opacity=\"1\" /><path clip-path=\"url(#clip610)\" d=\"M996.461 45.1919 L996.461 72.576 L989.007 72.576 L989.007 45.4349 Q989.007 38.994 986.496 35.7938 Q983.984 32.5936 978.961 32.5936 Q972.925 32.5936 969.441 36.4419 Q965.958 40.2903 965.958 46.9338 L965.958 72.576 L958.463 72.576 L958.463 27.2059 L965.958 27.2059 L965.958 34.2544 Q968.631 30.163 972.236 28.1376 Q975.882 26.1121 980.622 26.1121 Q988.44 26.1121 992.45 30.9732 Q996.461 35.7938 996.461 45.1919 Z\" fill=\"#000000\" fill-rule=\"evenodd\" fill-opacity=\"1\" /><path clip-path=\"url(#clip610)\" d=\"M1043.98 28.9478 L1043.98 35.9153 Q1040.82 34.1734 1037.62 33.3227 Q1034.46 32.4315 1031.22 32.4315 Q1023.97 32.4315 1019.96 37.0496 Q1015.95 41.6271 1015.95 49.9314 Q1015.95 58.2358 1019.96 62.8538 Q1023.97 67.4314 1031.22 67.4314 Q1034.46 67.4314 1037.62 66.5807 Q1040.82 65.6895 1043.98 63.9476 L1043.98 70.8341 Q1040.86 72.2924 1037.5 73.0216 Q1034.17 73.7508 1030.41 73.7508 Q1020.16 73.7508 1014.12 67.3098 Q1008.09 60.8689 1008.09 49.9314 Q1008.09 38.832 1014.16 32.472 Q1020.28 26.1121 1030.89 26.1121 Q1034.34 26.1121 1037.62 26.8413 Q1040.9 27.5299 1043.98 28.9478 Z\" fill=\"#000000\" fill-rule=\"evenodd\" fill-opacity=\"1\" /><path clip-path=\"url(#clip610)\" d=\"M1056.94 27.2059 L1064.39 27.2059 L1064.39 72.576 L1056.94 72.576 L1056.94 27.2059 M1056.94 9.54393 L1064.39 9.54393 L1064.39 18.9825 L1056.94 18.9825 L1056.94 9.54393 Z\" fill=\"#000000\" fill-rule=\"evenodd\" fill-opacity=\"1\" /><path clip-path=\"url(#clip610)\" d=\"M1097.57 32.4315 Q1091.58 32.4315 1088.09 37.1306 Q1084.61 41.7891 1084.61 49.9314 Q1084.61 58.0738 1088.05 62.7728 Q1091.54 67.4314 1097.57 67.4314 Q1103.53 67.4314 1107.01 62.7323 Q1110.49 58.0333 1110.49 49.9314 Q1110.49 41.8701 1107.01 37.1711 Q1103.53 32.4315 1097.57 32.4315 M1097.57 26.1121 Q1107.29 26.1121 1112.84 32.4315 Q1118.39 38.7509 1118.39 49.9314 Q1118.39 61.0714 1112.84 67.4314 Q1107.29 73.7508 1097.57 73.7508 Q1087.81 73.7508 1082.26 67.4314 Q1076.75 61.0714 1076.75 49.9314 Q1076.75 38.7509 1082.26 32.4315 Q1087.81 26.1121 1097.57 26.1121 M1103.2 6.22219 L1111.26 6.22219 L1098.06 21.4536 L1091.86 21.4536 L1103.2 6.22219 Z\" fill=\"#000000\" fill-rule=\"evenodd\" fill-opacity=\"1\" /><path clip-path=\"url(#clip610)\" d=\"M1168.46 45.1919 L1168.46 72.576 L1161.01 72.576 L1161.01 45.4349 Q1161.01 38.994 1158.5 35.7938 Q1155.99 32.5936 1150.96 32.5936 Q1144.93 32.5936 1141.44 36.4419 Q1137.96 40.2903 1137.96 46.9338 L1137.96 72.576 L1130.46 72.576 L1130.46 27.2059 L1137.96 27.2059 L1137.96 34.2544 Q1140.63 30.163 1144.24 28.1376 Q1147.88 26.1121 1152.62 26.1121 Q1160.44 26.1121 1164.45 30.9732 Q1168.46 35.7938 1168.46 45.1919 Z\" fill=\"#000000\" fill-rule=\"evenodd\" fill-opacity=\"1\" /><path clip-path=\"url(#clip610)\" d=\"M1239.56 34.0924 L1239.56 9.54393 L1247.01 9.54393 L1247.01 72.576 L1239.56 72.576 L1239.56 65.7705 Q1237.21 69.8214 1233.6 71.8063 Q1230.04 73.7508 1225.01 73.7508 Q1216.79 73.7508 1211.6 67.1883 Q1206.46 60.6258 1206.46 49.9314 Q1206.46 39.2371 1211.6 32.6746 Q1216.79 26.1121 1225.01 26.1121 Q1230.04 26.1121 1233.6 28.0971 Q1237.21 30.0415 1239.56 34.0924 M1214.16 49.9314 Q1214.16 58.1548 1217.52 62.8538 Q1220.92 67.5124 1226.84 67.5124 Q1232.75 67.5124 1236.15 62.8538 Q1239.56 58.1548 1239.56 49.9314 Q1239.56 41.7081 1236.15 37.0496 Q1232.75 32.3505 1226.84 32.3505 Q1220.92 32.3505 1217.52 37.0496 Q1214.16 41.7081 1214.16 49.9314 Z\" fill=\"#000000\" fill-rule=\"evenodd\" fill-opacity=\"1\" /><path clip-path=\"url(#clip610)\" d=\"M1301.17 48.0275 L1301.17 51.6733 L1266.9 51.6733 Q1267.39 59.3701 1271.52 63.421 Q1275.69 67.4314 1283.1 67.4314 Q1287.4 67.4314 1291.41 66.3781 Q1295.46 65.3249 1299.43 63.2184 L1299.43 70.267 Q1295.42 71.9684 1291.2 72.8596 Q1286.99 73.7508 1282.66 73.7508 Q1271.8 73.7508 1265.44 67.4314 Q1259.12 61.1119 1259.12 50.3365 Q1259.12 39.1965 1265.12 32.6746 Q1271.15 26.1121 1281.36 26.1121 Q1290.52 26.1121 1295.82 32.0264 Q1301.17 37.9003 1301.17 48.0275 M1293.72 45.84 Q1293.64 39.7232 1290.27 36.0774 Q1286.95 32.4315 1281.44 32.4315 Q1275.2 32.4315 1271.44 35.9558 Q1267.71 39.4801 1267.14 45.8805 L1293.72 45.84 Z\" fill=\"#000000\" fill-rule=\"evenodd\" fill-opacity=\"1\" /><path clip-path=\"url(#clip610)\" d=\"M1360.31 20.1573 L1349.21 50.2555 L1371.45 50.2555 L1360.31 20.1573 M1355.7 12.096 L1364.97 12.096 L1388.02 72.576 L1379.51 72.576 L1374.01 57.061 L1346.74 57.061 L1341.23 72.576 L1332.6 72.576 L1355.7 12.096 Z\" fill=\"#000000\" fill-rule=\"evenodd\" fill-opacity=\"1\" /><path clip-path=\"url(#clip610)\" d=\"M1427.72 28.9478 L1427.72 35.9153 Q1424.56 34.1734 1421.36 33.3227 Q1418.2 32.4315 1414.96 32.4315 Q1407.71 32.4315 1403.7 37.0496 Q1399.69 41.6271 1399.69 49.9314 Q1399.69 58.2358 1403.7 62.8538 Q1407.71 67.4314 1414.96 67.4314 Q1418.2 67.4314 1421.36 66.5807 Q1424.56 65.6895 1427.72 63.9476 L1427.72 70.8341 Q1424.6 72.2924 1421.24 73.0216 Q1417.92 73.7508 1414.15 73.7508 Q1403.9 73.7508 1397.86 67.3098 Q1391.83 60.8689 1391.83 49.9314 Q1391.83 38.832 1397.91 32.472 Q1404.02 26.1121 1414.64 26.1121 Q1418.08 26.1121 1421.36 26.8413 Q1424.64 27.5299 1427.72 28.9478 Z\" fill=\"#000000\" fill-rule=\"evenodd\" fill-opacity=\"1\" /><path clip-path=\"url(#clip610)\" d=\"M1440.4 9.54393 L1447.89 9.54393 L1447.89 46.7717 L1470.13 27.2059 L1479.65 27.2059 L1455.59 48.4326 L1480.67 72.576 L1470.94 72.576 L1447.89 50.4176 L1447.89 72.576 L1440.4 72.576 L1440.4 9.54393 Z\" fill=\"#000000\" fill-rule=\"evenodd\" fill-opacity=\"1\" /><path clip-path=\"url(#clip610)\" d=\"M1488.73 9.54393 L1496.18 9.54393 L1496.18 72.576 L1488.73 72.576 L1488.73 9.54393 Z\" fill=\"#000000\" fill-rule=\"evenodd\" fill-opacity=\"1\" /><path clip-path=\"url(#clip610)\" d=\"M1550.58 48.0275 L1550.58 51.6733 L1516.31 51.6733 Q1516.8 59.3701 1520.93 63.421 Q1525.1 67.4314 1532.52 67.4314 Q1536.81 67.4314 1540.82 66.3781 Q1544.87 65.3249 1548.84 63.2184 L1548.84 70.267 Q1544.83 71.9684 1540.62 72.8596 Q1536.41 73.7508 1532.07 73.7508 Q1521.21 73.7508 1514.86 67.4314 Q1508.54 61.1119 1508.54 50.3365 Q1508.54 39.1965 1514.53 32.6746 Q1520.57 26.1121 1530.78 26.1121 Q1539.93 26.1121 1545.24 32.0264 Q1550.58 37.9003 1550.58 48.0275 M1543.13 45.84 Q1543.05 39.7232 1539.69 36.0774 Q1536.37 32.4315 1530.86 32.4315 Q1524.62 32.4315 1520.85 35.9558 Q1517.12 39.4801 1516.56 45.8805 L1543.13 45.84 Z\" fill=\"#000000\" fill-rule=\"evenodd\" fill-opacity=\"1\" /><path clip-path=\"url(#clip610)\" d=\"M1581.69 76.7889 Q1578.54 84.8907 1575.54 87.3618 Q1572.54 89.8329 1567.52 89.8329 L1561.56 89.8329 L1561.56 83.5945 L1565.94 83.5945 Q1569.02 83.5945 1570.72 82.1361 Q1572.42 80.6778 1574.48 75.2496 L1575.82 71.8468 L1557.47 27.2059 L1565.37 27.2059 L1579.55 62.6918 L1593.73 27.2059 L1601.63 27.2059 L1581.69 76.7889 Z\" fill=\"#000000\" fill-rule=\"evenodd\" fill-opacity=\"1\" /><polyline clip-path=\"url(#clip612)\" style=\"stroke:#009af9; stroke-linecap:butt; stroke-linejoin:round; stroke-width:4; stroke-opacity:1; fill:none\" points=\"\n",
       "  175.59,349.868 196.941,353.545 218.292,333.303 239.643,297.621 260.994,256.671 282.345,218.958 303.696,189.622 325.047,170.5 346.398,161.194 367.749,160.256 \n",
       "  389.1,166.05 410.451,177.205 431.802,192.804 453.153,212.418 474.504,236.109 495.855,264.432 517.207,298.427 538.558,339.558 559.909,389.476 581.26,449.464 \n",
       "  602.611,519.482 623.962,596.947 645.313,675.829 666.664,746.969 688.015,800.268 709.366,828.255 730.717,829.245 752.068,808.101 773.419,774.082 794.77,737.209 \n",
       "  816.121,705.23 837.472,682.396 858.823,669.87 880.174,666.888 901.525,671.892 922.876,683.282 944.227,699.794 965.578,720.629 986.93,745.483 1008.28,774.541 \n",
       "  1029.63,808.481 1050.98,848.459 1072.33,896.019 1093.68,952.787 1115.04,1019.82 1136.39,1096.56 1157.74,1179.62 1179.09,1262.08 1200.44,1334.27 1221.79,1386.4 \n",
       "  1243.14,1386.4 1264.49,1334.27 1285.84,1262.08 1307.2,1179.62 1328.55,1096.56 1349.9,1019.82 1371.25,952.787 1392.6,896.019 1413.95,848.459 1435.3,808.481 \n",
       "  1456.65,774.541 1478,745.483 1499.35,720.629 1520.71,699.794 1542.06,683.282 1563.41,671.892 1584.76,666.888 1606.11,669.87 1627.46,682.396 1648.81,705.23 \n",
       "  1670.16,737.209 1691.51,774.082 1712.87,808.101 1734.22,829.245 1755.57,828.255 1776.92,800.268 1798.27,746.969 1819.62,675.829 1840.97,596.947 1862.32,519.482 \n",
       "  1883.67,449.464 1905.02,389.476 1926.38,339.558 1947.73,298.427 1969.08,264.432 1990.43,236.109 2011.78,212.418 2033.13,192.804 2054.48,177.205 2075.83,166.05 \n",
       "  2097.18,160.256 2118.53,161.194 2139.89,170.5 2161.24,189.622 2182.59,218.958 2203.94,256.671 2225.29,297.621 2246.64,333.303 2267.99,353.545 2289.34,349.868 \n",
       "  \n",
       "  \"/>\n",
       "<path clip-path=\"url(#clip610)\" d=\"\n",
       "M1948.93 270.476 L2278.07 270.476 L2278.07 166.796 L1948.93 166.796  Z\n",
       "  \" fill=\"#ffffff\" fill-rule=\"evenodd\" fill-opacity=\"1\"/>\n",
       "<polyline clip-path=\"url(#clip610)\" style=\"stroke:#000000; stroke-linecap:butt; stroke-linejoin:round; stroke-width:4; stroke-opacity:1; fill:none\" points=\"\n",
       "  1948.93,270.476 2278.07,270.476 2278.07,166.796 1948.93,166.796 1948.93,270.476 \n",
       "  \"/>\n",
       "<polyline clip-path=\"url(#clip610)\" style=\"stroke:#009af9; stroke-linecap:butt; stroke-linejoin:round; stroke-width:4; stroke-opacity:1; fill:none\" points=\"\n",
       "  1973.83,218.636 2123.2,218.636 \n",
       "  \"/>\n",
       "<path clip-path=\"url(#clip610)\" d=\"M2164.69 213.439 Q2163.19 213.439 2163.19 216.795 L2163.19 232.675 Q2165.39 232.675 2167.59 230.268 Q2169.55 228.115 2169.55 222.953 Q2169.55 218.138 2167.56 215.545 Q2165.94 213.439 2164.69 213.439 M2164.69 209.805 Q2167.93 209.805 2170.87 212.86 Q2174.04 216.124 2174.04 222.953 Q2174.04 229.226 2170.87 232.953 Q2167.89 236.471 2163.19 236.471 L2163.19 245.777 L2158.95 245.777 L2158.95 236.494 Q2154.34 236.494 2151.24 232.953 Q2148.09 229.342 2148.09 222.976 Q2148.09 216.356 2151.24 212.976 Q2153.6 210.453 2157.45 209.805 L2157.45 213.578 Q2155.92 214.11 2154.58 215.916 Q2152.59 218.578 2152.59 222.976 Q2152.59 227.652 2154.58 230.314 Q2156.36 232.698 2158.95 232.698 L2158.95 216.795 Q2158.95 209.805 2164.69 209.805 Z\" fill=\"#000000\" fill-rule=\"evenodd\" fill-opacity=\"1\" /><path clip-path=\"url(#clip610)\" d=\"M2191.47 199.944 Q2188.37 205.268 2186.87 210.476 Q2185.36 215.684 2185.36 221.032 Q2185.36 226.379 2186.87 231.633 Q2188.4 236.865 2191.47 242.166 L2187.77 242.166 Q2184.3 236.726 2182.56 231.471 Q2180.85 226.217 2180.85 221.032 Q2180.85 215.87 2182.56 210.638 Q2184.27 205.407 2187.77 199.944 L2191.47 199.944 Z\" fill=\"#000000\" fill-rule=\"evenodd\" fill-opacity=\"1\" /><path clip-path=\"url(#clip610)\" d=\"M2203.95 202.629 L2203.95 209.99 L2212.72 209.99 L2212.72 213.3 L2203.95 213.3 L2203.95 227.374 Q2203.95 230.545 2204.81 231.448 Q2205.69 232.351 2208.35 232.351 L2212.72 232.351 L2212.72 235.916 L2208.35 235.916 Q2203.42 235.916 2201.54 234.087 Q2199.67 232.235 2199.67 227.374 L2199.67 213.3 L2196.54 213.3 L2196.54 209.99 L2199.67 209.99 L2199.67 202.629 L2203.95 202.629 Z\" fill=\"#000000\" fill-rule=\"evenodd\" fill-opacity=\"1\" /><path clip-path=\"url(#clip610)\" d=\"M2217.65 199.944 L2221.36 199.944 Q2224.83 205.407 2226.54 210.638 Q2228.28 215.87 2228.28 221.032 Q2228.28 226.217 2226.54 231.471 Q2224.83 236.726 2221.36 242.166 L2217.65 242.166 Q2220.73 236.865 2222.24 231.633 Q2223.77 226.379 2223.77 221.032 Q2223.77 215.684 2222.24 210.476 Q2220.73 205.268 2217.65 199.944 Z\" fill=\"#000000\" fill-rule=\"evenodd\" fill-opacity=\"1\" /></svg>\n"
      ]
     },
     "execution_count": 10,
     "metadata": {},
     "output_type": "execute_result"
    }
   ],
   "source": [
    "#Cargamos una librería para graficar: \n",
    "using Plots\n",
    "#Confeccionamos el vector:\n",
    "g=zeros(1,100)\n",
    "x=LinRange(-2,2,100)\n",
    "for j=1:100\n",
    "    #g[1,j]=x[j]\n",
    "    g[1,j]=phi(x[j])\n",
    "end\n",
    "#Ploteamos:\n",
    "plot(g',title = \"Función de Ackley\", label = \"φ(t)\", xlabel= \"Puntos de la partición\")"
   ]
  },
  {
   "cell_type": "code",
   "execution_count": 11,
   "metadata": {},
   "outputs": [
    {
     "data": {
      "text/plain": [
       "dphi (generic function with 1 method)"
      ]
     },
     "execution_count": 11,
     "metadata": {},
     "output_type": "execute_result"
    }
   ],
   "source": [
    "function dphi(t)\n",
    "\n",
    "c=2*pi;\n",
    "b = 0.2;\n",
    "a = 20;\n",
    "\n",
    "    if t>0\n",
    "        term1 = a*b*exp(-b*abs(t));\n",
    "        else\n",
    "        term1 = -a*b*exp(-b*abs(t));\n",
    "    end\n",
    "\n",
    "term2=c*exp(cos(c*t))*sin(c*t);\n",
    "\n",
    "y = term1 + term2 ;\n",
    "\n",
    "end"
   ]
  },
  {
   "cell_type": "markdown",
   "metadata": {},
   "source": [
    "### Constante de Lipchitz\n",
    "Con la finalidad de Calcular la constante de Lipchitz calcularemos una de manera analítica y otra implementando una función diseñada a tales fines llamada `KLip`.\\\n",
    "A continuación, calculamos la **Cota analítica para usar de constante de Lipchitz**:\n",
    "\n",
    "$|\\phi'(t)|=|4\\cdot exp( -\\frac{1}{5}|t|)\\cdot\\frac{t}{|t|} +2\\pi\\cdot sen(2\\pi t)\\cdot exp(cos(2\\pi))|\\leq 4 |exp( -\\frac{1}{5}|t|)|\\cdot|\\frac{t}{|t|}|+ 2\\pi\\cdot |sen(2\\pi t)|\\cdot |exp(cos(2\\pi))|\\leq 4\\cdot 1 + 2\\pi\\cdot 1\\cdot exp(1)$"
   ]
  },
  {
   "cell_type": "code",
   "execution_count": 12,
   "metadata": {},
   "outputs": [
    {
     "data": {
      "text/plain": [
       "21.079468445347132"
      ]
     },
     "execution_count": 12,
     "metadata": {},
     "output_type": "execute_result"
    }
   ],
   "source": [
    "#Calculamos el valor numérico de esta Constante de Lipchitz y la denominamos K1\n",
    "K1=4+2*pi*exp(1)"
   ]
  },
  {
   "cell_type": "markdown",
   "metadata": {},
   "source": [
    "Ahora, implementamos una función para hallar una **Aproximación a la constante de Lipchitz**"
   ]
  },
  {
   "cell_type": "code",
   "execution_count": 13,
   "metadata": {},
   "outputs": [
    {
     "data": {
      "text/plain": [
       "KLip (generic function with 1 method)"
      ]
     },
     "execution_count": 13,
     "metadata": {},
     "output_type": "execute_result"
    }
   ],
   "source": [
    "function KLip(f,a,b,n)\n",
    "    H=(b-a)/n;\n",
    "    aux1=zeros(n);\n",
    "    for i in 1:n\n",
    "        aux = abs(f(a+i*H)-f(a+(i-1)*H));\n",
    "        aux1[i]=aux/H;\n",
    "    end\n",
    "    max = maximum(aux1);\n",
    "    return max\n",
    "end\n",
    "#f unimodal! "
   ]
  },
  {
   "cell_type": "code",
   "execution_count": 14,
   "metadata": {},
   "outputs": [
    {
     "data": {
      "text/plain": [
       "2×8 Array{Float64,2}:\n",
       " 1.0      2.0      3.0      4.0      5.0     6.0     7.0     8.0\n",
       " 2.58432  7.0253  12.7708  13.0477  13.051  13.051  13.051  13.051"
      ]
     },
     "execution_count": 14,
     "metadata": {},
     "output_type": "execute_result"
    }
   ],
   "source": [
    "#Para distintas potencias de 10, calculamos la correspondiente aproximación a la constante de Lipchitz\n",
    "M=zeros(2,8)\n",
    "for i in 1:8\n",
    "    M[1,i]=i\n",
    "    M[2,i]=KLip(phi,-32.768, 32.768, 10^i)\n",
    "end\n",
    "return M"
   ]
  },
  {
   "cell_type": "code",
   "execution_count": 15,
   "metadata": {},
   "outputs": [
    {
     "data": {
      "image/svg+xml": [
       "<?xml version=\"1.0\" encoding=\"utf-8\"?>\n",
       "<svg xmlns=\"http://www.w3.org/2000/svg\" xmlns:xlink=\"http://www.w3.org/1999/xlink\" width=\"600\" height=\"400\" viewBox=\"0 0 2400 1600\">\n",
       "<defs>\n",
       "  <clipPath id=\"clip650\">\n",
       "    <rect x=\"0\" y=\"0\" width=\"2400\" height=\"1600\"/>\n",
       "  </clipPath>\n",
       "</defs>\n",
       "<path clip-path=\"url(#clip650)\" d=\"\n",
       "M0 1600 L2400 1600 L2400 0 L0 0  Z\n",
       "  \" fill=\"#ffffff\" fill-rule=\"evenodd\" fill-opacity=\"1\"/>\n",
       "<defs>\n",
       "  <clipPath id=\"clip651\">\n",
       "    <rect x=\"480\" y=\"0\" width=\"1681\" height=\"1600\"/>\n",
       "  </clipPath>\n",
       "</defs>\n",
       "<path clip-path=\"url(#clip650)\" d=\"\n",
       "M138.959 1486.45 L2352.76 1486.45 L2352.76 47.2441 L138.959 47.2441  Z\n",
       "  \" fill=\"#ffffff\" fill-rule=\"evenodd\" fill-opacity=\"1\"/>\n",
       "<defs>\n",
       "  <clipPath id=\"clip652\">\n",
       "    <rect x=\"138\" y=\"47\" width=\"2215\" height=\"1440\"/>\n",
       "  </clipPath>\n",
       "</defs>\n",
       "<polyline clip-path=\"url(#clip652)\" style=\"stroke:#000000; stroke-linecap:butt; stroke-linejoin:round; stroke-width:2; stroke-opacity:0.1; fill:none\" points=\"\n",
       "  499.969,1486.45 499.969,47.2441 \n",
       "  \"/>\n",
       "<polyline clip-path=\"url(#clip652)\" style=\"stroke:#000000; stroke-linecap:butt; stroke-linejoin:round; stroke-width:2; stroke-opacity:0.1; fill:none\" points=\"\n",
       "  1096.68,1486.45 1096.68,47.2441 \n",
       "  \"/>\n",
       "<polyline clip-path=\"url(#clip652)\" style=\"stroke:#000000; stroke-linecap:butt; stroke-linejoin:round; stroke-width:2; stroke-opacity:0.1; fill:none\" points=\"\n",
       "  1693.39,1486.45 1693.39,47.2441 \n",
       "  \"/>\n",
       "<polyline clip-path=\"url(#clip652)\" style=\"stroke:#000000; stroke-linecap:butt; stroke-linejoin:round; stroke-width:2; stroke-opacity:0.1; fill:none\" points=\"\n",
       "  2290.1,1486.45 2290.1,47.2441 \n",
       "  \"/>\n",
       "<polyline clip-path=\"url(#clip650)\" style=\"stroke:#000000; stroke-linecap:butt; stroke-linejoin:round; stroke-width:4; stroke-opacity:1; fill:none\" points=\"\n",
       "  138.959,1486.45 2352.76,1486.45 \n",
       "  \"/>\n",
       "<polyline clip-path=\"url(#clip650)\" style=\"stroke:#000000; stroke-linecap:butt; stroke-linejoin:round; stroke-width:4; stroke-opacity:1; fill:none\" points=\"\n",
       "  499.969,1486.45 499.969,1467.55 \n",
       "  \"/>\n",
       "<polyline clip-path=\"url(#clip650)\" style=\"stroke:#000000; stroke-linecap:butt; stroke-linejoin:round; stroke-width:4; stroke-opacity:1; fill:none\" points=\"\n",
       "  1096.68,1486.45 1096.68,1467.55 \n",
       "  \"/>\n",
       "<polyline clip-path=\"url(#clip650)\" style=\"stroke:#000000; stroke-linecap:butt; stroke-linejoin:round; stroke-width:4; stroke-opacity:1; fill:none\" points=\"\n",
       "  1693.39,1486.45 1693.39,1467.55 \n",
       "  \"/>\n",
       "<polyline clip-path=\"url(#clip650)\" style=\"stroke:#000000; stroke-linecap:butt; stroke-linejoin:round; stroke-width:4; stroke-opacity:1; fill:none\" points=\"\n",
       "  2290.1,1486.45 2290.1,1467.55 \n",
       "  \"/>\n",
       "<path clip-path=\"url(#clip650)\" d=\"M494.622 1543.18 L510.942 1543.18 L510.942 1547.12 L488.997 1547.12 L488.997 1543.18 Q491.659 1540.43 496.243 1535.8 Q500.849 1531.15 502.03 1529.81 Q504.275 1527.28 505.155 1525.55 Q506.057 1523.79 506.057 1522.1 Q506.057 1519.34 504.113 1517.61 Q502.192 1515.87 499.09 1515.87 Q496.891 1515.87 494.437 1516.63 Q492.006 1517.4 489.229 1518.95 L489.229 1514.23 Q492.053 1513.09 494.506 1512.51 Q496.96 1511.93 498.997 1511.93 Q504.368 1511.93 507.562 1514.62 Q510.756 1517.31 510.756 1521.8 Q510.756 1523.93 509.946 1525.85 Q509.159 1527.74 507.053 1530.34 Q506.474 1531.01 503.372 1534.23 Q500.27 1537.42 494.622 1543.18 Z\" fill=\"#000000\" fill-rule=\"evenodd\" fill-opacity=\"1\" /><path clip-path=\"url(#clip650)\" d=\"M1099.69 1516.63 L1087.88 1535.08 L1099.69 1535.08 L1099.69 1516.63 M1098.46 1512.56 L1104.34 1512.56 L1104.34 1535.08 L1109.27 1535.08 L1109.27 1538.97 L1104.34 1538.97 L1104.34 1547.12 L1099.69 1547.12 L1099.69 1538.97 L1084.09 1538.97 L1084.09 1534.46 L1098.46 1512.56 Z\" fill=\"#000000\" fill-rule=\"evenodd\" fill-opacity=\"1\" /><path clip-path=\"url(#clip650)\" d=\"M1693.8 1527.98 Q1690.65 1527.98 1688.8 1530.13 Q1686.97 1532.28 1686.97 1536.03 Q1686.97 1539.76 1688.8 1541.93 Q1690.65 1544.09 1693.8 1544.09 Q1696.94 1544.09 1698.77 1541.93 Q1700.62 1539.76 1700.62 1536.03 Q1700.62 1532.28 1698.77 1530.13 Q1696.94 1527.98 1693.8 1527.98 M1703.08 1513.32 L1703.08 1517.58 Q1701.32 1516.75 1699.51 1516.31 Q1697.73 1515.87 1695.97 1515.87 Q1691.34 1515.87 1688.89 1519 Q1686.46 1522.12 1686.11 1528.44 Q1687.48 1526.43 1689.54 1525.36 Q1691.6 1524.27 1694.07 1524.27 Q1699.28 1524.27 1702.29 1527.44 Q1705.32 1530.59 1705.32 1536.03 Q1705.32 1541.36 1702.18 1544.57 Q1699.03 1547.79 1693.8 1547.79 Q1687.8 1547.79 1684.63 1543.21 Q1681.46 1538.6 1681.46 1529.87 Q1681.46 1521.68 1685.35 1516.82 Q1689.24 1511.93 1695.79 1511.93 Q1697.55 1511.93 1699.33 1512.28 Q1701.13 1512.63 1703.08 1513.32 Z\" fill=\"#000000\" fill-rule=\"evenodd\" fill-opacity=\"1\" /><path clip-path=\"url(#clip650)\" d=\"M2290.1 1530.71 Q2286.77 1530.71 2284.85 1532.49 Q2282.95 1534.27 2282.95 1537.4 Q2282.95 1540.52 2284.85 1542.31 Q2286.77 1544.09 2290.1 1544.09 Q2293.43 1544.09 2295.36 1542.31 Q2297.28 1540.5 2297.28 1537.4 Q2297.28 1534.27 2295.36 1532.49 Q2293.46 1530.71 2290.1 1530.71 M2285.43 1528.72 Q2282.42 1527.98 2280.73 1525.92 Q2279.06 1523.86 2279.06 1520.89 Q2279.06 1516.75 2282 1514.34 Q2284.96 1511.93 2290.1 1511.93 Q2295.26 1511.93 2298.2 1514.34 Q2301.14 1516.75 2301.14 1520.89 Q2301.14 1523.86 2299.45 1525.92 Q2297.79 1527.98 2294.8 1528.72 Q2298.18 1529.5 2300.05 1531.8 Q2301.95 1534.09 2301.95 1537.4 Q2301.95 1542.42 2298.87 1545.11 Q2295.82 1547.79 2290.1 1547.79 Q2284.38 1547.79 2281.31 1545.11 Q2278.25 1542.42 2278.25 1537.4 Q2278.25 1534.09 2280.15 1531.8 Q2282.05 1529.5 2285.43 1528.72 M2283.71 1521.33 Q2283.71 1524.02 2285.38 1525.52 Q2287.07 1527.03 2290.1 1527.03 Q2293.11 1527.03 2294.8 1525.52 Q2296.51 1524.02 2296.51 1521.33 Q2296.51 1518.65 2294.8 1517.14 Q2293.11 1515.64 2290.1 1515.64 Q2287.07 1515.64 2285.38 1517.14 Q2283.71 1518.65 2283.71 1521.33 Z\" fill=\"#000000\" fill-rule=\"evenodd\" fill-opacity=\"1\" /><polyline clip-path=\"url(#clip652)\" style=\"stroke:#000000; stroke-linecap:butt; stroke-linejoin:round; stroke-width:2; stroke-opacity:0.1; fill:none\" points=\"\n",
       "  138.959,1262.07 2352.76,1262.07 \n",
       "  \"/>\n",
       "<polyline clip-path=\"url(#clip652)\" style=\"stroke:#000000; stroke-linecap:butt; stroke-linejoin:round; stroke-width:2; stroke-opacity:0.1; fill:none\" points=\"\n",
       "  138.959,1002.64 2352.76,1002.64 \n",
       "  \"/>\n",
       "<polyline clip-path=\"url(#clip652)\" style=\"stroke:#000000; stroke-linecap:butt; stroke-linejoin:round; stroke-width:2; stroke-opacity:0.1; fill:none\" points=\"\n",
       "  138.959,743.196 2352.76,743.196 \n",
       "  \"/>\n",
       "<polyline clip-path=\"url(#clip652)\" style=\"stroke:#000000; stroke-linecap:butt; stroke-linejoin:round; stroke-width:2; stroke-opacity:0.1; fill:none\" points=\"\n",
       "  138.959,483.757 2352.76,483.757 \n",
       "  \"/>\n",
       "<polyline clip-path=\"url(#clip652)\" style=\"stroke:#000000; stroke-linecap:butt; stroke-linejoin:round; stroke-width:2; stroke-opacity:0.1; fill:none\" points=\"\n",
       "  138.959,224.318 2352.76,224.318 \n",
       "  \"/>\n",
       "<polyline clip-path=\"url(#clip650)\" style=\"stroke:#000000; stroke-linecap:butt; stroke-linejoin:round; stroke-width:4; stroke-opacity:1; fill:none\" points=\"\n",
       "  138.959,1486.45 138.959,47.2441 \n",
       "  \"/>\n",
       "<polyline clip-path=\"url(#clip650)\" style=\"stroke:#000000; stroke-linecap:butt; stroke-linejoin:round; stroke-width:4; stroke-opacity:1; fill:none\" points=\"\n",
       "  138.959,1262.07 157.857,1262.07 \n",
       "  \"/>\n",
       "<polyline clip-path=\"url(#clip650)\" style=\"stroke:#000000; stroke-linecap:butt; stroke-linejoin:round; stroke-width:4; stroke-opacity:1; fill:none\" points=\"\n",
       "  138.959,1002.64 157.857,1002.64 \n",
       "  \"/>\n",
       "<polyline clip-path=\"url(#clip650)\" style=\"stroke:#000000; stroke-linecap:butt; stroke-linejoin:round; stroke-width:4; stroke-opacity:1; fill:none\" points=\"\n",
       "  138.959,743.196 157.857,743.196 \n",
       "  \"/>\n",
       "<polyline clip-path=\"url(#clip650)\" style=\"stroke:#000000; stroke-linecap:butt; stroke-linejoin:round; stroke-width:4; stroke-opacity:1; fill:none\" points=\"\n",
       "  138.959,483.757 157.857,483.757 \n",
       "  \"/>\n",
       "<polyline clip-path=\"url(#clip650)\" style=\"stroke:#000000; stroke-linecap:butt; stroke-linejoin:round; stroke-width:4; stroke-opacity:1; fill:none\" points=\"\n",
       "  138.959,224.318 157.857,224.318 \n",
       "  \"/>\n",
       "<path clip-path=\"url(#clip650)\" d=\"M93.3762 1248.87 L81.5707 1267.32 L93.3762 1267.32 L93.3762 1248.87 M92.1493 1244.79 L98.0289 1244.79 L98.0289 1267.32 L102.959 1267.32 L102.959 1271.21 L98.0289 1271.21 L98.0289 1279.35 L93.3762 1279.35 L93.3762 1271.21 L77.7744 1271.21 L77.7744 1266.69 L92.1493 1244.79 Z\" fill=\"#000000\" fill-rule=\"evenodd\" fill-opacity=\"1\" /><path clip-path=\"url(#clip650)\" d=\"M91.4317 1000.77 Q88.2836 1000.77 86.4318 1002.92 Q84.6031 1005.08 84.6031 1008.83 Q84.6031 1012.55 86.4318 1014.73 Q88.2836 1016.88 91.4317 1016.88 Q94.5799 1016.88 96.4085 1014.73 Q98.2604 1012.55 98.2604 1008.83 Q98.2604 1005.08 96.4085 1002.92 Q94.5799 1000.77 91.4317 1000.77 M100.714 986.119 L100.714 990.379 Q98.9548 989.545 97.1493 989.106 Q95.3669 988.666 93.6076 988.666 Q88.978 988.666 86.5243 991.791 Q84.0938 994.916 83.7466 1001.24 Q85.1123 999.221 87.1725 998.156 Q89.2327 997.068 91.7095 997.068 Q96.9178 997.068 99.927 1000.24 Q102.959 1003.39 102.959 1008.83 Q102.959 1014.15 99.8113 1017.37 Q96.6632 1020.59 91.4317 1020.59 Q85.4364 1020.59 82.2651 1016 Q79.0938 1011.4 79.0938 1002.67 Q79.0938 994.476 82.9827 989.615 Q86.8716 984.731 93.4225 984.731 Q95.1817 984.731 96.9641 985.078 Q98.7696 985.425 100.714 986.119 Z\" fill=\"#000000\" fill-rule=\"evenodd\" fill-opacity=\"1\" /><path clip-path=\"url(#clip650)\" d=\"M91.1077 744.064 Q87.7743 744.064 85.8531 745.847 Q83.9549 747.629 83.9549 750.754 Q83.9549 753.879 85.8531 755.662 Q87.7743 757.444 91.1077 757.444 Q94.441 757.444 96.3623 755.662 Q98.2835 753.856 98.2835 750.754 Q98.2835 747.629 96.3623 745.847 Q94.4641 744.064 91.1077 744.064 M86.4318 742.074 Q83.4225 741.333 81.7327 739.273 Q80.066 737.213 80.066 734.25 Q80.066 730.106 83.0058 727.699 Q85.9688 725.291 91.1077 725.291 Q96.2697 725.291 99.2095 727.699 Q102.149 730.106 102.149 734.25 Q102.149 737.213 100.459 739.273 Q98.7928 741.333 95.8067 742.074 Q99.1863 742.861 101.061 745.152 Q102.959 747.444 102.959 750.754 Q102.959 755.777 99.8808 758.462 Q96.8252 761.148 91.1077 761.148 Q85.3901 761.148 82.3114 758.462 Q79.2559 755.777 79.2559 750.754 Q79.2559 747.444 81.154 745.152 Q83.0521 742.861 86.4318 742.074 M84.7188 734.689 Q84.7188 737.375 86.3855 738.879 Q88.0753 740.384 91.1077 740.384 Q94.1169 740.384 95.8067 738.879 Q97.5197 737.375 97.5197 734.689 Q97.5197 732.004 95.8067 730.5 Q94.1169 728.995 91.1077 728.995 Q88.0753 728.995 86.3855 730.5 Q84.7188 732.004 84.7188 734.689 Z\" fill=\"#000000\" fill-rule=\"evenodd\" fill-opacity=\"1\" /><path clip-path=\"url(#clip650)\" d=\"M51.6634 497.102 L59.3023 497.102 L59.3023 470.736 L50.9921 472.403 L50.9921 468.144 L59.256 466.477 L63.9319 466.477 L63.9319 497.102 L71.5707 497.102 L71.5707 501.037 L51.6634 501.037 L51.6634 497.102 Z\" fill=\"#000000\" fill-rule=\"evenodd\" fill-opacity=\"1\" /><path clip-path=\"url(#clip650)\" d=\"M91.0151 469.556 Q87.404 469.556 85.5753 473.121 Q83.7697 476.662 83.7697 483.792 Q83.7697 490.898 85.5753 494.463 Q87.404 498.005 91.0151 498.005 Q94.6493 498.005 96.4548 494.463 Q98.2835 490.898 98.2835 483.792 Q98.2835 476.662 96.4548 473.121 Q94.6493 469.556 91.0151 469.556 M91.0151 465.852 Q96.8252 465.852 99.8808 470.459 Q102.959 475.042 102.959 483.792 Q102.959 492.519 99.8808 497.125 Q96.8252 501.708 91.0151 501.708 Q85.2049 501.708 82.1262 497.125 Q79.0707 492.519 79.0707 483.792 Q79.0707 475.042 82.1262 470.459 Q85.2049 465.852 91.0151 465.852 Z\" fill=\"#000000\" fill-rule=\"evenodd\" fill-opacity=\"1\" /><path clip-path=\"url(#clip650)\" d=\"M53.2606 237.663 L60.8995 237.663 L60.8995 211.297 L52.5893 212.964 L52.5893 208.704 L60.8532 207.038 L65.5291 207.038 L65.5291 237.663 L73.1679 237.663 L73.1679 241.598 L53.2606 241.598 L53.2606 237.663 Z\" fill=\"#000000\" fill-rule=\"evenodd\" fill-opacity=\"1\" /><path clip-path=\"url(#clip650)\" d=\"M86.6401 237.663 L102.959 237.663 L102.959 241.598 L81.0151 241.598 L81.0151 237.663 Q83.6771 234.908 88.2604 230.278 Q92.8669 225.626 94.0475 224.283 Q96.2928 221.76 97.1724 220.024 Q98.0752 218.265 98.0752 216.575 Q98.0752 213.82 96.1308 212.084 Q94.2095 210.348 91.1077 210.348 Q88.9086 210.348 86.4549 211.112 Q84.0244 211.876 81.2466 213.427 L81.2466 208.704 Q84.0707 207.57 86.5243 206.992 Q88.978 206.413 91.0151 206.413 Q96.3854 206.413 99.5798 209.098 Q102.774 211.783 102.774 216.274 Q102.774 218.404 101.964 220.325 Q101.177 222.223 99.0706 224.816 Q98.4919 225.487 95.39 228.704 Q92.2882 231.899 86.6401 237.663 Z\" fill=\"#000000\" fill-rule=\"evenodd\" fill-opacity=\"1\" /><polyline clip-path=\"url(#clip652)\" style=\"stroke:#009af9; stroke-linecap:butt; stroke-linejoin:round; stroke-width:4; stroke-opacity:1; fill:none\" points=\"\n",
       "  201.614,1445.72 499.969,869.634 798.325,124.325 1096.68,88.4055 1395.04,87.9801 1693.39,87.9763 1991.75,87.9763 2290.1,87.9763 \n",
       "  \"/>\n",
       "<path clip-path=\"url(#clip650)\" d=\"\n",
       "M1980.56 198.898 L2278.96 198.898 L2278.96 95.2176 L1980.56 95.2176  Z\n",
       "  \" fill=\"#ffffff\" fill-rule=\"evenodd\" fill-opacity=\"1\"/>\n",
       "<polyline clip-path=\"url(#clip650)\" style=\"stroke:#000000; stroke-linecap:butt; stroke-linejoin:round; stroke-width:4; stroke-opacity:1; fill:none\" points=\"\n",
       "  1980.56,198.898 2278.96,198.898 2278.96,95.2176 1980.56,95.2176 1980.56,198.898 \n",
       "  \"/>\n",
       "<polyline clip-path=\"url(#clip650)\" style=\"stroke:#009af9; stroke-linecap:butt; stroke-linejoin:round; stroke-width:4; stroke-opacity:1; fill:none\" points=\"\n",
       "  2005.15,147.058 2152.74,147.058 \n",
       "  \"/>\n",
       "<path clip-path=\"url(#clip650)\" d=\"M2191.18 166.745 Q2189.37 171.375 2187.66 172.787 Q2185.95 174.199 2183.08 174.199 L2179.67 174.199 L2179.67 170.634 L2182.17 170.634 Q2183.93 170.634 2184.91 169.8 Q2185.88 168.967 2187.06 165.865 L2187.82 163.921 L2177.34 138.412 L2181.85 138.412 L2189.95 158.689 L2198.05 138.412 L2202.57 138.412 L2191.18 166.745 Z\" fill=\"#000000\" fill-rule=\"evenodd\" fill-opacity=\"1\" /><path clip-path=\"url(#clip650)\" d=\"M2209.86 160.402 L2217.5 160.402 L2217.5 134.037 L2209.19 135.703 L2209.19 131.444 L2217.45 129.778 L2222.13 129.778 L2222.13 160.402 L2229.77 160.402 L2229.77 164.338 L2209.86 164.338 L2209.86 160.402 Z\" fill=\"#000000\" fill-rule=\"evenodd\" fill-opacity=\"1\" /></svg>\n"
      ]
     },
     "execution_count": 15,
     "metadata": {},
     "output_type": "execute_result"
    }
   ],
   "source": [
    "#Graficamos para ver su comportamiento\n",
    "plot(M'[:,2])"
   ]
  },
  {
   "cell_type": "code",
   "execution_count": 16,
   "metadata": {},
   "outputs": [
    {
     "data": {
      "text/plain": [
       "13.051018944666616"
      ]
     },
     "execution_count": 16,
     "metadata": {},
     "output_type": "execute_result"
    }
   ],
   "source": [
    "#En vistas de que para n=10^5 se estanca, tomamos ese valor como K2\n",
    "K2= KLip(phi,-32.768, 32.768, 10^5)"
   ]
  },
  {
   "cell_type": "markdown",
   "metadata": {},
   "source": [
    "<center>\n",
    "    \n",
    "## Implementación y Conclusiones\n",
    "Como en el artículo de referencia de la *Simon Fraser University* los valores extremos del intervalo en el cual evalúan sus métdos son $-32.768$ y $32.768$, utilizaremos los mismos a la hora de correr los algoritmos. Luego de cada resultado, escribimos una breve conlusión."
   ]
  },
  {
   "cell_type": "markdown",
   "metadata": {},
   "source": [
    "### Bracker Minimum: "
   ]
  },
  {
   "cell_type": "code",
   "execution_count": 17,
   "metadata": {},
   "outputs": [
    {
     "data": {
      "text/plain": [
       "(-0.01, 0.01)"
      ]
     },
     "execution_count": 17,
     "metadata": {},
     "output_type": "execute_result"
    }
   ],
   "source": [
    "bracket_minimum(phi)"
   ]
  },
  {
   "cell_type": "markdown",
   "metadata": {},
   "source": [
    "Puesto que arranca en $t=0$ que sabemos de antemano que es el mínimo de nuestra función objetivo, nos da un intervalo simétrico e igual al paso inicial $s$, en este caso tomado como $0.01$, como el intervalo contiene al punto $0$, el algoritmo funcionó"
   ]
  },
  {
   "cell_type": "markdown",
   "metadata": {},
   "source": [
    "### Fibonacci Search"
   ]
  },
  {
   "cell_type": "code",
   "execution_count": 18,
   "metadata": {},
   "outputs": [
    {
     "data": {
      "text/plain": [
       "(1, (-32.768, 32.768))"
      ]
     },
     "metadata": {},
     "output_type": "display_data"
    },
    {
     "data": {
      "text/plain": [
       "(2, (-0.3276800000000071, 32.768))"
      ]
     },
     "metadata": {},
     "output_type": "display_data"
    },
    {
     "data": {
      "text/plain": [
       "(3, (-10.922666666666665, 11.141119999999999))"
      ]
     },
     "metadata": {},
     "output_type": "display_data"
    },
    {
     "data": {
      "text/plain": [
       "(4, (-6.553600000000005, 6.553600000000005))"
      ]
     },
     "metadata": {},
     "output_type": "display_data"
    },
    {
     "data": {
      "text/plain": [
       "(5, (-0.08191999999999378, 8.191999999999993))"
      ]
     },
     "metadata": {},
     "output_type": "display_data"
    },
    {
     "data": {
      "text/plain": [
       "(6, (-2.5206153846153843, 2.5710276923076876))"
      ]
     },
     "metadata": {},
     "output_type": "display_data"
    },
    {
     "data": {
      "text/plain": [
       "(7, (-1.5603809523809544, 1.560380952380954))"
      ]
     },
     "metadata": {},
     "output_type": "display_data"
    },
    {
     "data": {
      "text/plain": [
       "(8, (-0.019275294117645066, 1.9275294117647048))"
      ]
     },
     "metadata": {},
     "output_type": "display_data"
    },
    {
     "data": {
      "text/plain": [
       "(9, (-0.5957818181818154, 0.6076974545454524))"
      ]
     },
     "metadata": {},
     "output_type": "display_data"
    },
    {
     "data": {
      "text/plain": [
       "(10, (-0.3681797752808985, 0.36817977528089973))"
      ]
     },
     "metadata": {},
     "output_type": "display_data"
    },
    {
     "data": {
      "text/plain": [
       "(11, (-1.3653333333333322, -0.9056711111111115))"
      ]
     },
     "metadata": {},
     "output_type": "display_data"
    },
    {
     "data": {
      "text/plain": [
       "(12, (-0.9872590557939888, -0.7031759656652331))"
      ]
     },
     "metadata": {},
     "output_type": "display_data"
    },
    {
     "data": {
      "text/plain": [
       "(13, (-1.1299310344827573, -0.9543571352785141))"
      ]
     },
     "metadata": {},
     "output_type": "display_data"
    },
    {
     "data": {
      "text/plain": [
       "(14, (-1.074360655737703, -0.9669245901639326))"
      ]
     },
     "metadata": {},
     "output_type": "display_data"
    },
    {
     "data": {
      "text/plain": [
       "(15, (0.9621242553191465, 1.0291874366767961))"
      ]
     },
     "metadata": {},
     "output_type": "display_data"
    },
    {
     "data": {
      "text/plain": [
       "(16, (0.9643681903569173, 1.0054051346274253))"
      ]
     },
     "metadata": {},
     "output_type": "display_data"
    },
    {
     "data": {
      "text/plain": [
       "(17, (-0.9891269349845188, -0.9635110835913306))"
      ]
     },
     "metadata": {},
     "output_type": "display_data"
    },
    {
     "data": {
      "text/plain": [
       "(18, (0.9639952164553937, 0.9796699354221476))"
      ]
     },
     "metadata": {},
     "output_type": "display_data"
    },
    {
     "data": {
      "text/plain": [
       "(19, (0.9638102941611222, 0.9735946784922382))"
      ]
     },
     "metadata": {},
     "output_type": "display_data"
    },
    {
     "data": {
      "text/plain": [
       "(20, (-0.9699280102320447, -0.9639408002923426))"
      ]
     },
     "metadata": {},
     "output_type": "display_data"
    },
    {
     "data": {
      "text/plain": [
       "(21, (0.9675912506351944, 0.9713285528767396))"
      ]
     },
     "metadata": {},
     "output_type": "display_data"
    },
    {
     "data": {
      "text/plain": [
       "(22, (0.9662197717835094, 0.96852955159298))"
      ]
     },
     "metadata": {},
     "output_type": "display_data"
    },
    {
     "data": {
      "text/plain": [
       "(23, (-0.9695845410627995, -0.9681570186335382))"
      ]
     },
     "metadata": {},
     "output_type": "display_data"
    },
    {
     "data": {
      "text/plain": [
       "(24, (0.9682993135621414, 0.969172835721422))"
      ]
     },
     "metadata": {},
     "output_type": "display_data"
    },
    {
     "data": {
      "text/plain": [
       "(25, (-0.9687902267840779, -0.9682449617358474))"
      ]
     },
     "metadata": {},
     "output_type": "display_data"
    },
    {
     "data": {
      "text/plain": [
       "(26, (0.9682690588438891, 0.9686027146188185))"
      ]
     },
     "metadata": {},
     "output_type": "display_data"
    },
    {
     "data": {
      "text/plain": [
       "(27, (-0.9686743378926449, -0.9684660651771011))"
      ]
     },
     "metadata": {},
     "output_type": "display_data"
    },
    {
     "data": {
      "text/plain": [
       "(28, (0.9683920899054643, 0.9685208095225999))"
      ]
     },
     "metadata": {},
     "output_type": "display_data"
    },
    {
     "data": {
      "text/plain": [
       "(29, (-0.968499899043314, -0.9684211335993448))"
      ]
     },
     "metadata": {},
     "output_type": "display_data"
    },
    {
     "data": {
      "text/plain": [
       "(30, (0.9684582328197361, 0.9685073993384629))"
      ]
     },
     "metadata": {},
     "output_type": "display_data"
    },
    {
     "data": {
      "text/plain": [
       "(31, (-0.9685045344806456, -0.968474448758188))"
      ]
     },
     "metadata": {},
     "output_type": "display_data"
    },
    {
     "data": {
      "text/plain": [
       "(32, (-0.9684870347599042, -0.9684682548208592))"
      ]
     },
     "metadata": {},
     "output_type": "display_data"
    },
    {
     "data": {
      "text/plain": [
       "(33, (0.9684707356116304, 0.9684822273350333))"
      ]
     },
     "metadata": {},
     "output_type": "display_data"
    },
    {
     "data": {
      "text/plain": [
       "(34, (-0.9684840636079348, -0.9684768903095263))"
      ]
     },
     "metadata": {},
     "output_type": "display_data"
    },
    {
     "data": {
      "text/plain": [
       "(35, (0.968474583318597, 0.9684790166608251))"
      ]
     },
     "metadata": {},
     "output_type": "display_data"
    },
    {
     "data": {
      "text/plain": [
       "(36, (-0.9684782044669, -0.9684754916389985))"
      ]
     },
     "metadata": {},
     "output_type": "display_data"
    },
    {
     "data": {
      "text/plain": [
       "(37, (0.9684768045451272, 0.9684784979311747))"
      ]
     },
     "metadata": {},
     "output_type": "display_data"
    },
    {
     "data": {
      "text/plain": [
       "(38, (0.9684773496297435, 0.9684783858377962))"
      ]
     },
     "metadata": {},
     "output_type": "display_data"
    },
    {
     "data": {
      "text/plain": [
       "(39, (-0.9684777946459786, -0.9684771478300648))"
      ]
     },
     "metadata": {},
     "output_type": "display_data"
    },
    {
     "data": {
      "text/plain": [
       "(40, (0.9684776167489779, 0.9684780165031973))"
      ]
     },
     "metadata": {},
     "output_type": "display_data"
    },
    {
     "data": {
      "text/plain": [
       "(41, (-0.9684776871457427, -0.9684774400840481))"
      ]
     },
     "metadata": {},
     "output_type": "display_data"
    },
    {
     "data": {
      "text/plain": [
       "(42, (-0.9684778114372876, -0.9684776587447629))"
      ]
     },
     "metadata": {},
     "output_type": "display_data"
    },
    {
     "data": {
      "text/plain": [
       "(43, (-0.9684776705273204, -0.9684775761581502))"
      ]
     },
     "metadata": {},
     "output_type": "display_data"
    },
    {
     "data": {
      "text/plain": [
       "(44, (-0.9684777237726794, -0.9684776654493248))"
      ]
     },
     "metadata": {},
     "output_type": "display_data"
    },
    {
     "data": {
      "text/plain": [
       "(45, (-0.9684776677458357, -0.9684776317000201))"
      ]
     },
     "metadata": {},
     "output_type": "display_data"
    },
    {
     "data": {
      "text/plain": [
       "(46, (-0.9684776889256157, -0.9684776666480766))"
      ]
     },
     "metadata": {},
     "output_type": "display_data"
    },
    {
     "data": {
      "text/plain": [
       "(47, (-0.968477667203703, -0.9684776534354267))"
      ]
     },
     "metadata": {},
     "output_type": "display_data"
    },
    {
     "data": {
      "text/plain": [
       "(48, (-0.9684776586507101, -0.9684776501414474))"
      ]
     },
     "metadata": {},
     "output_type": "display_data"
    },
    {
     "data": {
      "text/plain": [
       "(49, (-0.968477667020468, -0.9684776617614542))"
      ]
     },
     "metadata": {},
     "output_type": "display_data"
    },
    {
     "data": {
      "text/plain": [
       "(50, (-0.968477657387368, -0.9684776541371188))"
      ]
     },
     "metadata": {},
     "output_type": "display_data"
    },
    {
     "data": {
      "text/plain": [
       "(51, (-0.9684776590780089, -0.9684776570692442))"
      ]
     },
     "metadata": {},
     "output_type": "display_data"
    },
    {
     "data": {
      "text/plain": [
       "(52, (-0.9684776633367207, -0.968477662095236))"
      ]
     },
     "metadata": {},
     "output_type": "display_data"
    },
    {
     "data": {
      "text/plain": [
       "(53, (-0.9684776586637093, -0.9684776578964294))"
      ]
     },
     "metadata": {},
     "output_type": "display_data"
    },
    {
     "data": {
      "text/plain": [
       "(54, (-0.9684776580917014, -0.9684776576174963))"
      ]
     },
     "metadata": {},
     "output_type": "display_data"
    },
    {
     "data": {
      "text/plain": [
       "(55, (-0.9684776609217463, -0.9684776606286714))"
      ]
     },
     "metadata": {},
     "output_type": "display_data"
    },
    {
     "data": {
      "text/plain": [
       "(56, (-0.9684776564315726, -0.9684776562504425))"
      ]
     },
     "metadata": {},
     "output_type": "display_data"
    },
    {
     "data": {
      "text/plain": [
       "(57, (-0.9684776609175726, -0.9684776608056278))"
      ]
     },
     "metadata": {},
     "output_type": "display_data"
    },
    {
     "data": {
      "text/plain": [
       "(58, (-0.9684776577648759, -0.9684776576956904))"
      ]
     },
     "metadata": {},
     "output_type": "display_data"
    },
    {
     "data": {
      "text/plain": [
       "(59, (-0.9684776572333361, -0.9684776571905771))"
      ]
     },
     "metadata": {},
     "output_type": "display_data"
    },
    {
     "data": {
      "text/plain": [
       "(60, (-0.9684776572529503, -0.968477657226524))"
      ]
     },
     "metadata": {},
     "output_type": "display_data"
    },
    {
     "data": {
      "text/plain": [
       "(61, (-0.9684776632608307, -0.9684776632444981))"
      ]
     },
     "metadata": {},
     "output_type": "display_data"
    },
    {
     "data": {
      "text/plain": [
       "(62, (-0.968477657238226, -0.9684776572281321))"
      ]
     },
     "metadata": {},
     "output_type": "display_data"
    },
    {
     "data": {
      "text/plain": [
       "(63, (-0.968477657154453, -0.9684776571482148))"
      ]
     },
     "metadata": {},
     "output_type": "display_data"
    },
    {
     "data": {
      "text/plain": [
       "(64, (-0.9684776571483158, -0.9684776571444602))"
      ]
     },
     "metadata": {},
     "output_type": "display_data"
    },
    {
     "data": {
      "text/plain": [
       "(65, (-0.9684776609160813, -0.9684776609136984))"
      ]
     },
     "metadata": {},
     "output_type": "display_data"
    },
    {
     "data": {
      "text/plain": [
       "(66, (-0.9684776585888992, -0.9684776585874265))"
      ]
     },
     "metadata": {},
     "output_type": "display_data"
    },
    {
     "data": {
      "text/plain": [
       "(67, (-0.9684776576979982, -0.968477657697088))"
      ]
     },
     "metadata": {},
     "output_type": "display_data"
    },
    {
     "data": {
      "text/plain": [
       "(68, (-0.9684776632262944, -0.9684776632257316))"
      ]
     },
     "metadata": {},
     "output_type": "display_data"
    },
    {
     "data": {
      "text/plain": [
       "(69, (-0.9684776576979927, -0.9684776576976449))"
      ]
     },
     "metadata": {},
     "output_type": "display_data"
    },
    {
     "data": {
      "text/plain": [
       "(70, (-0.9684776632446759, -0.9684776632444609))"
      ]
     },
     "metadata": {},
     "output_type": "display_data"
    },
    {
     "data": {
      "text/plain": [
       "(71, (-0.9684776573582498, -0.968477657358117))"
      ]
     },
     "metadata": {},
     "output_type": "display_data"
    },
    {
     "data": {
      "text/plain": [
       "(72, (-0.9684776632446747, -0.9684776632445925))"
      ]
     },
     "metadata": {},
     "output_type": "display_data"
    },
    {
     "data": {
      "text/plain": [
       "(73, (-0.9684776632463817, -0.968477663246331))"
      ]
     },
     "metadata": {},
     "output_type": "display_data"
    },
    {
     "data": {
      "text/plain": [
       "(74, (-0.968477663244674, -0.9684776632446428))"
      ]
     },
     "metadata": {},
     "output_type": "display_data"
    },
    {
     "data": {
      "text/plain": [
       "(75, (-0.968477663244693, -0.9684776632446737))"
      ]
     },
     "metadata": {},
     "output_type": "display_data"
    },
    {
     "data": {
      "text/plain": [
       "(76, (-0.968477663246393, -0.9684776632463811))"
      ]
     },
     "metadata": {},
     "output_type": "display_data"
    },
    {
     "data": {
      "text/plain": [
       "(77, (-0.968477663244681, -0.9684776632446737))"
      ]
     },
     "metadata": {},
     "output_type": "display_data"
    },
    {
     "data": {
      "text/plain": [
       "(78, (-0.9684776632446739, -0.9684776632446692))"
      ]
     },
     "metadata": {},
     "output_type": "display_data"
    },
    {
     "data": {
      "text/plain": [
       "(79, (-0.9684776570185081, -0.9684776570185051))"
      ]
     },
     "metadata": {},
     "output_type": "display_data"
    },
    {
     "data": {
      "text/plain": [
       "(80, (-0.9684776632446738, -0.9684776632446721))"
      ]
     },
     "metadata": {},
     "output_type": "display_data"
    },
    {
     "data": {
      "text/plain": [
       "(81, (-0.9684776570185081, -0.968477657018507))"
      ]
     },
     "metadata": {},
     "output_type": "display_data"
    },
    {
     "data": {
      "text/plain": [
       "(82, (-0.9684776632463816, -0.9684776632463812))"
      ]
     },
     "metadata": {},
     "output_type": "display_data"
    },
    {
     "data": {
      "text/plain": [
       "(83, (-0.9684776632446741, -0.9684776632446737))"
      ]
     },
     "metadata": {},
     "output_type": "display_data"
    },
    {
     "data": {
      "text/plain": [
       "(84, (-0.9684776632463812, -0.9684776632463812))"
      ]
     },
     "metadata": {},
     "output_type": "display_data"
    },
    {
     "data": {
      "text/plain": [
       "(85, (-0.9684776632446739, -0.9684776632446737))"
      ]
     },
     "metadata": {},
     "output_type": "display_data"
    },
    {
     "data": {
      "text/plain": [
       "(86, (-0.9684776632463812, -0.9684776632463807))"
      ]
     },
     "metadata": {},
     "output_type": "display_data"
    },
    {
     "data": {
      "text/plain": [
       "(87, (-0.9684776632463812, -0.968477663246381))"
      ]
     },
     "metadata": {},
     "output_type": "display_data"
    },
    {
     "data": {
      "text/plain": [
       "(88, (-0.9684776632446739, -0.9684776632446737))"
      ]
     },
     "metadata": {},
     "output_type": "display_data"
    },
    {
     "data": {
      "text/plain": [
       "(89, (-0.9684776632463812, -0.9684776632463807))"
      ]
     },
     "metadata": {},
     "output_type": "display_data"
    },
    {
     "data": {
      "text/plain": [
       "(90, (-0.9684776632446739, -0.9684776632446737))"
      ]
     },
     "metadata": {},
     "output_type": "display_data"
    },
    {
     "data": {
      "text/plain": [
       "(91, (-0.9684776632463812, -0.968477663246381))"
      ]
     },
     "metadata": {},
     "output_type": "display_data"
    },
    {
     "data": {
      "text/plain": [
       "(92, (-0.9684776632446737, -0.9684776632446737))"
      ]
     },
     "metadata": {},
     "output_type": "display_data"
    },
    {
     "data": {
      "text/plain": [
       "(93, (-0.9684776632463812, -0.9684776632463806))"
      ]
     },
     "metadata": {},
     "output_type": "display_data"
    },
    {
     "data": {
      "text/plain": [
       "(94, (-0.9684776632446739, -0.9684776632446737))"
      ]
     },
     "metadata": {},
     "output_type": "display_data"
    },
    {
     "data": {
      "text/plain": [
       "(95, (-0.9684776632446739, -0.9684776632446737))"
      ]
     },
     "metadata": {},
     "output_type": "display_data"
    },
    {
     "data": {
      "text/plain": [
       "(96, (-0.9684776632463812, -0.9684776632463812))"
      ]
     },
     "metadata": {},
     "output_type": "display_data"
    },
    {
     "data": {
      "text/plain": [
       "(97, (-0.9684776632463812, -0.968477663246381))"
      ]
     },
     "metadata": {},
     "output_type": "display_data"
    },
    {
     "data": {
      "text/plain": [
       "(98, (-0.9684776632447101, -0.9684776632447101))"
      ]
     },
     "metadata": {},
     "output_type": "display_data"
    },
    {
     "data": {
      "text/plain": [
       "(99, (-0.9684776632463812, -0.9684776632463807))"
      ]
     },
     "metadata": {},
     "output_type": "display_data"
    },
    {
     "data": {
      "text/plain": [
       "(100, (-0.9684776632446739, -0.9684776632446737))"
      ]
     },
     "metadata": {},
     "output_type": "display_data"
    }
   ],
   "source": [
    "for i in 1:100\n",
    "display((i,fibonacci_search(phi,-32.768, 32.768, i)))\n",
    "end\n"
   ]
  },
  {
   "cell_type": "markdown",
   "metadata": {},
   "source": [
    "Si $n<11$, igual que lo ocurrido anteriormente, nos devuelve un intervalo que contiene al punto $t=0$ de donde concluimos que el algoritmo funciona aún teniendo una función objetivo que no es unimodal en el intervalo $[-32.768,32.768]$. Para todos los números mayores a $11$ vemos que la falta del cumplimiento de la unimodalidad afecta a nuestro resultado y así deja de funcionar el algoritmo. "
   ]
  },
  {
   "cell_type": "markdown",
   "metadata": {},
   "source": [
    "### Golden Section Search"
   ]
  },
  {
   "cell_type": "code",
   "execution_count": 19,
   "metadata": {},
   "outputs": [
    {
     "data": {
      "text/plain": [
       "(1, (-32.768, 32.768))"
      ]
     },
     "metadata": {},
     "output_type": "display_data"
    },
    {
     "data": {
      "text/plain": [
       "(2, (-7.7354754867131135, 32.768))"
      ]
     },
     "metadata": {},
     "output_type": "display_data"
    },
    {
     "data": {
      "text/plain": [
       "(3, (-7.7354754867131135, 17.297049026573784))"
      ]
     },
     "metadata": {},
     "output_type": "display_data"
    },
    {
     "data": {
      "text/plain": [
       "(4, (-7.7354754867131135, 7.7354754867131135))"
      ]
     },
     "metadata": {},
     "output_type": "display_data"
    },
    {
     "data": {
      "text/plain": [
       "(5, (-7.7354754867131135, 1.826098053147562))"
      ]
     },
     "metadata": {},
     "output_type": "display_data"
    },
    {
     "data": {
      "text/plain": [
       "(6, (-4.083279380417983, 1.826098053147562))"
      ]
     },
     "metadata": {},
     "output_type": "display_data"
    },
    {
     "data": {
      "text/plain": [
       "(7, (-1.8260980531475668, 1.826098053147562))"
      ]
     },
     "metadata": {},
     "output_type": "display_data"
    },
    {
     "data": {
      "text/plain": [
       "(8, (-0.4310832741228525, 1.826098053147562))"
      ]
     },
     "metadata": {},
     "output_type": "display_data"
    },
    {
     "data": {
      "text/plain": [
       "(9, (0.43108327412284675, 1.826098053147562))"
      ]
     },
     "metadata": {},
     "output_type": "display_data"
    },
    {
     "data": {
      "text/plain": [
       "(10, (0.43108327412284675, 1.2932498223685447))"
      ]
     },
     "metadata": {},
     "output_type": "display_data"
    },
    {
     "data": {
      "text/plain": [
       "(11, (0.7604015915895272, 1.2932498223685447))"
      ]
     },
     "metadata": {},
     "output_type": "display_data"
    },
    {
     "data": {
      "text/plain": [
       "(12, (0.7604015915895272, 1.089719909056208))"
      ]
     },
     "metadata": {},
     "output_type": "display_data"
    },
    {
     "data": {
      "text/plain": [
       "(13, (0.886189995743871, 1.089719909056208))"
      ]
     },
     "metadata": {},
     "output_type": "display_data"
    },
    {
     "data": {
      "text/plain": [
       "(14, (0.886189995743871, 1.011978399898215))"
      ]
     },
     "metadata": {},
     "output_type": "display_data"
    },
    {
     "data": {
      "text/plain": [
       "(15, (0.934236890740222, 1.011978399898215))"
      ]
     },
     "metadata": {},
     "output_type": "display_data"
    },
    {
     "data": {
      "text/plain": [
       "(16, (0.934236890740222, 0.9822837857365729))"
      ]
     },
     "metadata": {},
     "output_type": "display_data"
    },
    {
     "data": {
      "text/plain": [
       "(17, (0.9525891715749308, 0.9822837857365729))"
      ]
     },
     "metadata": {},
     "output_type": "display_data"
    },
    {
     "data": {
      "text/plain": [
       "(18, (0.9639315049018635, 0.9822837857365729))"
      ]
     },
     "metadata": {},
     "output_type": "display_data"
    },
    {
     "data": {
      "text/plain": [
       "(19, (0.9639315049018635, 0.9752738382287971))"
      ]
     },
     "metadata": {},
     "output_type": "display_data"
    },
    {
     "data": {
      "text/plain": [
       "(20, (0.9639315049018635, 0.9709414524096396))"
      ]
     },
     "metadata": {},
     "output_type": "display_data"
    },
    {
     "data": {
      "text/plain": [
       "(21, (0.9666090665904814, 0.9709414524096396))"
      ]
     },
     "metadata": {},
     "output_type": "display_data"
    },
    {
     "data": {
      "text/plain": [
       "(22, (0.9666090665904814, 0.9692866282790993))"
      ]
     },
     "metadata": {},
     "output_type": "display_data"
    },
    {
     "data": {
      "text/plain": [
       "(23, (0.9676318041485588, 0.9692866282790993))"
      ]
     },
     "metadata": {},
     "output_type": "display_data"
    },
    {
     "data": {
      "text/plain": [
       "(24, (0.9682638907210215, 0.9692866282790993))"
      ]
     },
     "metadata": {},
     "output_type": "display_data"
    },
    {
     "data": {
      "text/plain": [
       "(25, (0.9682638907210215, 0.9688959772934846))"
      ]
     },
     "metadata": {},
     "output_type": "display_data"
    },
    {
     "data": {
      "text/plain": [
       "(26, (0.9682638907210215, 0.9686545417066363))"
      ]
     },
     "metadata": {},
     "output_type": "display_data"
    },
    {
     "data": {
      "text/plain": [
       "(27, (0.9684131061197876, 0.9686545417066363))"
      ]
     },
     "metadata": {},
     "output_type": "display_data"
    },
    {
     "data": {
      "text/plain": [
       "(28, (0.9684131061197876, 0.9685623215185539))"
      ]
     },
     "metadata": {},
     "output_type": "display_data"
    },
    {
     "data": {
      "text/plain": [
       "(29, (0.9684131061197876, 0.96850532630787))"
      ]
     },
     "metadata": {},
     "output_type": "display_data"
    },
    {
     "data": {
      "text/plain": [
       "(30, (0.9684483310971862, 0.96850532630787))"
      ]
     },
     "metadata": {},
     "output_type": "display_data"
    },
    {
     "data": {
      "text/plain": [
       "(31, (0.9684701013304715, 0.96850532630787))"
      ]
     },
     "metadata": {},
     "output_type": "display_data"
    },
    {
     "data": {
      "text/plain": [
       "(32, (0.9684701013304715, 0.9684918715637567))"
      ]
     },
     "metadata": {},
     "output_type": "display_data"
    },
    {
     "data": {
      "text/plain": [
       "(33, (0.9684701013304715, 0.9684835560745848))"
      ]
     },
     "metadata": {},
     "output_type": "display_data"
    },
    {
     "data": {
      "text/plain": [
       "(34, (0.9684752405854129, 0.9684835560745848))"
      ]
     },
     "metadata": {},
     "output_type": "display_data"
    },
    {
     "data": {
      "text/plain": [
       "(35, (0.9684752405854129, 0.9684803798403542))"
      ]
     },
     "metadata": {},
     "output_type": "display_data"
    },
    {
     "data": {
      "text/plain": [
       "(36, (0.9684752405854129, 0.9684784168196434))"
      ]
     },
     "metadata": {},
     "output_type": "display_data"
    },
    {
     "data": {
      "text/plain": [
       "(37, (0.9684764537989328, 0.9684784168196434))"
      ]
     },
     "metadata": {},
     "output_type": "display_data"
    },
    {
     "data": {
      "text/plain": [
       "(38, (0.9684772036061237, 0.9684784168196434))"
      ]
     },
     "metadata": {},
     "output_type": "display_data"
    },
    {
     "data": {
      "text/plain": [
       "(39, (0.9684772036061237, 0.9684779534133144))"
      ]
     },
     "metadata": {},
     "output_type": "display_data"
    },
    {
     "data": {
      "text/plain": [
       "(40, (0.9684774900069856, 0.9684779534133144))"
      ]
     },
     "metadata": {},
     "output_type": "display_data"
    },
    {
     "data": {
      "text/plain": [
       "(41, (0.9684774900069856, 0.9684777764078474))"
      ]
     },
     "metadata": {},
     "output_type": "display_data"
    },
    {
     "data": {
      "text/plain": [
       "(42, (0.9684775994023804, 0.9684777764078474))"
      ]
     },
     "metadata": {},
     "output_type": "display_data"
    },
    {
     "data": {
      "text/plain": [
       "(43, (0.9684775994023804, 0.9684777087977752))"
      ]
     },
     "metadata": {},
     "output_type": "display_data"
    },
    {
     "data": {
      "text/plain": [
       "(44, (0.968477641187703, 0.9684777087977752))"
      ]
     },
     "metadata": {},
     "output_type": "display_data"
    },
    {
     "data": {
      "text/plain": [
       "(45, (0.968477641187703, 0.9684776829730256))"
      ]
     },
     "metadata": {},
     "output_type": "display_data"
    },
    {
     "data": {
      "text/plain": [
       "(46, (0.968477641187703, 0.9684776670124526))"
      ]
     },
     "metadata": {},
     "output_type": "display_data"
    },
    {
     "data": {
      "text/plain": [
       "(47, (0.9684776510518796, 0.9684776670124526))"
      ]
     },
     "metadata": {},
     "output_type": "display_data"
    },
    {
     "data": {
      "text/plain": [
       "(48, (0.9684776510518796, 0.9684776609160562))"
      ]
     },
     "metadata": {},
     "output_type": "display_data"
    },
    {
     "data": {
      "text/plain": [
       "(49, (0.9684776548196598, 0.9684776609160562))"
      ]
     },
     "metadata": {},
     "output_type": "display_data"
    },
    {
     "data": {
      "text/plain": [
       "(50, (0.9684776548196598, 0.96847765858744))"
      ]
     },
     "metadata": {},
     "output_type": "display_data"
    },
    {
     "data": {
      "text/plain": [
       "(51, (0.9684776562588238, 0.96847765858744))"
      ]
     },
     "metadata": {},
     "output_type": "display_data"
    },
    {
     "data": {
      "text/plain": [
       "(52, (0.9684776562588238, 0.9684776576979877))"
      ]
     },
     "metadata": {},
     "output_type": "display_data"
    },
    {
     "data": {
      "text/plain": [
       "(53, (0.9684776568085354, 0.9684776576979877))"
      ]
     },
     "metadata": {},
     "output_type": "display_data"
    },
    {
     "data": {
      "text/plain": [
       "(54, (0.968477657148276, 0.9684776576979877))"
      ]
     },
     "metadata": {},
     "output_type": "display_data"
    },
    {
     "data": {
      "text/plain": [
       "(55, (0.968477657148276, 0.9684776574880165))"
      ]
     },
     "metadata": {},
     "output_type": "display_data"
    },
    {
     "data": {
      "text/plain": [
       "(56, (0.9684776572780454, 0.9684776574880165))"
      ]
     },
     "metadata": {},
     "output_type": "display_data"
    },
    {
     "data": {
      "text/plain": [
       "(57, (0.9684776572780454, 0.9684776574078147))"
      ]
     },
     "metadata": {},
     "output_type": "display_data"
    },
    {
     "data": {
      "text/plain": [
       "(58, (0.9684776573276128, 0.9684776574078147))"
      ]
     },
     "metadata": {},
     "output_type": "display_data"
    },
    {
     "data": {
      "text/plain": [
       "(59, (0.9684776573276128, 0.9684776573771803))"
      ]
     },
     "metadata": {},
     "output_type": "display_data"
    },
    {
     "data": {
      "text/plain": [
       "(60, (0.9684776573465459, 0.9684776573771803))"
      ]
     },
     "metadata": {},
     "output_type": "display_data"
    },
    {
     "data": {
      "text/plain": [
       "(61, (0.9684776573465459, 0.968477657365479))"
      ]
     },
     "metadata": {},
     "output_type": "display_data"
    },
    {
     "data": {
      "text/plain": [
       "(62, (0.9684776573537777, 0.968477657365479))"
      ]
     },
     "metadata": {},
     "output_type": "display_data"
    },
    {
     "data": {
      "text/plain": [
       "(63, (0.9684776573537777, 0.9684776573610094))"
      ]
     },
     "metadata": {},
     "output_type": "display_data"
    },
    {
     "data": {
      "text/plain": [
       "(64, (0.9684776573565399, 0.9684776573610094))"
      ]
     },
     "metadata": {},
     "output_type": "display_data"
    },
    {
     "data": {
      "text/plain": [
       "(65, (0.9684776573565399, 0.9684776573593021))"
      ]
     },
     "metadata": {},
     "output_type": "display_data"
    },
    {
     "data": {
      "text/plain": [
       "(66, (0.968477657357595, 0.9684776573593021))"
      ]
     },
     "metadata": {},
     "output_type": "display_data"
    },
    {
     "data": {
      "text/plain": [
       "(67, (0.968477657357595, 0.96847765735865))"
      ]
     },
     "metadata": {},
     "output_type": "display_data"
    },
    {
     "data": {
      "text/plain": [
       "(68, (0.968477657357998, 0.96847765735865))"
      ]
     },
     "metadata": {},
     "output_type": "display_data"
    },
    {
     "data": {
      "text/plain": [
       "(69, (0.968477657357998, 0.968477657358401))"
      ]
     },
     "metadata": {},
     "output_type": "display_data"
    },
    {
     "data": {
      "text/plain": [
       "(70, (0.9684776573581519, 0.968477657358401))"
      ]
     },
     "metadata": {},
     "output_type": "display_data"
    },
    {
     "data": {
      "text/plain": [
       "(71, (0.9684776573581519, 0.9684776573583058))"
      ]
     },
     "metadata": {},
     "output_type": "display_data"
    },
    {
     "data": {
      "text/plain": [
       "(72, (0.9684776573582107, 0.9684776573583058))"
      ]
     },
     "metadata": {},
     "output_type": "display_data"
    },
    {
     "data": {
      "text/plain": [
       "(73, (0.9684776573582107, 0.9684776573582694))"
      ]
     },
     "metadata": {},
     "output_type": "display_data"
    },
    {
     "data": {
      "text/plain": [
       "(74, (0.9684776573582331, 0.9684776573582694))"
      ]
     },
     "metadata": {},
     "output_type": "display_data"
    },
    {
     "data": {
      "text/plain": [
       "(75, (0.9684776573582331, 0.9684776573582555))"
      ]
     },
     "metadata": {},
     "output_type": "display_data"
    },
    {
     "data": {
      "text/plain": [
       "(76, (0.9684776573582417, 0.9684776573582555))"
      ]
     },
     "metadata": {},
     "output_type": "display_data"
    },
    {
     "data": {
      "text/plain": [
       "(77, (0.9684776573582417, 0.9684776573582503))"
      ]
     },
     "metadata": {},
     "output_type": "display_data"
    },
    {
     "data": {
      "text/plain": [
       "(78, (0.968477657358245, 0.9684776573582503))"
      ]
     },
     "metadata": {},
     "output_type": "display_data"
    },
    {
     "data": {
      "text/plain": [
       "(79, (0.968477657358245, 0.9684776573582483))"
      ]
     },
     "metadata": {},
     "output_type": "display_data"
    },
    {
     "data": {
      "text/plain": [
       "(80, (0.9684776573582462, 0.9684776573582483))"
      ]
     },
     "metadata": {},
     "output_type": "display_data"
    },
    {
     "data": {
      "text/plain": [
       "(81, (0.9684776573582462, 0.9684776573582475))"
      ]
     },
     "metadata": {},
     "output_type": "display_data"
    },
    {
     "data": {
      "text/plain": [
       "(82, (0.9684776573582468, 0.9684776573582475))"
      ]
     },
     "metadata": {},
     "output_type": "display_data"
    },
    {
     "data": {
      "text/plain": [
       "(83, (0.9684776573582468, 0.9684776573582472))"
      ]
     },
     "metadata": {},
     "output_type": "display_data"
    },
    {
     "data": {
      "text/plain": [
       "(84, (0.968477657358247, 0.9684776573582472))"
      ]
     },
     "metadata": {},
     "output_type": "display_data"
    },
    {
     "data": {
      "text/plain": [
       "(85, (0.968477657358247, 0.9684776573582472))"
      ]
     },
     "metadata": {},
     "output_type": "display_data"
    },
    {
     "data": {
      "text/plain": [
       "(86, (0.968477657358247, 0.9684776573582472))"
      ]
     },
     "metadata": {},
     "output_type": "display_data"
    },
    {
     "data": {
      "text/plain": [
       "(87, (0.968477657358247, 0.9684776573582472))"
      ]
     },
     "metadata": {},
     "output_type": "display_data"
    },
    {
     "data": {
      "text/plain": [
       "(88, (0.968477657358247, 0.9684776573582472))"
      ]
     },
     "metadata": {},
     "output_type": "display_data"
    },
    {
     "data": {
      "text/plain": [
       "(89, (0.968477657358247, 0.9684776573582472))"
      ]
     },
     "metadata": {},
     "output_type": "display_data"
    },
    {
     "data": {
      "text/plain": [
       "(90, (0.968477657358247, 0.9684776573582472))"
      ]
     },
     "metadata": {},
     "output_type": "display_data"
    },
    {
     "data": {
      "text/plain": [
       "(91, (0.968477657358247, 0.9684776573582472))"
      ]
     },
     "metadata": {},
     "output_type": "display_data"
    },
    {
     "data": {
      "text/plain": [
       "(92, (0.968477657358247, 0.9684776573582472))"
      ]
     },
     "metadata": {},
     "output_type": "display_data"
    },
    {
     "data": {
      "text/plain": [
       "(93, (0.968477657358247, 0.9684776573582472))"
      ]
     },
     "metadata": {},
     "output_type": "display_data"
    },
    {
     "data": {
      "text/plain": [
       "(94, (0.968477657358247, 0.9684776573582472))"
      ]
     },
     "metadata": {},
     "output_type": "display_data"
    },
    {
     "data": {
      "text/plain": [
       "(95, (0.968477657358247, 0.9684776573582472))"
      ]
     },
     "metadata": {},
     "output_type": "display_data"
    },
    {
     "data": {
      "text/plain": [
       "(96, (0.968477657358247, 0.9684776573582472))"
      ]
     },
     "metadata": {},
     "output_type": "display_data"
    },
    {
     "data": {
      "text/plain": [
       "(97, (0.968477657358247, 0.9684776573582472))"
      ]
     },
     "metadata": {},
     "output_type": "display_data"
    },
    {
     "data": {
      "text/plain": [
       "(98, (0.968477657358247, 0.9684776573582472))"
      ]
     },
     "metadata": {},
     "output_type": "display_data"
    },
    {
     "data": {
      "text/plain": [
       "(99, (0.968477657358247, 0.9684776573582472))"
      ]
     },
     "metadata": {},
     "output_type": "display_data"
    },
    {
     "data": {
      "text/plain": [
       "(100, (0.968477657358247, 0.9684776573582472))"
      ]
     },
     "metadata": {},
     "output_type": "display_data"
    }
   ],
   "source": [
    "for i in 1:100\n",
    "display((i,golden_section_search(phi,-32.768, 32.768, i)))\n",
    "end"
   ]
  },
  {
   "cell_type": "markdown",
   "metadata": {},
   "source": [
    "Durante la ejecución de este algoritmo, observamos que si la cantidad de iteraciones en el ciclo `for`supera a las 8 (es decir, $n>8$), el intervalo devuelto por `golden_section_search` no contiene al punto mínimo $t=0$ y devuelve intervalos de longitudes pequeñas a partir de $n=20$. Al igual que lo ocurrido con `fibonacci_search`el incumplimiento de la hipótesis de *unimodalidad* por parte de nuestra función objetivo se ve reflejado en el mal funcionamiento del algoritmo para valores de n considereblemente bajos. "
   ]
  },
  {
   "cell_type": "markdown",
   "metadata": {},
   "source": [
    "### Quadractic fit Search"
   ]
  },
  {
   "cell_type": "code",
   "execution_count": 20,
   "metadata": {},
   "outputs": [
    {
     "data": {
      "text/plain": [
       "(-32.768, 0, 32.768)"
      ]
     },
     "execution_count": 20,
     "metadata": {},
     "output_type": "execute_result"
    }
   ],
   "source": [
    "quadratic_fit_search(phi,-32.768, 0, 32.768, 100)"
   ]
  },
  {
   "cell_type": "markdown",
   "metadata": {},
   "source": [
    "Este algortimo funciona, pues devuelve, tomando como punto central al cero, una función cuadrática de la forma $ax^2-a$ (en este caso particular, $a=32.768$) cuya derivada es $2ax$ que se anula en cero, por tener segunda derivada $2a$ con $a>0$, obtenemos que la función tiene un mínimo en $0$ como queríamos."
   ]
  },
  {
   "cell_type": "markdown",
   "metadata": {},
   "source": [
    "### Shubert-Piyavskii"
   ]
  },
  {
   "cell_type": "code",
   "execution_count": 21,
   "metadata": {},
   "outputs": [
    {
     "data": {
      "text/plain": [
       "(Ppt(0.0, 4.440892098500626e-16), Any[(-0.011183991172738834, 0.011183991172738831)])"
      ]
     },
     "execution_count": 21,
     "metadata": {},
     "output_type": "execute_result"
    }
   ],
   "source": [
    "#Primero lo corremos con K1 obtenido analíticamente\n",
    "shubert_piyavskii(phi, -32.768, 32.768, K1, 10^-2, 0.01)"
   ]
  },
  {
   "cell_type": "code",
   "execution_count": 22,
   "metadata": {},
   "outputs": [
    {
     "data": {
      "text/plain": [
       "(Ppt(0.0, 4.440892098500626e-16), Any[(-0.0009111238942008074, 0.002648202421555829)])"
      ]
     },
     "execution_count": 22,
     "metadata": {},
     "output_type": "execute_result"
    }
   ],
   "source": [
    "#Implementamos, ahora, con K2 obtenido vía el algoritmo Klip\n",
    "shubert_piyavskii(phi, -32.768, 32.768, K2, 10^-2, 0.01)"
   ]
  },
  {
   "cell_type": "markdown",
   "metadata": {},
   "source": [
    "Claramente, este algoritmo funciono puesto que el punto sugerido en ambas celdas es cero y el valor de la función en tal punto es un *cero de máquina*, además, el mínimo está contenido en los intervalos de incertidumbre obtenidos. Además, cuando el algoritmo se implementó con la constante de Lipchitz obtenida con la función `KLip`, el intervalo de incertidumbre tuvo menor medida, es decir, fue más preciso el algoritmo. "
   ]
  },
  {
   "cell_type": "markdown",
   "metadata": {},
   "source": [
    "### Bisección"
   ]
  },
  {
   "cell_type": "code",
   "execution_count": 23,
   "metadata": {},
   "outputs": [
    {
     "data": {
      "text/plain": [
       "(1, (-20.543999999999997, -20.48))"
      ]
     },
     "metadata": {},
     "output_type": "display_data"
    },
    {
     "data": {
      "text/plain": [
       "(2, (-20.512, -20.504))"
      ]
     },
     "metadata": {},
     "output_type": "display_data"
    },
    {
     "data": {
      "text/plain": [
       "(3, (-20.505000000000003, -20.5045))"
      ]
     },
     "metadata": {},
     "output_type": "display_data"
    },
    {
     "data": {
      "text/plain": [
       "(4, (-20.5045625, -20.5045))"
      ]
     },
     "metadata": {},
     "output_type": "display_data"
    },
    {
     "data": {
      "text/plain": [
       "(5, (-20.5045625, -20.504554687499997))"
      ]
     },
     "metadata": {},
     "output_type": "display_data"
    },
    {
     "data": {
      "text/plain": [
       "(6, (-20.504559570312498, -20.504558593749998))"
      ]
     },
     "metadata": {},
     "output_type": "display_data"
    },
    {
     "data": {
      "text/plain": [
       "(7, (-20.50455908203125, -20.504559020996094))"
      ]
     },
     "metadata": {},
     "output_type": "display_data"
    },
    {
     "data": {
      "text/plain": [
       "(8, (-20.504559036254882, -20.504559028625486))"
      ]
     },
     "metadata": {},
     "output_type": "display_data"
    },
    {
     "data": {
      "text/plain": [
       "(9, (-20.504559032440184, -20.504559031486508))"
      ]
     },
     "metadata": {},
     "output_type": "display_data"
    },
    {
     "data": {
      "text/plain": [
       "(10, (-20.504559031546112, -20.504559031486508))"
      ]
     },
     "metadata": {},
     "output_type": "display_data"
    }
   ],
   "source": [
    "for i in 1:10\n",
    "display((i,bisection(dphi, -32.768, 32.768, 1/(10^i))))\n",
    "end"
   ]
  },
  {
   "cell_type": "markdown",
   "metadata": {},
   "source": [
    "En este caso, se supone que el mínimo tiene que estar estrictamente contenido en el intervalo que da como resultado, pero como vemos en cada iteración, para un error menor a $10^{-i}$, el intervalo tiene su extremo izquierdo en cero, donde yace el mínimo de nuestra función objetivo. Esto es una clara consecuencia de que la misma no es derivable en $t=0$ pues:\\\n",
    "$$\\lim_{t\\rightarrow 0^-} \\phi'(t)=-4,$$ y\\\n",
    "$$\\lim_{t\\rightarrow 0^+} \\phi'(t)=4$$.\\\n",
    "De ahí que el método falla."
   ]
  },
  {
   "cell_type": "markdown",
   "metadata": {},
   "source": [
    "### Bracket Sign Change"
   ]
  },
  {
   "cell_type": "code",
   "execution_count": 24,
   "metadata": {},
   "outputs": [
    {
     "data": {
      "text/plain": [
       "(-32.768, 32.768)"
      ]
     },
     "execution_count": 24,
     "metadata": {},
     "output_type": "execute_result"
    }
   ],
   "source": [
    "bracket_sign_change(dphi, -32.768, 32.768; k=3)"
   ]
  },
  {
   "cell_type": "markdown",
   "metadata": {},
   "source": [
    "Finalmente, en la implementación de `bracket_sign_change`vemos que no se modifica nuestro intervalo original, pues al ser la derivada una función impar, no necesita hacer modificaciones al intervalo inicial"
   ]
  },
  {
   "cell_type": "markdown",
   "metadata": {},
   "source": [
    "## Fuentes: \n",
    "- Kochenderfer, Mykel J.,Wheeler, Tim A.(2019) *Algorithms for Optimization* (1st Edition).Cambridge, MA : The MIT Press\n",
    "- https://www.sfu.ca/~ssurjano/ackley.html \n",
    "- https://www.famaf.proed.unc.edu.ar/pluginfile.php/70941/mod_resource/content/1/Fibonacci.pdf \n"
   ]
  }
 ],
 "metadata": {
  "kernelspec": {
   "display_name": "Julia 1.5.1",
   "language": "julia",
   "name": "julia-1.5"
  },
  "language_info": {
   "file_extension": ".jl",
   "mimetype": "application/julia",
   "name": "julia",
   "version": "1.5.1"
  }
 },
 "nbformat": 4,
 "nbformat_minor": 4
}
