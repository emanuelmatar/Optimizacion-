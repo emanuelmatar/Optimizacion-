{
 "cells": [
  {
   "cell_type": "markdown",
   "metadata": {},
   "source": [
    " <center>\n",
    "    \n",
    " # Segundo Parcial - Optimización 2020\n",
    "## FaMAFyC\n",
    "### Emanuel Matar"
   ]
  },
  {
   "cell_type": "markdown",
   "metadata": {},
   "source": [
    "$OP-P3-E1$ Implementar los siguientes algoritmos para resolver sistemas no lineales: método de Newton,\n",
    "método de Newton estacionario, método de Newton estacionario con recomienzos cada m iteraciones y el método de Broyden. \n",
    "Los datos de entrada de ambos algoritmos deberán ser una aproximación inicial, una tolerancia para el criterio de parada, una cantidad máxima de iteraciones y el parámetro m para el método de Newton estacionario con recomienzos. \n",
    "La función y\n",
    "la matriz jacobiana, cuando corresponda, deberán escribirse en otra subrutina o función independiente.\n",
    "La salida deberá incluir: el valor del minimizador, el valor de mínimo, el número de Iteraciones y el error en $x$, en aquellos casos que se conozca la solución."
   ]
  },
  {
   "cell_type": "markdown",
   "metadata": {},
   "source": [
    "**Observación** en cada una de las implementaciones aparece una variable `e_[nombre del método]`que respresenta el error entre la solución conocida del problema y la obtenida en la implementación del correspondiente algoritmo. En caso de que no se conozca la solución, cada algoritmo imprime un mensaje y devuelve la norma del vector resultante."
   ]
  },
  {
   "cell_type": "markdown",
   "metadata": {},
   "source": [
    "### Método de Newton"
   ]
  },
  {
   "cell_type": "code",
   "execution_count": 1,
   "metadata": {},
   "outputs": [],
   "source": [
    "format long"
   ]
  },
  {
   "cell_type": "code",
   "execution_count": 2,
   "metadata": {},
   "outputs": [],
   "source": [
    "function [x0,y,e_newton] = newton(F,JF,x0,tol,maxit,y)\n",
    "f=F(x0);\n",
    "Jf=JF(x0);\n",
    "i=1;\n",
    "while(norm(f)>tol && i<maxit)\n",
    "    s=inv(Jf)*f'; \n",
    "    s=(-1)*s';\n",
    "    x=x0;\n",
    "    x0=x0.+s;\n",
    "    f=F(x0); \n",
    "    Jf=JF(x0);\n",
    "    i=i+1;\n",
    "    endwhile\n",
    "    if (nargin == 6)\n",
    "    e_newton=norm(x0-y);\n",
    "    else\n",
    "    display(\"No hay punto óptimo de referencia para comparar\")\n",
    "    norma=norm(x0)\n",
    "    end\n",
    "endfunction "
   ]
  },
  {
   "cell_type": "markdown",
   "metadata": {},
   "source": [
    "### Método de Newton Estacionario"
   ]
  },
  {
   "cell_type": "code",
   "execution_count": 3,
   "metadata": {},
   "outputs": [],
   "source": [
    "function [x0,y,e_newton_estacionario]=newtonestacionario(F,JF,x0,tol,maxit,y)\n",
    "f=F(x0);\n",
    "Jf=JF(x0);\n",
    "A=inv(Jf);\n",
    "i=1;\n",
    "while (norm(f)>tol && i<maxit)\n",
    "    s=A*f';\n",
    "    s=-s';\n",
    "    x0=x0.+s;\n",
    "    f=F(x0);\n",
    "    i=i+1;\n",
    "    endwhile\n",
    "    if (nargin == 6)\n",
    "    e_newton_estacionario=norm(x0-y);\n",
    "    else\n",
    "    display(\"No hay punto óptimo de referencia para comparar\")\n",
    "    norma=norm(x0)\n",
    "    end\n",
    "endfunction \n",
    "%La diferencia entre Newton estacionario y el comun, es que este calcula una sola vez la Jacobiana en el primer x0"
   ]
  },
  {
   "cell_type": "markdown",
   "metadata": {},
   "source": [
    "### Método de Newton Estacionario con refresh"
   ]
  },
  {
   "cell_type": "code",
   "execution_count": 4,
   "metadata": {},
   "outputs": [],
   "source": [
    "function [x0,y,e_estacionario_refresh]=newtonconrefresh(F,JF,x0,tol,maxit,m,y)\n",
    "f=F(x0);\n",
    "Jf=JF(x0);\n",
    "A=inv(Jf);\n",
    "i=1;\n",
    "k=0;\n",
    "while (norm(f)>tol && i<maxit)\n",
    "    s=A*f';\n",
    "    s=-s';\n",
    "    x0=x0.+s;\n",
    "    f=F(x0);\n",
    "    i=i+1;\n",
    "    k=k+1;\n",
    "        if k==m\n",
    "        Jf=JF(x0);\n",
    "        A=inv(Jf);\n",
    "        k=0;\n",
    "        endif\n",
    "    endwhile\n",
    "    if (nargin == 7)\n",
    "    e_estacionario_refresh=norm(x0-y);\n",
    "    else\n",
    "    display(\"No hay punto óptimo de referencia para comparar\")\n",
    "    norma=norm(x0)\n",
    "    end\n",
    "endfunction \n",
    "%En este newton se actualiza la Jacobiana cada m iteracciones."
   ]
  },
  {
   "cell_type": "markdown",
   "metadata": {},
   "source": [
    "### Método de Broyden"
   ]
  },
  {
   "cell_type": "code",
   "execution_count": 5,
   "metadata": {},
   "outputs": [],
   "source": [
    "function [x0,y,e_broyden]=Broyden(F,JF,x0,tol,maxit,y)\n",
    "f=F(x0);\n",
    "A=JF(x0);\n",
    "k=1;\n",
    "while (norm(f)>tol && k<maxit)\n",
    "   s=inv(A)*(f');\n",
    "   s=-s';\n",
    "   x=x0;\n",
    "   x0=x0+s;\n",
    "   f=F(x0);\n",
    "   f1=F(x);\n",
    "   t=f-f1;\n",
    "   u=A*(s');\n",
    "   u=u';\n",
    "   t=(t-u)'*(s);\n",
    "   v=norm(s)^2;\n",
    "   A=A.+(t/v);\n",
    "   k=k+1;\n",
    "   endwhile\n",
    "   if (nargin == 6)\n",
    "    e_broyden=norm(x0-y);\n",
    "    else\n",
    "    display(\"No hay punto óptimo de referencia para comparar\")\n",
    "    norma=norm(x0)\n",
    "    end\n",
    "   endfunction "
   ]
  },
  {
   "cell_type": "markdown",
   "metadata": {},
   "source": [
    "$OP-P3-E2$ Aplicar todas las implementaciones anteriores para resolver F(x) = 0, para las siguientes funciones y comparar los resultados obtenidos con los diferentes métodos.\n"
   ]
  },
  {
   "cell_type": "markdown",
   "metadata": {},
   "source": [
    " $(a)$ $F(x) = \n",
    "\\Bigg(\n",
    "    \\begin{matrix}\n",
    "        (x_1+3)(x_2^3-7)+18 \\\\\n",
    "        sen(x_2e^{x_1}-1) \n",
    "    \\end{matrix}\n",
    "\\Bigg)$\n",
    "\n",
    "$x_* = (0,1)$, $x_0 = (-0.5 ; 1.4)$\n"
   ]
  },
  {
   "cell_type": "code",
   "execution_count": 6,
   "metadata": {},
   "outputs": [],
   "source": [
    "function F=Fa(x)\n",
    "F=[(x(1)+3)*(x(2)^(3)-7)+18, sin(x(2)*exp(x(1))-1)];\n",
    "endfunction"
   ]
  },
  {
   "cell_type": "code",
   "execution_count": 7,
   "metadata": {},
   "outputs": [],
   "source": [
    "function JF=JFa(x)\n",
    "JF=[x(2)^(3)-7 (x(1)+3)*(3*x(2)^(2));cos(x(2)*exp(x(1))-1)*x(2)*exp(x(1)), cos(x(2)*exp(x(1))-1)*exp(x(1))];\n",
    "endfunction"
   ]
  },
  {
   "cell_type": "code",
   "execution_count": 8,
   "metadata": {},
   "outputs": [
    {
     "name": "stdout",
     "output_type": "stream",
     "text": [
      "ya =\n",
      "\n",
      "   0   1\n",
      "\n",
      "x0a =\n",
      "\n",
      "  -5.000000000000000e-01   1.400000000000000e+00\n",
      "\n"
     ]
    }
   ],
   "source": [
    "ya=[0,1]\n",
    "x0a=[-0.5,1.4]"
   ]
  },
  {
   "cell_type": "markdown",
   "metadata": {},
   "source": [
    "Procedemos a aplicar los algoritmos programados supra"
   ]
  },
  {
   "cell_type": "markdown",
   "metadata": {},
   "source": [
    "`Newton`"
   ]
  },
  {
   "cell_type": "code",
   "execution_count": 9,
   "metadata": {},
   "outputs": [
    {
     "name": "stdout",
     "output_type": "stream",
     "text": [
      "xmina =\n",
      "\n",
      "  -1.779077709717497e-08   1.000000005551385e+00\n",
      "\n",
      "ya =\n",
      "\n",
      "   0   1\n",
      "\n",
      "e_newton =    1.863678155089833e-08\n"
     ]
    }
   ],
   "source": [
    "[xmina,ya,e_newton] = newton(@Fa,@JFa,x0a,1e-4,100,ya)"
   ]
  },
  {
   "cell_type": "markdown",
   "metadata": {},
   "source": [
    "`Newton estacionario`"
   ]
  },
  {
   "cell_type": "code",
   "execution_count": 10,
   "metadata": {
    "scrolled": false
   },
   "outputs": [
    {
     "name": "stdout",
     "output_type": "stream",
     "text": [
      "xmina =\n",
      "\n",
      "  -8.030298965463242e-06   1.000003955759192e+00\n",
      "\n",
      "ya =\n",
      "\n",
      "   0   1\n",
      "\n",
      "e_newton_estacionario =    8.951744648933499e-06\n"
     ]
    }
   ],
   "source": [
    "[xmina,ya,e_newton_estacionario]=newtonestacionario(@Fa,@JFa,x0a,1e-4,100,ya)"
   ]
  },
  {
   "cell_type": "markdown",
   "metadata": {},
   "source": [
    "`Newton Estacionario con refresh`"
   ]
  },
  {
   "cell_type": "code",
   "execution_count": 11,
   "metadata": {},
   "outputs": [
    {
     "name": "stdout",
     "output_type": "stream",
     "text": [
      "xmina =\n",
      "\n",
      "  -8.030298965463242e-06   1.000003955759192e+00\n",
      "\n",
      "ya =\n",
      "\n",
      "   0   1\n",
      "\n",
      "e_estacionario_refresh =    8.951744648933499e-06\n"
     ]
    }
   ],
   "source": [
    "[xmina,ya,e_estacionario_refresh]=newtonconrefresh(@Fa,@JFa,x0a,1e-4,100,5,ya)"
   ]
  },
  {
   "cell_type": "markdown",
   "metadata": {},
   "source": [
    "`Méotodo de Broyden`"
   ]
  },
  {
   "cell_type": "code",
   "execution_count": 12,
   "metadata": {},
   "outputs": [
    {
     "name": "stdout",
     "output_type": "stream",
     "text": [
      "xmina =\n",
      "\n",
      "  -1.327508959181220e-07   1.000000045338361e+00\n",
      "\n",
      "ya =\n",
      "\n",
      "   0   1\n",
      "\n",
      "e_broyden =    1.402796041880864e-07\n"
     ]
    }
   ],
   "source": [
    "[xmina,ya,e_broyden]=Broyden(@Fa,@JFa,x0a,1e-4,100,ya)"
   ]
  },
  {
   "cell_type": "markdown",
   "metadata": {},
   "source": [
    "Para este ejercicio vemos, al comparar la norma de los errores, que el método más preciso fue el de `Newton`"
   ]
  },
  {
   "cell_type": "markdown",
   "metadata": {},
   "source": [
    "$(b)$ $F(x) =\n",
    "\\begin{pmatrix}\n",
    "    x_1 + x_2 - 3 \\\\\n",
    "    x_1^2 + x_2^2 - 9\n",
    "\\end{pmatrix}$\n",
    "\n",
    "$x_* = (0,3)$, $x_0 = (1,5)$"
   ]
  },
  {
   "cell_type": "code",
   "execution_count": 13,
   "metadata": {},
   "outputs": [
    {
     "name": "stdout",
     "output_type": "stream",
     "text": [
      "yb =\n",
      "\n",
      "   0   3\n",
      "\n",
      "x0b =\n",
      "\n",
      "   1   5\n",
      "\n"
     ]
    }
   ],
   "source": [
    "yb=[0,3]\n",
    "x0b=[1, 5]"
   ]
  },
  {
   "cell_type": "code",
   "execution_count": 14,
   "metadata": {},
   "outputs": [],
   "source": [
    "function F=Fb(x)\n",
    "F=[x(1)+x(2)-3, x(1)^2+x(2)^2-9];\n",
    "endfunction"
   ]
  },
  {
   "cell_type": "code",
   "execution_count": 15,
   "metadata": {},
   "outputs": [],
   "source": [
    "function JF=JFb(x)\n",
    "JF=[1,1; 2*x(1), 2*x(2)];\n",
    "endfunction"
   ]
  },
  {
   "cell_type": "markdown",
   "metadata": {},
   "source": [
    "`Newton`"
   ]
  },
  {
   "cell_type": "code",
   "execution_count": 16,
   "metadata": {},
   "outputs": [
    {
     "name": "stdout",
     "output_type": "stream",
     "text": [
      "xminb =\n",
      "\n",
      "  -2.342597337527761e-06   3.000002342597337e+00\n",
      "\n",
      "yb =\n",
      "\n",
      "   0   3\n",
      "\n",
      "e_newton =    3.312932925852904e-06\n"
     ]
    }
   ],
   "source": [
    "[xminb,yb,e_newton] = newton(@Fb,@JFb,x0b,1e-4,100,yb)"
   ]
  },
  {
   "cell_type": "markdown",
   "metadata": {},
   "source": [
    "`Newton estacionario`"
   ]
  },
  {
   "cell_type": "code",
   "execution_count": 17,
   "metadata": {},
   "outputs": [
    {
     "name": "stdout",
     "output_type": "stream",
     "text": [
      "xminb =\n",
      "\n",
      "  -1.322134777759221e-05   3.000013221347777e+00\n",
      "\n",
      "yb =\n",
      "\n",
      "   0   3\n",
      "\n",
      "e_newton_estacionario =    1.869780933984377e-05\n"
     ]
    }
   ],
   "source": [
    "[xminb,yb,e_newton_estacionario]=newtonestacionario(@Fb,@JFb,x0b,1e-4,100,yb)"
   ]
  },
  {
   "cell_type": "markdown",
   "metadata": {},
   "source": [
    "`Newton Estacionario con refresh`"
   ]
  },
  {
   "cell_type": "code",
   "execution_count": 18,
   "metadata": {},
   "outputs": [
    {
     "name": "stdout",
     "output_type": "stream",
     "text": [
      "xminb =\n",
      "\n",
      "  -2.390621430127093e-07   3.000000239062143e+00\n",
      "\n",
      "yb =\n",
      "\n",
      "   0   3\n",
      "\n",
      "e_estacionario_refresh =    3.380849248686507e-07\n"
     ]
    }
   ],
   "source": [
    "[xminb,yb,e_estacionario_refresh]=newtonconrefresh(@Fb,@JFb,x0b,1e-4,100,5,yb)"
   ]
  },
  {
   "cell_type": "markdown",
   "metadata": {},
   "source": [
    "`Méotodo de Broyden`"
   ]
  },
  {
   "cell_type": "code",
   "execution_count": 19,
   "metadata": {},
   "outputs": [
    {
     "name": "stdout",
     "output_type": "stream",
     "text": [
      "xminb =\n",
      "\n",
      "  -1.332561801562241e-06   3.000001332561801e+00\n",
      "\n",
      "yb =\n",
      "\n",
      "   0   3\n",
      "\n",
      "e_broyden =    1.884526972318311e-06\n"
     ]
    }
   ],
   "source": [
    "[xminb,yb,e_broyden]=Broyden(@Fb,@JFb,x0b,1e-4,100,yb)"
   ]
  },
  {
   "cell_type": "markdown",
   "metadata": {},
   "source": [
    "En este ejercicio, observamos que el algoritmo que mejor converge es el del método de `Newton Estacionario con refresh` al actualizar la matriz jacobiana cada 5 iteraciones."
   ]
  },
  {
   "cell_type": "markdown",
   "metadata": {},
   "source": [
    "$(c)$ $F(x) = \n",
    "\\begin{pmatrix}\n",
    "    x_1^2 + x_2^2 - 2 \\\\\n",
    "    e^{x_1-1} + x_2^3 -2\n",
    "\\end{pmatrix}$\n",
    "\n",
    "$x_* = (1,1)$, $ x_0 = (1.5,2)$"
   ]
  },
  {
   "cell_type": "code",
   "execution_count": 20,
   "metadata": {},
   "outputs": [
    {
     "name": "stdout",
     "output_type": "stream",
     "text": [
      "yc =\n",
      "\n",
      "   1   1\n",
      "\n",
      "x0c =\n",
      "\n",
      "   1.500000000000000   2.000000000000000\n",
      "\n"
     ]
    }
   ],
   "source": [
    "yc=[1,1]\n",
    "x0c=[1.5, 2]"
   ]
  },
  {
   "cell_type": "code",
   "execution_count": 21,
   "metadata": {},
   "outputs": [],
   "source": [
    "function F=Fc(x)\n",
    "F=[x(1)^2+x(2)^2-2, exp(x(1)-1)+(x(2)^3-2)];\n",
    "endfunction"
   ]
  },
  {
   "cell_type": "code",
   "execution_count": 22,
   "metadata": {},
   "outputs": [],
   "source": [
    "function JF=JFc(x)\n",
    "JF=[2*x(1),2*x(2); exp(x(1)-1), 3*(x(2)^2)];\n",
    "endfunction"
   ]
  },
  {
   "cell_type": "markdown",
   "metadata": {},
   "source": [
    "`Newton`"
   ]
  },
  {
   "cell_type": "code",
   "execution_count": 23,
   "metadata": {},
   "outputs": [
    {
     "name": "stdout",
     "output_type": "stream",
     "text": [
      "xminc =\n",
      "\n",
      "   9.999998280535310e-01   1.000000357219383e+00\n",
      "\n",
      "yc =\n",
      "\n",
      "   1   1\n",
      "\n",
      "e_newton =    3.964483263074689e-07\n"
     ]
    }
   ],
   "source": [
    "[xminc,yc,e_newton] = newton(@Fc,@JFc,x0c,1e-4,100,yc)"
   ]
  },
  {
   "cell_type": "markdown",
   "metadata": {},
   "source": [
    "`Newton estacionario`"
   ]
  },
  {
   "cell_type": "code",
   "execution_count": 24,
   "metadata": {},
   "outputs": [
    {
     "name": "stdout",
     "output_type": "stream",
     "text": [
      "xminc =\n",
      "\n",
      "   9.999609873087860e-01   1.000045651863008e+00\n",
      "\n",
      "yc =\n",
      "\n",
      "   1   1\n",
      "\n",
      "e_newton_estacionario =    6.005066753855572e-05\n"
     ]
    }
   ],
   "source": [
    "[xminc,yc,e_newton_estacionario]=newtonestacionario(@Fc,@JFc,x0c,1e-4,100,yc)"
   ]
  },
  {
   "cell_type": "markdown",
   "metadata": {},
   "source": [
    "`Newton Estacionario con refresh`"
   ]
  },
  {
   "cell_type": "code",
   "execution_count": 25,
   "metadata": {},
   "outputs": [
    {
     "name": "stdout",
     "output_type": "stream",
     "text": [
      "xminc =\n",
      "\n",
      "   9.999999983413719e-01   1.000000003060691e+00\n",
      "\n",
      "yc =\n",
      "\n",
      "   1   1\n",
      "\n",
      "e_estacionario_refresh =    3.481217921557920e-09\n"
     ]
    }
   ],
   "source": [
    "[xminc,yc,e_estacionario_refresh]=newtonconrefresh(@Fc,@JFc,x0c,1e-4,100,5,yc)"
   ]
  },
  {
   "cell_type": "markdown",
   "metadata": {},
   "source": [
    "`Méotodo de Broyden`"
   ]
  },
  {
   "cell_type": "code",
   "execution_count": 26,
   "metadata": {},
   "outputs": [
    {
     "name": "stdout",
     "output_type": "stream",
     "text": [
      "xminc =\n",
      "\n",
      "   9.999981826950856e-01   1.000000003888380e+00\n",
      "\n",
      "yc =\n",
      "\n",
      "   1   1\n",
      "\n",
      "e_broyden =    1.817309074305518e-06\n"
     ]
    }
   ],
   "source": [
    "[xminc,yc,e_broyden]=Broyden(@Fc,@JFc,x0c,1e-4,100,yc)"
   ]
  },
  {
   "cell_type": "markdown",
   "metadata": {},
   "source": [
    "En este ejercicio, observamos que el algoritmo que mejor converge es el del método de `Newton Estacionario con refresh` al actualizar la matriz jacobiana cada 5 iteraciones."
   ]
  },
  {
   "cell_type": "markdown",
   "metadata": {},
   "source": [
    "$(d)$ $F(x) =\n",
    "\\begin{pmatrix}\n",
    "    10(x_2-x_1^2) \\\\\n",
    "    1-x_1\n",
    "\\end{pmatrix}$\n",
    "\n",
    "$x_* = (1,1)$, $x_0 = (-1.2,1)$"
   ]
  },
  {
   "cell_type": "code",
   "execution_count": 27,
   "metadata": {},
   "outputs": [
    {
     "name": "stdout",
     "output_type": "stream",
     "text": [
      "yd =\n",
      "\n",
      "   1   1\n",
      "\n",
      "x0d =\n",
      "\n",
      "  -1.200000000000000   1.000000000000000\n",
      "\n"
     ]
    }
   ],
   "source": [
    "yd=[1,1]\n",
    "x0d=[-1.2, 1]"
   ]
  },
  {
   "cell_type": "code",
   "execution_count": 28,
   "metadata": {},
   "outputs": [],
   "source": [
    "function F=Fd(x)\n",
    "F=[10*(x(2)-(x(1)^2)), 1-x(1)];\n",
    "endfunction"
   ]
  },
  {
   "cell_type": "code",
   "execution_count": 29,
   "metadata": {},
   "outputs": [],
   "source": [
    "function JF=JFd(x)\n",
    "JF=[20*x(1),10; -1, 0];\n",
    "endfunction"
   ]
  },
  {
   "cell_type": "markdown",
   "metadata": {},
   "source": [
    "`Newton`"
   ]
  },
  {
   "cell_type": "code",
   "execution_count": 30,
   "metadata": {},
   "outputs": [
    {
     "name": "stdout",
     "output_type": "stream",
     "text": [
      "xmind =\n",
      "\n",
      "   1.000000000000000   1.000000000000001\n",
      "\n",
      "yd =\n",
      "\n",
      "   1   1\n",
      "\n",
      "e_newton =    8.881784197001252e-16\n"
     ]
    }
   ],
   "source": [
    "[xmind,yd,e_newton] = newton(@Fd,@JFd,x0d,1e-4,100,yd)"
   ]
  },
  {
   "cell_type": "markdown",
   "metadata": {},
   "source": [
    "`Newton estacionario`"
   ]
  },
  {
   "cell_type": "code",
   "execution_count": 31,
   "metadata": {},
   "outputs": [
    {
     "name": "stdout",
     "output_type": "stream",
     "text": [
      "xmind =\n",
      "\n",
      "   1.000000000000000e+00   9.999999999999991e-01\n",
      "\n",
      "yd =\n",
      "\n",
      "   1   1\n",
      "\n",
      "e_newton_estacionario =    8.881784197001252e-16\n"
     ]
    }
   ],
   "source": [
    "[xmind,yd,e_newton_estacionario]=newtonestacionario(@Fd,@JFd,x0d,1e-4,100,yd)"
   ]
  },
  {
   "cell_type": "markdown",
   "metadata": {},
   "source": [
    "`Newton Estacionario con refresh`"
   ]
  },
  {
   "cell_type": "code",
   "execution_count": 32,
   "metadata": {},
   "outputs": [
    {
     "name": "stdout",
     "output_type": "stream",
     "text": [
      "xmind =\n",
      "\n",
      "   1.000000000000000e+00   9.999999999999991e-01\n",
      "\n",
      "yd =\n",
      "\n",
      "   1   1\n",
      "\n",
      "e_estacionario_refresh =    8.881784197001252e-16\n"
     ]
    }
   ],
   "source": [
    "[xmind,yd,e_estacionario_refresh]=newtonconrefresh(@Fd,@JFd,x0d,1e-4,100,5,yd)"
   ]
  },
  {
   "cell_type": "markdown",
   "metadata": {},
   "source": [
    "`Méotodo de Broyden`"
   ]
  },
  {
   "cell_type": "code",
   "execution_count": 33,
   "metadata": {},
   "outputs": [
    {
     "name": "stdout",
     "output_type": "stream",
     "text": [
      "xmind =\n",
      "\n",
      "   1   1\n",
      "\n",
      "yd =\n",
      "\n",
      "   1   1\n",
      "\n",
      "e_broyden = 0\n"
     ]
    }
   ],
   "source": [
    "[xmind,yd,e_broyden]=Broyden(@Fd,@JFd,x0d,1e-4,100,yd)"
   ]
  },
  {
   "cell_type": "markdown",
   "metadata": {},
   "source": [
    "En este inciso vemos que el método que converge de un modo *exacto*, es decir, sin errores, es el `Méotodo de Broyden` mientras que los demás dan un error que puede considerarse un *cero de máquina* y todos arrojan el mismo resultado."
   ]
  },
  {
   "cell_type": "markdown",
   "metadata": {},
   "source": [
    "$(e)$ $F$ dada por:\n",
    "\n",
    "$f_1(x) = (3-2x_1)x_1-2x_2+1$\n",
    "\n",
    "$f_i(x) = (3-2x_i)x_i-x_{i-1}-2x_{i+1}+1$, para $i = 2:9$\n",
    "\n",
    "$f_{10}(x) = (3-2x_{10})x_{10}-x_9+1$\n",
    "\n",
    "$x_0 = (-1,-1,...,-1)$"
   ]
  },
  {
   "cell_type": "code",
   "execution_count": 34,
   "metadata": {},
   "outputs": [
    {
     "name": "stdout",
     "output_type": "stream",
     "text": [
      "x0e =\n",
      "\n",
      "  -1  -1  -1  -1  -1  -1  -1  -1  -1  -1\n",
      "\n"
     ]
    }
   ],
   "source": [
    "x0e=-ones(1,10)\n"
   ]
  },
  {
   "cell_type": "code",
   "execution_count": 35,
   "metadata": {},
   "outputs": [],
   "source": [
    "function F=Fe(x)\n",
    "F=zeros(1,10);\n",
    "F(1)=(3-2*x(1))*x(1)-2*x(2)+1;\n",
    "for i=2:9\n",
    "F(i)=(3-2*x(i))*x(i)-x(i-1)-2*x(i+1)+1;\n",
    "end\n",
    "F(10)=(3-2*x(10))*x(10)-x(9)+1;\n",
    "\n",
    "endfunction "
   ]
  },
  {
   "cell_type": "code",
   "execution_count": 36,
   "metadata": {},
   "outputs": [],
   "source": [
    "function JF=JFe(x)\n",
    "JF=3*eye(10);\n",
    "for i=1:9\n",
    "    JF(i,i+1)=-2;\n",
    "end\n",
    "for j=2:10\n",
    "    JF(j,j-1)=-1;\n",
    "end\n",
    "for k=1:10\n",
    "    JF(k,k)=JF(k,k)-4*x(k);\n",
    "end\n",
    "endfunction "
   ]
  },
  {
   "cell_type": "markdown",
   "metadata": {},
   "source": [
    "`Newton`"
   ]
  },
  {
   "cell_type": "code",
   "execution_count": 37,
   "metadata": {},
   "outputs": [
    {
     "name": "stdout",
     "output_type": "stream",
     "text": [
      "No hay punto óptimo de referencia para comparar\n",
      "norma =  2.054545341032465\n",
      "xmine =\n",
      "\n",
      " Columns 1 through 3:\n",
      "\n",
      "  -5.707248899422406e-01  -6.818091012988381e-01  -7.022117660766358e-01\n",
      "\n",
      " Columns 4 through 6:\n",
      "\n",
      "  -7.055123997532535e-01  -7.049085660379604e-01  -7.015005403045774e-01\n",
      "\n",
      " Columns 7 through 9:\n",
      "\n",
      "  -6.918963810592651e-01  -6.658091347098586e-01  -5.960545365666399e-01\n",
      "\n",
      " Column 10:\n",
      "\n",
      "  -4.164305296849135e-01\n",
      "\n"
     ]
    }
   ],
   "source": [
    "xmine = newton(@Fe,@JFe,x0e,1e-4,100)"
   ]
  },
  {
   "cell_type": "markdown",
   "metadata": {},
   "source": [
    "`Newton estacionario`"
   ]
  },
  {
   "cell_type": "code",
   "execution_count": 38,
   "metadata": {},
   "outputs": [
    {
     "name": "stdout",
     "output_type": "stream",
     "text": [
      "No hay punto óptimo de referencia para comparar\n",
      "norma =  2.054543219961177\n",
      "xmine =\n",
      "\n",
      " Columns 1 through 3:\n",
      "\n",
      "  -5.707240087847397e-01  -6.818084915233514e-01  -7.022115489285672e-01\n",
      "\n",
      " Columns 4 through 6:\n",
      "\n",
      "  -7.055124651257466e-01  -7.049088512176073e-01  -7.015008733966193e-01\n",
      "\n",
      " Columns 7 through 9:\n",
      "\n",
      "  -6.918962343519373e-01  -6.658075109157250e-01  -5.960510985774672e-01\n",
      "\n",
      " Column 10:\n",
      "\n",
      "  -4.164292433974416e-01\n",
      "\n"
     ]
    }
   ],
   "source": [
    "xmine=newtonestacionario(@Fe,@JFe,x0e,1e-4,100)"
   ]
  },
  {
   "cell_type": "markdown",
   "metadata": {},
   "source": [
    "`Newton Estacionario con refresh`"
   ]
  },
  {
   "cell_type": "code",
   "execution_count": 39,
   "metadata": {},
   "outputs": [
    {
     "name": "stdout",
     "output_type": "stream",
     "text": [
      "No hay punto óptimo de referencia para comparar\n",
      "norma =  2.054524793679143\n",
      "xmine =\n",
      "\n",
      " Columns 1 through 3:\n",
      "\n",
      "  -5.707221358904505e-01  -6.818069531931934e-01  -7.022100790469721e-01\n",
      "\n",
      " Columns 4 through 6:\n",
      "\n",
      "  -7.055106342822092e-01  -7.049061639722159e-01  -7.014966240007136e-01\n",
      "\n",
      " Columns 7 through 9:\n",
      "\n",
      "  -6.918893572905522e-01  -6.657965808413541e-01  -5.960352112260985e-01\n",
      "\n",
      " Column 10:\n",
      "\n",
      "  -4.164123479439683e-01\n",
      "\n"
     ]
    }
   ],
   "source": [
    "xmine=newtonconrefresh(@Fe,@JFe,x0e,1e-6,100,4)"
   ]
  },
  {
   "cell_type": "markdown",
   "metadata": {},
   "source": [
    "`Método de Broyden`"
   ]
  },
  {
   "cell_type": "code",
   "execution_count": 40,
   "metadata": {},
   "outputs": [
    {
     "name": "stdout",
     "output_type": "stream",
     "text": [
      "No hay punto óptimo de referencia para comparar\n",
      "norma =  2.054525961023157\n",
      "xmine =\n",
      "\n",
      " Columns 1 through 3:\n",
      "\n",
      "  -5.707158988885547e-01  -6.818032636339446e-01  -7.022096010009772e-01\n",
      "\n",
      " Columns 4 through 6:\n",
      "\n",
      "  -7.055123682427044e-01  -7.049092366220059e-01  -7.015001428914708e-01\n",
      "\n",
      " Columns 7 through 9:\n",
      "\n",
      "  -6.918920774734860e-01  -6.657973007846727e-01  -5.960345351109219e-01\n",
      "\n",
      " Column 10:\n",
      "\n",
      "  -4.164147325579162e-01\n",
      "\n"
     ]
    }
   ],
   "source": [
    "xmine=Broyden(@Fe,@JFe,x0e,1e-4,100)"
   ]
  },
  {
   "cell_type": "code",
   "execution_count": 41,
   "metadata": {},
   "outputs": [
    {
     "name": "stdout",
     "output_type": "stream",
     "text": [
      "ans =    3.805485147653437e-05\n"
     ]
    }
   ],
   "source": [
    "norm(Fe(xmine))"
   ]
  },
  {
   "cell_type": "markdown",
   "metadata": {},
   "source": [
    "En este último inciso, sorprendentemente, obtuvimos el mismo resultado para cada uno de los métodos dados. La norma de la función evaluada en el punto obtenido está calculada en la celda inmediatamente anterior."
   ]
  },
  {
   "cell_type": "markdown",
   "metadata": {},
   "source": [
    "$OP-P3-E3$ Primero debemos implementar el algoritmo de minimización irrestricta con búsqueda lineal y backtracking usando como dirección la obtenida por el método de Newton modificado. Lugeo procedremos a probar la implementación con algunos ejemplos.\n",
    "Para ello, implementaremos antes algunos algotimos auxiliares, a saber:\n",
    "- `choleskycomp`, que calcula el factor de Cholesky de una matriz simétrica y definida positiva;\n",
    "- `backtracking`;\n",
    "- `soltrinf`, implementado para resolver sistemas de ecuaciones lineales donde la matriz es triangular inferior; y\n",
    "- `soltrsup`, implementado para resolver sistemas de ecuaciones lineales donde la matriz es triangular superior.\n"
   ]
  },
  {
   "cell_type": "code",
   "execution_count": 42,
   "metadata": {},
   "outputs": [],
   "source": [
    "function L = choleskycomp(A)\n",
    "\n",
    "\n",
    "n = size(A)(1);\n",
    "N=(A');\n",
    "if (not(prod(prod(A == N))))\n",
    "    disp(\"La matriz no es simétrica\");\n",
    "end\n",
    "\n",
    "for i = 1:n\n",
    "    for k = 1:(i-1)\n",
    "        A(i,i) = A(i,i) - A(k,i)^2;\n",
    "    end\n",
    "    if A(i,i) <= 0\n",
    "        L=zeros(n,n);\n",
    "        return;\n",
    "    end\n",
    "    A(i,i) = sqrt(A(i,i));\n",
    "    for j = (i+1):n\n",
    "        for k = 1:(i-1)\n",
    "            A(i,j) = A(i,j) - A(k,i) * A(k,j);\n",
    "        end\n",
    "        A(i,j) = A(i,j) / A(i,i);\n",
    "    end\n",
    "end\n",
    "L=triu(A);\n",
    "end\n",
    "\n"
   ]
  },
  {
   "cell_type": "code",
   "execution_count": 43,
   "metadata": {},
   "outputs": [],
   "source": [
    "function t= backtracking(F,JF, x, d, t, p=0.5, a=1e-4)\n",
    "q= F(x);\n",
    "g=JF(x);\n",
    "while F(x + t*d) > q + a*t*(g'*d)\n",
    "t = t*p;\n",
    "end\n",
    "end\n"
   ]
  },
  {
   "cell_type": "code",
   "execution_count": 44,
   "metadata": {},
   "outputs": [],
   "source": [
    "function x = soltrinf(A, b)\n",
    "  n = length(A);\n",
    "    d = 1;\n",
    "    for i = 1:n\n",
    "        d = d * A(i,i);\n",
    "    endfor\n",
    "    if(d != 0.0)\n",
    "        for i = 1:n\n",
    "          x(i) = b(i);\n",
    "        for j = 1:1:i-1\n",
    "            x(i) = x(i)-x(j)*A(i,j);\n",
    "             endfor\n",
    "             x(i) = x(i)/A(i,i);\n",
    "        endfor\n",
    "    else\n",
    "    printf(\"Error: la matriz es singular\");\n",
    "    endif\n",
    "endfunction"
   ]
  },
  {
   "cell_type": "code",
   "execution_count": 45,
   "metadata": {},
   "outputs": [],
   "source": [
    "function x = soltrsup(A, b)\n",
    "  n = length(b);\n",
    "    d = 1;\n",
    "    for i = 1:n\n",
    "        d = d * A(i,i);\n",
    "    endfor\n",
    "    if(d != 0.0)\n",
    "        for i = n:-1:1\n",
    "          x(i) = b(i);\n",
    "        for j = n:-1:i+1\n",
    "            x(i) = x(i)-x(j)*A(i,j);\n",
    "      endfor\n",
    "          x(i) = x(i)/A(i,i);\n",
    "    endfor\n",
    "    else\n",
    "        printf(\"Error: la matriz es singular\");\n",
    "    endif\n",
    "endfunction\n"
   ]
  },
  {
   "cell_type": "markdown",
   "metadata": {},
   "source": [
    "Ahora que tenemos nuestras rutinas auxiliares, procedemos a implementar el algortimo `min_back` que calcula lo deseado:"
   ]
  },
  {
   "cell_type": "code",
   "execution_count": 46,
   "metadata": {},
   "outputs": [],
   "source": [
    "function x0= min_back(F, JF, HF, a, b, o, x0, tol,iter)\n",
    "g=JF(x0);\n",
    "h=1;\n",
    "n=length(x0);\n",
    "y=zeros(n);\n",
    "m=1;\n",
    "je=1;\n",
    "k=1;\n",
    "Hf=HF(x0);\n",
    "while(norm(g)>tol)\n",
    "B=Hf;\n",
    "E=Hf;\n",
    "j=1;\n",
    "e=1;\n",
    "L = choleskycomp(Hf); #en este paso verificamos si HF es definida positiva, sino lo es sumamos m*Id hasta que lo sea\n",
    "        while(L==zeros(n,n))\n",
    "        B=HF(x0)+m*e*eye(n);\n",
    "        Hf=B;\n",
    "        e=e+1;\n",
    "        L = choleskycomp(Hf);\n",
    "        endwhile\n",
    "        e=1;\n",
    "        LT=L';\n",
    "            z=soltrinf(LT,-g);\n",
    "            y=soltrsup(L,z);\n",
    "                while(g*y'>-o*norm(g)*norm(y)) #verificamos que cumpla condición del ángulo de no hacerlo volvemos al paso anterior\n",
    "                m=10*k;\n",
    "                I=m*eye(n);\n",
    "                E=E+I;\n",
    "                Hf=E;\n",
    "                k=k+1;\n",
    "                L = choleskycomp(Hf);\n",
    "                 while(L==zeros(n,n))\n",
    "                B=Hf(x0)+m*e*eye(n);\n",
    "                Hf=B;\n",
    "                e=e+1;\n",
    "                L = choleskycomp(Hf);\n",
    "                endwhile\n",
    "                z=soltrinf(LT,-g);\n",
    "                y=soltrsup(L,z);\n",
    "                endwhile\n",
    "                w1=norm(g);\n",
    "                w2=norm(y);\n",
    "                    if(w2<b*w1) #en este paso ajustamos la direccón y\n",
    "                w=(w1/w2);\n",
    "                y=w*y;\n",
    "                endif\n",
    "                x1=x0+h*y;\n",
    "                x2=F(x0);\n",
    "                x2=x2+a*h*g*y';\n",
    "                a1=F(x1);\n",
    "                a2=x2;\n",
    "                while (a1>a2)\n",
    "                h= backtracking(@F, @JF,x0, y, h, p=0.5, a=1e-4); #aplicamos backtraacking hasta que F(x0+h*y)<=F(x0)+a*h*g*y'\n",
    "                j=j+1;\n",
    "                x1=x0+h*y;\n",
    "                x2=F(y);\n",
    "                x2=x2+a*h*g*y';\n",
    "                a1=F(x1);\n",
    "                a2=x2;\n",
    "                endwhile\n",
    "                x0=x0+h*y; #actualizamos los datos\n",
    "                g=JF(x0);\n",
    "                Hf=HF(x0);\n",
    "                B=Hf;\n",
    "                E=Hf;\n",
    "                m=1;\n",
    "                #k=1;\n",
    "                j=j+1;\n",
    "                h=1;\n",
    "                #je=je+1;\n",
    "                e=1;\n",
    "                endwhile\n",
    "                \n",
    "            \n",
    "        end"
   ]
  },
  {
   "cell_type": "markdown",
   "metadata": {},
   "source": [
    "Ahora sí, estamos en condiciones de probar nuestra implementación con los siguientes ejemplos. En cada uno procederemos a programar la función objetivo, su Jacobiana y su Hessiana. "
   ]
  },
  {
   "cell_type": "markdown",
   "metadata": {},
   "source": [
    "$(a)$ $f(x)=x_1^2+x_2^2+x_3^2$ con $x_0=(1,1,1)$"
   ]
  },
  {
   "cell_type": "code",
   "execution_count": 47,
   "metadata": {},
   "outputs": [
    {
     "name": "stdout",
     "output_type": "stream",
     "text": [
      "x0_a =\n",
      "\n",
      "   1   1   1\n",
      "\n"
     ]
    }
   ],
   "source": [
    "#Cargamos el vector inicial para correr nuestro algoritmo\n",
    "x0_a=ones(1,3)"
   ]
  },
  {
   "cell_type": "code",
   "execution_count": 48,
   "metadata": {},
   "outputs": [],
   "source": [
    "function F=F(x)\n",
    "F=norm(x)^2;\n",
    "end"
   ]
  },
  {
   "cell_type": "code",
   "execution_count": 49,
   "metadata": {},
   "outputs": [],
   "source": [
    "function JF=JF(x)\n",
    "JF=[2*x(1) 2*x(2) 2*x(3)];\n",
    "end"
   ]
  },
  {
   "cell_type": "code",
   "execution_count": 50,
   "metadata": {},
   "outputs": [],
   "source": [
    "function HF=HF(x)\n",
    "HF=2*eye(3);\n",
    "end"
   ]
  },
  {
   "cell_type": "code",
   "execution_count": 51,
   "metadata": {},
   "outputs": [
    {
     "name": "stdout",
     "output_type": "stream",
     "text": [
      "x_min_a =\n",
      "\n",
      "   0   0   0\n",
      "\n"
     ]
    }
   ],
   "source": [
    "x_min_a= min_back(@F, @JF, @HF, 1e-4, 4, 1e-6, x0_a, 1,100)"
   ]
  },
  {
   "cell_type": "markdown",
   "metadata": {},
   "source": [
    "El resultado obtenido es el vector nulo, que sabemos que es el único cuya norma es cero. Por lo tanto, podemos afirmar que nuestra solución obtenida con `min_back`es exacta"
   ]
  },
  {
   "cell_type": "markdown",
   "metadata": {},
   "source": [
    "$(b)$ $f(x)=(x_1+x_2)^4+x_2^2$ con $x_0=(-2,2)$"
   ]
  },
  {
   "cell_type": "code",
   "execution_count": 52,
   "metadata": {},
   "outputs": [
    {
     "name": "stdout",
     "output_type": "stream",
     "text": [
      "x0_b =\n",
      "\n",
      "  -2   2\n",
      "\n"
     ]
    }
   ],
   "source": [
    "#Cargamos el vector inicial para correr nuestro algoritmo\n",
    "x0_b=[-2 2]"
   ]
  },
  {
   "cell_type": "code",
   "execution_count": 53,
   "metadata": {},
   "outputs": [],
   "source": [
    "function F=F(x)\n",
    "F=(x(1)+x(2))^4+x(2)^2;\n",
    "end"
   ]
  },
  {
   "cell_type": "code",
   "execution_count": 54,
   "metadata": {},
   "outputs": [],
   "source": [
    "function JF=JF(x)\n",
    "JF=[4*((x(1)+x(2)))^3 4*((x(1)+x(2)))^3+2*x(2)];\n",
    "end"
   ]
  },
  {
   "cell_type": "code",
   "execution_count": 55,
   "metadata": {},
   "outputs": [],
   "source": [
    "function HF=HF(x)\n",
    "HF=[12*(x(1)+x(2))^2 12*(x(1)+x(2))^2;12*(x(1)+x(2))^2 12*(x(1)+x(2))^2+2];\n",
    "end"
   ]
  },
  {
   "cell_type": "code",
   "execution_count": 56,
   "metadata": {},
   "outputs": [
    {
     "name": "stdout",
     "output_type": "stream",
     "text": [
      "x_min_b =\n",
      "\n",
      "  -3.275335648990002e-05  -3.101211373546269e-05\n",
      "\n"
     ]
    }
   ],
   "source": [
    "x_min_b= min_back(@F, @JF,@HF, 1e-4, 4, 1e-6, x0_b, 1e-4,50)"
   ]
  },
  {
   "cell_type": "code",
   "execution_count": 57,
   "metadata": {},
   "outputs": [
    {
     "name": "stdout",
     "output_type": "stream",
     "text": [
      "ans =    9.617512148739160e-10\n"
     ]
    }
   ],
   "source": [
    "F(x_min_b)"
   ]
  },
  {
   "cell_type": "markdown",
   "metadata": {},
   "source": [
    "Aquí vemos que nuestra solución es un vector cuyas componenes son muy pequeñas y aproximan a cero en cada componente, lo que es correcto ya que el mínimo de esta función está en el punto $x=(0,0)$ y en el mismo vale $F(x)=0$"
   ]
  },
  {
   "cell_type": "markdown",
   "metadata": {},
   "source": [
    "$(c)$ $f(x)=1000(x_2-x_1^2)^2+x_2^2$ con $x_0=(-1.2,1)$"
   ]
  },
  {
   "cell_type": "code",
   "execution_count": 58,
   "metadata": {},
   "outputs": [
    {
     "name": "stdout",
     "output_type": "stream",
     "text": [
      "x0_c =\n",
      "\n",
      "  -1.200000000000000   1.000000000000000\n",
      "\n"
     ]
    }
   ],
   "source": [
    "#Cargamos el vector inicial para correr nuestro algoritmo\n",
    "x0_c=[-1.2 1]"
   ]
  },
  {
   "cell_type": "code",
   "execution_count": 59,
   "metadata": {},
   "outputs": [],
   "source": [
    "function F=F(x)\n",
    "F=100*((x(2)-x(1)^2))^2+x(2)^2;\n",
    "end"
   ]
  },
  {
   "cell_type": "code",
   "execution_count": 60,
   "metadata": {},
   "outputs": [],
   "source": [
    "function JF=JF(x)\n",
    "JF=[-400*(x(2)-x(1)^2)*x(1) 200*(x(2)-x(1)^2)+2*x(2)];\n",
    "end"
   ]
  },
  {
   "cell_type": "code",
   "execution_count": 61,
   "metadata": {},
   "outputs": [],
   "source": [
    "function HF=HF(x)\n",
    "HF=[1200*x(1)^2-400*x(2) -400*x(1); -400*x(1) 202];\n",
    "end"
   ]
  },
  {
   "cell_type": "code",
   "execution_count": 62,
   "metadata": {},
   "outputs": [
    {
     "name": "stdout",
     "output_type": "stream",
     "text": [
      "x_min_c =\n",
      "\n",
      "  -3.580905061297378e-03   1.231327554882966e-05\n",
      "\n"
     ]
    }
   ],
   "source": [
    "x_min_c= min_back(@F, @JF,@HF, 1e-4, 4, 1e-6, [-1.2,1], 1e-4,1000)"
   ]
  },
  {
   "cell_type": "code",
   "execution_count": 63,
   "metadata": {},
   "outputs": [
    {
     "name": "stdout",
     "output_type": "stream",
     "text": [
      "ans =    1.775865322416488e-10\n"
     ]
    }
   ],
   "source": [
    "F(x_min_c)"
   ]
  },
  {
   "cell_type": "markdown",
   "metadata": {},
   "source": [
    "Aquí nuevamente nuestro algoritmo se acerca a la solución del problema que está en $x=(0,0)$, acercandose con una precisión menor a la pedida. "
   ]
  },
  {
   "cell_type": "markdown",
   "metadata": {},
   "source": [
    "$OP-P4-E3$ Considerar el problema\n",
    "\n",
    "$$Minimizar ~ f(x) = x_1 + x_2$$\n",
    "$$sujeto ~ a ~ x_1 \\geq 0$$\n",
    "$$x_2 \\geq 0$$\n",
    "$$ x_1 + x_2\\leq 1$$\n",
    "\n",
    "Supongamos que se usa la función barrera logarítmica para resolverlo.\n",
    "\n",
    "$a)$ Calcular $x(\\mu)$, $\\lambda(\\mu)$ y $x_*$, $\\lambda_*$.\\\n",
    "En primer lugar observemos que la tercera restricción, $ x_1 + x_2\\leq 1$, es equivalente a $1-(x_1 + x_2)\\geq 0$ y así llamamos:\\\n",
    "$$g_1(x)=x_1,$$\\\n",
    "$$g_2(x)=x_2,$$ y\\\n",
    "$$g_3(x)=x_1 + x_2$$\\\n",
    "Donde $g_i(x)\\leq 0  ~\\forall  ~ i  \\in ~1:3$\\\n",
    "Ahora, la barrera *logarítmica* es $\\phi(x)=-\\sum_{ i  \\in ~1:3} log(g_i(x))$, y así obetenemos la *función barrera*\\\n",
    "$$\\beta_{\\mu}(x)=f(x)-\\mu \\sum_{ i  \\in ~1:3} log(g_i(x))=x_1 + x_2-\\mu log(x_1)-\\mu log(x_2) -\\mu log(1-(x_1+x_2))$$\n",
    "Para $\\mu$ fijo, las condiciones de optimalidad son:\\\n",
    "$$\\Bigg\\{\\begin{matrix}\n",
    "            1 - \\frac{\\mu}{x_1}+ \\frac{\\mu}{1-(x_1+x_2)} = 0\\\\\n",
    "            1 - \\frac{\\mu}{x_2}+ \\frac{\\mu}{1-(x_1+x_2)} = 0\n",
    "            \\end{matrix}$$\\\n",
    "Luego,\\\n",
    "$$1 - \\frac{\\mu}{x_1}+ \\frac{\\mu}{1-(x_1+x_2)}=1 - \\frac{\\mu}{x_2}+ \\frac{\\mu}{1-(x_1+x_2)}$$ de donde,\\\n",
    "$$\\frac{\\mu}{x_1}=\\frac{\\mu}{x_2} \\Leftrightarrow ~ x_1=x_2 ~ (*)$$ Reemplazando en las condiciones de optimalidad, \\\n",
    "$$1 - \\frac{\\mu}{x_1}+ \\frac{\\mu}{1-2x_1)}=0$$ buscando denominador común\\\n",
    "$$ \\frac{x_1(1-2x_1)-\\mu(1-2x_1)+\\mu x_1}{x_1(1-2x_1)}=0$$ si las restricciones son estrictas,\\\n",
    "$$x_1(1-2x_1)-\\mu(1-2x_1)+\\mu x_1=0$$ es decir,\\\n",
    "$$-2 x_1^2+(3\\mu +1)x_1-\\mu=0$$ y tenemos\\\n",
    "$$x_1(\\mu)=\\frac{-(3\\mu +1)\\pm\\sqrt{(3\\mu +1)^2-8\\mu}}{-4}=\\frac{(3\\mu +1)\\mp\\sqrt{(3\\mu +1)^2-8\\mu}}{4}$$ nos quedamos con\\\n",
    "$$x_1(\\mu)=\\frac{(3\\mu +1)-\\sqrt{(3\\mu +1)^2-8\\mu}}{4} ~ (**)$$ y así\\\n",
    "$$x_{1,*}=\\lim_{\\mu\\rightarrow 0} \\frac{(3\\mu +1)-\\sqrt{(3\\mu +1)^2-8\\mu}}{4}= \\frac{(3(0) +1)-\\sqrt{(3(0) +1)^2-8(0)}}{4}=\\frac{1-\\sqrt{1^2}}{4}=0$$ como habíamos establecido en $(*)$, $x_{2,*}=x_{1,*}$ y así\\\n",
    "$$x_*=(0,0)$$\n",
    "También de $(*)$ se desprende que $x_1+x_2=2x_1$ de donde $0\\leq 2x_1\\leq 1$ y de allí podemos concluir que el mínimo de $2x_1$ en esas restricciones se da cuando $x_1=0$ y así también podemos establecer el valor para $x_*$ sin necesidad de tomar límite cuando $\\mu\\rightarrow 0$\\\n",
    "Pasamos a calcular $\\lambda(\\mu)$. Hemos visto que:\n",
    "$$\\lambda_i(\\mu)=\\frac{\\mu}{g_i(x)}$$\n",
    "Por lo cual\\\n",
    "$$\\lambda_1(\\mu)=\\frac{\\mu}{x_1(\\mu)}=\\frac{4\\mu}{(3\\mu +1)-\\sqrt{(3\\mu +1)^2-8\\mu}}$$ por $(*)$,\\\n",
    "$$\\lambda_2(\\mu)=\\frac{\\mu}{x_2(\\mu)}=\\frac{4\\mu}{(3\\mu +1)-\\sqrt{(3\\mu +1)^2-8\\mu}}$$ y finalmente\\\n",
    "$$\\lambda_3(\\mu)=\\frac{\\mu}{1-2x_1(\\mu)}=\\frac{\\mu}{1-\\frac{(3\\mu +1)-\\sqrt{(3\\mu +1)^2-8\\mu}}{2}}$$\n",
    "Calculamos:\n",
    "$$\\lambda_{1,*}=\\lim_{\\mu\\rightarrow 0}\\lambda_1(\\mu)=\\lim_{\\mu\\rightarrow 0}\\frac{\\mu}{x_1(\\mu)}=\\lim_{\\mu\\rightarrow 0}\\frac{4\\mu}{(3\\mu +1)-\\sqrt{(3\\mu +1)^2-8\\mu}}=1$$ y también\n",
    "$$\\lambda_{2,*}=\\lim_{\\mu\\rightarrow 0}\\lambda_2(\\mu)=\\lim_{\\mu\\rightarrow 0}\\frac{\\mu}{x_2(\\mu)}=\\lim_{\\mu\\rightarrow 0}\\frac{4\\mu}{(3\\mu +1)-\\sqrt{(3\\mu +1)^2-8\\mu}}=1$$ por último\n",
    "$$\\lambda_{3,*}=\\lim_{\\mu\\rightarrow 0}\\lambda_3(\\mu)=\\lim_{\\mu\\rightarrow 0}\\frac{\\mu}{1-2x_1(\\mu)}=\\lim_{\\mu\\rightarrow 0}\\frac{\\mu}{1-\\frac{(3\\mu +1)-\\sqrt{(3\\mu +1)^2-8\\mu}}{2}}=0$$ Lo cual establece que $\\lambda_*=(1,1,0)$ \\\n",
    "\n",
    "\n",
    "$b)$ Calcular la matriz Hessiana de la función barrera logarítmica para $\\mu = 10^{-4}$. Calcular la inversa de esta matriz.\n",
    "\n",
    "La Hessiana de la función barrera logarítmica es:\n",
    "\n",
    "$$D^2 \\beta_{\\mu}(x) =\\begin{pmatrix}\n",
    "                                \\frac{\\mu}{x_1^2}+ \\frac{\\mu}{(1-(x_1+x_2))^2} & \\frac{\\mu}{(1-(x_1+x_2))^2} \\\\\n",
    "                                \\frac{\\mu}{(1-(x_1+x_2))^2} & \\frac{\\mu}{x_2^2}+ \\frac{\\mu}{(1-(x_1+x_2))^2}\n",
    "                             \\end{pmatrix}$$\n",
    "Calculamos $x_1(10^{-4})=\\frac{(3\\cdot10^{-4} +1)-\\sqrt{(310^{-4} +1)^2-8\\cdot10^{-4}}}{4}= 0.250050001249875$\n",
    "Así, por $(*)$\\\n",
    "      $$D^2 \\beta_{10^{-4}}(x(10^{-4})) =\\begin{pmatrix}\n",
    "                                \\frac{10^{-4}}{(0.250050001249875)^2}+ \\frac{10^{-4}}{(1-2\\cdot0.250050001249875))^2} & \\frac{\\mu}{(1-(2\\cdot0.250050001249875))^2} \\\\\n",
    "                                \\frac{10^{-4}}{(1-(2\\cdot0.250050001249875))^2} & \\frac{10^{-4}}{(0.250050001249875)^2}+ \\frac{10^{-4}}{(1-2\\cdot0.250050001249875))^2}\n",
    "                             \\end{pmatrix}$$\n",
    "Como calculamos en las celdas siguientes, nos queda:\\\n",
    " $$D^2 \\beta_{10^{-4}}(x(10^{-4})) =\\begin{pmatrix}\n",
    "                                1.999520239961616\\cdot 10^{-3} &  4.001600480128032\\cdot 10^{-4} \\\\\n",
    "                                4.001600480128032\\cdot 10^{-4} & 1.999520239961616\\cdot 10^{-3}\n",
    "                             \\end{pmatrix}$$\n",
    "Cuya inversa es:\\\n",
    " $$[D^2 \\beta_{10^{-4}}(x(10^{-4}))]^{-1} =\\begin{pmatrix}\n",
    "                                 520.9861023108649 &  -104.2639226891352 \\\\\n",
    "                                -104.2639226891352 &  520.9861023108649\n",
    "                             \\end{pmatrix}$$"
   ]
  },
  {
   "cell_type": "code",
   "execution_count": 64,
   "metadata": {},
   "outputs": [
    {
     "name": "stdout",
     "output_type": "stream",
     "text": [
      "mu =    1.000000000000000e-04\n",
      "x_1 =    2.500500000000000e-01\n"
     ]
    }
   ],
   "source": [
    "mu=1e-4\n",
    "x_1=(3*mu+sqrt(1-2*mu+mu^2))/4"
   ]
  },
  {
   "cell_type": "code",
   "execution_count": 65,
   "metadata": {},
   "outputs": [
    {
     "name": "stdout",
     "output_type": "stream",
     "text": [
      "D =\n",
      "\n",
      "   1.999520239961616e-03   4.001600480128032e-04\n",
      "   4.001600480128032e-04   1.999520239961616e-03\n",
      "\n"
     ]
    }
   ],
   "source": [
    "D=[(mu/((x_1)^2))+(mu/((1-2*x_1)^2)) (mu/((1-2*x_1)^2));(mu/((1-2*x_1)^2))  (mu/((x_1)^2))+(mu/((1-2*x_1)^2))]"
   ]
  },
  {
   "cell_type": "code",
   "execution_count": 66,
   "metadata": {},
   "outputs": [
    {
     "name": "stdout",
     "output_type": "stream",
     "text": [
      "ans =\n",
      "\n",
      "   520.9861023108649  -104.2639226891352\n",
      "  -104.2639226891352   520.9861023108649\n",
      "\n"
     ]
    }
   ],
   "source": [
    "inv(D)"
   ]
  }
 ],
 "metadata": {
  "kernelspec": {
   "display_name": "Octave",
   "language": "octave",
   "name": "octave"
  },
  "language_info": {
   "file_extension": ".m",
   "help_links": [
    {
     "text": "GNU Octave",
     "url": "https://www.gnu.org/software/octave/support.html"
    },
    {
     "text": "Octave Kernel",
     "url": "https://github.com/Calysto/octave_kernel"
    },
    {
     "text": "MetaKernel Magics",
     "url": "https://metakernel.readthedocs.io/en/latest/source/README.html"
    }
   ],
   "mimetype": "text/x-octave",
   "name": "octave",
   "version": "5.2.0"
  }
 },
 "nbformat": 4,
 "nbformat_minor": 4
}
